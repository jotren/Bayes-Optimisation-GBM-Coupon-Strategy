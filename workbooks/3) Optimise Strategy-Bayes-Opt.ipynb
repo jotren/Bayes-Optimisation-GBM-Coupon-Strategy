{
 "cells": [
  {
   "cell_type": "markdown",
   "id": "fdbda629-4f50-4821-a3e2-da0a91070749",
   "metadata": {},
   "source": [
    "# ML Optimisation Strategy"
   ]
  },
  {
   "cell_type": "markdown",
   "id": "81a664a1-90c1-4041-aadf-6d731e873efc",
   "metadata": {},
   "source": [
    "## Bayes Optimisation\n",
    "\n",
    "Bayesian optimisation is a better approach to this problem as it able to map non-linear relationships. I will integrate my machine learning model into a Bayesian model so that it can interact with the enviroment and allocat OfferAmt."
   ]
  },
  {
   "cell_type": "code",
   "execution_count": 7,
   "id": "91dd8e2c-0f3f-4762-a5ca-d3972d3f02c3",
   "metadata": {},
   "outputs": [],
   "source": [
    "import pandas as pd\n",
    "from datetime import datetime, timedelta\n",
    "import numpy as np\n",
    "import warnings\n",
    "from bayes_opt import BayesianOptimization\n",
    "from bayes_opt.util import UtilityFunction\n",
    "from skopt import Optimizer\n",
    "from skopt.space import Real\n",
    "from skopt.utils import use_named_args\n",
    "import mlflow\n",
    "\n",
    "pd.set_option('display.float_format', lambda x: '%.6f' % x)\n",
    "\n",
    "warnings.filterwarnings('ignore')\n",
    "\n",
    "import sys\n",
    "sys.path.append('C:/projects/python/coupon-optimisation')"
   ]
  },
  {
   "cell_type": "code",
   "execution_count": 8,
   "id": "ac072882-bd95-4e3d-9c0b-29f46ac56e29",
   "metadata": {},
   "outputs": [],
   "source": [
    "from src.models.XGBoost import XGBoostTrainer\n",
    "from src.models.NeuralNetwork import NeuralNetworkTrainer\n",
    "from src.models.LogisticRegression import LogisticRegressionTrainer\n",
    "from src.models.GradientBoostClassifier import GBMTrainer\n",
    "from src.models.CatBoost import CatBoostTrainer\n",
    "from src.models.LightGradientBoost import LightGBMTrainer\n",
    "from src.optimisers.SKOPT_Optimiser import optimize_offers_skopt\n",
    "from src.optimisers.Bayes_Opt import optimize_offers"
   ]
  },
  {
   "cell_type": "markdown",
   "id": "1fd71596-648c-4077-94fe-d73409722194",
   "metadata": {},
   "source": [
    "Below are the selected features from Optuna"
   ]
  },
  {
   "cell_type": "code",
   "execution_count": 3,
   "id": "12146603-dd48-48cf-a6ec-27259dc6e876",
   "metadata": {},
   "outputs": [],
   "source": [
    "features = [\n",
    "            # 'CouponUsageRate',\n",
    "            'TotalOfferAmtRedeemed',\n",
    "            # 'TotalVisits', \n",
    "            # 'TotalSpendAmt',\n",
    "            'TotalCouponRedeem', \n",
    "            'OfferAmt', \n",
    "            'AverageOfferAmtPerVisit',\n",
    "            'AverageSpendPerVisit',\n",
    "            'TotalOfferAmtReceived',\n",
    "            'n-1_spend',\n",
    "            # 'n-2_spend',\n",
    "            'n-3_spend',\n",
    "            'n-4_spend',\n",
    "            # 'n-5_spend',\n",
    "            # 'MaxSpend',\n",
    "            # 'sensitivity_gradient', \n",
    "            'MinOfferAmt', \n",
    "            # 'MaxOfferAmt',\n",
    "            # 'MedianSpendPerOfferAmt',\n",
    "            'Year',\n",
    "            # 'PatronID',\n",
    "            'Month',\n",
    "            'weekNum'\n",
    "               ]"
   ]
  },
  {
   "cell_type": "markdown",
   "id": "4136c9f5-a162-4f9d-9027-abe9ae7169f8",
   "metadata": {},
   "source": [
    "Next we want to filter the test data based on the date we are interested in."
   ]
  },
  {
   "cell_type": "code",
   "execution_count": 4,
   "id": "279c39a6-948e-478e-aed8-74e3cd50471d",
   "metadata": {},
   "outputs": [],
   "source": [
    "# Load the data\n",
    "optimised_data = pd.read_csv('../data/processed/processed-test-data.csv')\n",
    "\n",
    "# Correctly convert 'UseStartDate' to datetime format before filtering\n",
    "optimised_data['UseStartDate'] = pd.to_datetime(optimised_data['UseStartDate'], errors='coerce')\n",
    "\n",
    "# Filter data to include only rows with 'UseStartDate' of \"2019-07-01\"\n",
    "specific_date = \"2019-07-01\"\n",
    "filtered_data = optimised_data[optimised_data['UseStartDate'] == pd.to_datetime(specific_date)]\n",
    "\n",
    "# Filter data by UseStartDate after a specific date\n",
    "start_date = \"2019-07-01\"\n",
    "filtered_data = filtered_data[filtered_data['UseStartDate'] == pd.to_datetime(start_date)]\n",
    "filtered_data = filtered_data[filtered_data['TotalCouponRedeem'] >= 5]\n",
    "filtered_data.fillna(0, inplace=True)\n",
    "filtered_data.reset_index(inplace=True)"
   ]
  },
  {
   "cell_type": "markdown",
   "id": "9a1cc6fe-d996-490f-9bea-953ddbb6d0cb",
   "metadata": {},
   "source": [
    "\n",
    "### Learnings from Model building\n",
    "\n",
    "This model has been improved through:\n",
    "\n",
    "1) Reducing the size of the dataframe being manupulated\n",
    "2) Use SKOPT from Sklearn\n",
    "3) Doing an iterative approach rather than setting bounds\n",
    "4) Set the intial amounts using x0 and y0"
   ]
  },
  {
   "cell_type": "code",
   "execution_count": 5,
   "id": "bc15ad83-ebc9-4753-a28c-ce2e6812e507",
   "metadata": {},
   "outputs": [
    {
     "data": {
      "text/plain": [
       "113757.0"
      ]
     },
     "execution_count": 5,
     "metadata": {},
     "output_type": "execute_result"
    }
   ],
   "source": [
    "# data_to_optimize = filtered_data.head(20).drop(index=10)\n",
    "data_to_optimize = filtered_data\n",
    "data_to_optimize['OfferAmt'].sum()"
   ]
  },
  {
   "cell_type": "code",
   "execution_count": 6,
   "id": "87852309-e3c7-401b-abd2-8b3d8c0f2fa1",
   "metadata": {},
   "outputs": [
    {
     "name": "stdout",
     "output_type": "stream",
     "text": [
      "Model and scaler loaded.\n",
      "Offer: 22642.760000000002\n",
      "Budget: 113757.0\n",
      "Offer: 28305.760000000002\n",
      "Budget: 113757.0\n"
     ]
    },
    {
     "ename": "KeyboardInterrupt",
     "evalue": "",
     "output_type": "error",
     "traceback": [
      "\u001b[1;31m---------------------------------------------------------------------------\u001b[0m",
      "\u001b[1;31mKeyboardInterrupt\u001b[0m                         Traceback (most recent call last)",
      "Cell \u001b[1;32mIn[6], line 19\u001b[0m\n\u001b[0;32m     12\u001b[0m mlflow\u001b[38;5;241m.\u001b[39mlog_params({\n\u001b[0;32m     13\u001b[0m     \u001b[38;5;124m'\u001b[39m\u001b[38;5;124mrounds\u001b[39m\u001b[38;5;124m'\u001b[39m: rounds,\n\u001b[0;32m     14\u001b[0m     \u001b[38;5;124m'\u001b[39m\u001b[38;5;124mbudget\u001b[39m\u001b[38;5;124m'\u001b[39m: data_to_optimize[\u001b[38;5;124m'\u001b[39m\u001b[38;5;124mOfferAmt\u001b[39m\u001b[38;5;124m'\u001b[39m]\u001b[38;5;241m.\u001b[39msum(),\n\u001b[0;32m     15\u001b[0m     \u001b[38;5;124m'\u001b[39m\u001b[38;5;124mincrement_value\u001b[39m\u001b[38;5;124m'\u001b[39m: increment_value\n\u001b[0;32m     16\u001b[0m })\n\u001b[0;32m     18\u001b[0m \u001b[38;5;66;03m# Perform your optimization\u001b[39;00m\n\u001b[1;32m---> 19\u001b[0m optimised_data \u001b[38;5;241m=\u001b[39m \u001b[43moptimize_offers_skopt\u001b[49m\u001b[43m(\u001b[49m\n\u001b[0;32m     20\u001b[0m \u001b[43m    \u001b[49m\u001b[43mdata\u001b[49m\u001b[38;5;241;43m=\u001b[39;49m\u001b[43mdata_to_optimize\u001b[49m\u001b[43m,\u001b[49m\u001b[43m \u001b[49m\n\u001b[0;32m     21\u001b[0m \u001b[43m    \u001b[49m\u001b[43mmodel\u001b[49m\u001b[38;5;241;43m=\u001b[39;49m\u001b[43mtrainer\u001b[49m\u001b[43m,\u001b[49m\u001b[43m \u001b[49m\n\u001b[0;32m     22\u001b[0m \u001b[43m    \u001b[49m\u001b[43mfeature_names\u001b[49m\u001b[38;5;241;43m=\u001b[39;49m\u001b[43mfeatures\u001b[49m\u001b[43m,\u001b[49m\n\u001b[0;32m     23\u001b[0m \u001b[43m    \u001b[49m\u001b[43mbudget\u001b[49m\u001b[38;5;241;43m=\u001b[39;49m\u001b[43mdata_to_optimize\u001b[49m\u001b[43m[\u001b[49m\u001b[38;5;124;43m'\u001b[39;49m\u001b[38;5;124;43mOfferAmt\u001b[39;49m\u001b[38;5;124;43m'\u001b[39;49m\u001b[43m]\u001b[49m\u001b[38;5;241;43m.\u001b[39;49m\u001b[43msum\u001b[49m\u001b[43m(\u001b[49m\u001b[43m)\u001b[49m\u001b[43m,\u001b[49m\u001b[43m \u001b[49m\n\u001b[0;32m     24\u001b[0m \u001b[43m    \u001b[49m\u001b[43mrounds\u001b[49m\u001b[38;5;241;43m=\u001b[39;49m\u001b[43mrounds\u001b[49m\u001b[43m,\u001b[49m\n\u001b[0;32m     25\u001b[0m \u001b[43m    \u001b[49m\u001b[43mincrement_amount\u001b[49m\u001b[43m \u001b[49m\u001b[38;5;241;43m=\u001b[39;49m\u001b[43m \u001b[49m\u001b[43mincrement_value\u001b[49m\n\u001b[0;32m     26\u001b[0m \u001b[43m\u001b[49m\u001b[43m)\u001b[49m\n\u001b[0;32m     29\u001b[0m optimised_data[\u001b[38;5;124m'\u001b[39m\u001b[38;5;124mResidual\u001b[39m\u001b[38;5;124m'\u001b[39m] \u001b[38;5;241m=\u001b[39m optimised_data[\u001b[38;5;124m'\u001b[39m\u001b[38;5;124mBayesOptExpSpend\u001b[39m\u001b[38;5;124m'\u001b[39m] \u001b[38;5;241m-\u001b[39m optimised_data[\u001b[38;5;124m'\u001b[39m\u001b[38;5;124mSpend\u001b[39m\u001b[38;5;124m'\u001b[39m]\n\u001b[0;32m     30\u001b[0m offer_amt_sum \u001b[38;5;241m=\u001b[39m optimised_data[\u001b[38;5;124m'\u001b[39m\u001b[38;5;124mBayesOptOfferAmt\u001b[39m\u001b[38;5;124m'\u001b[39m]\u001b[38;5;241m.\u001b[39msum()\n",
      "File \u001b[1;32mC:\\projects/python/coupon-optimisation\\src\\optimisers\\SKOPT_Optimiser.py:63\u001b[0m, in \u001b[0;36moptimize_offers_skopt\u001b[1;34m(data, model, feature_names, budget, rounds, increment_amount)\u001b[0m\n\u001b[0;32m     60\u001b[0m     next_offer_amt \u001b[38;5;241m=\u001b[39m [adjust_offer_amount(val \u001b[38;5;241m*\u001b[39m scale_factor, \u001b[38;5;241m0\u001b[39m, space[i]\u001b[38;5;241m.\u001b[39mhigh) \u001b[38;5;28;01mfor\u001b[39;00m i, val \u001b[38;5;129;01min\u001b[39;00m \u001b[38;5;28menumerate\u001b[39m(next_offer_amt)]\n\u001b[0;32m     62\u001b[0m \u001b[38;5;66;03m# Perform optimization with adjusted offers\u001b[39;00m\n\u001b[1;32m---> 63\u001b[0m y \u001b[38;5;241m=\u001b[39m \u001b[43mobjective\u001b[49m\u001b[43m(\u001b[49m\u001b[43mnext_offer_amt\u001b[49m\u001b[43m)\u001b[49m\n\u001b[0;32m     64\u001b[0m optimizer\u001b[38;5;241m.\u001b[39mtell(next_offer_amt, y)\n\u001b[0;32m     66\u001b[0m \u001b[38;5;66;03m# Update current offers for the next iteration\u001b[39;00m\n",
      "File \u001b[1;32mC:\\projects/python/coupon-optimisation\\src\\optimisers\\SKOPT_Optimiser.py:35\u001b[0m, in \u001b[0;36moptimize_offers_skopt.<locals>.objective\u001b[1;34m(params_list)\u001b[0m\n\u001b[0;32m     33\u001b[0m \u001b[38;5;28;01mfor\u001b[39;00m i, offer_amt_param \u001b[38;5;129;01min\u001b[39;00m \u001b[38;5;28menumerate\u001b[39m(params_list):\n\u001b[0;32m     34\u001b[0m     row \u001b[38;5;241m=\u001b[39m data\u001b[38;5;241m.\u001b[39miloc[i]\n\u001b[1;32m---> 35\u001b[0m     prob \u001b[38;5;241m=\u001b[39m \u001b[43mrunMachineLearningPrediction\u001b[49m\u001b[43m(\u001b[49m\u001b[43mrow\u001b[49m\u001b[43m,\u001b[49m\u001b[43m \u001b[49m\u001b[43mmodel\u001b[49m\u001b[43m,\u001b[49m\u001b[43m \u001b[49m\u001b[43mfeature_names\u001b[49m\u001b[43m)\u001b[49m\n\u001b[0;32m     37\u001b[0m     offer_amt_corrected \u001b[38;5;241m=\u001b[39m adjust_offer_amount(offer_amt_param, \u001b[38;5;241m0\u001b[39m, row[\u001b[38;5;124m'\u001b[39m\u001b[38;5;124mMaxOfferAmt\u001b[39m\u001b[38;5;124m'\u001b[39m]) \u001b[38;5;28;01mif\u001b[39;00m prob \u001b[38;5;241m>\u001b[39m\u001b[38;5;241m=\u001b[39m \u001b[38;5;241m0.5\u001b[39m \u001b[38;5;28;01melse\u001b[39;00m \u001b[38;5;241m0\u001b[39m\n\u001b[0;32m     38\u001b[0m     expected_spend \u001b[38;5;241m=\u001b[39m calculate_expected_spend(prob, row[\u001b[38;5;124m'\u001b[39m\u001b[38;5;124mMedianSpendPerOfferAmt\u001b[39m\u001b[38;5;124m'\u001b[39m], offer_amt_corrected)\n",
      "File \u001b[1;32mC:\\projects/python/coupon-optimisation\\src\\optimisers\\SKOPT_Optimiser.py:17\u001b[0m, in \u001b[0;36mrunMachineLearningPrediction\u001b[1;34m(row_for_prediction, model, feature_names)\u001b[0m\n\u001b[0;32m     15\u001b[0m \u001b[38;5;250m\u001b[39m\u001b[38;5;124;03m\"\"\"Preprocess and predict the probability for a given input row using the trainer instance.\"\"\"\u001b[39;00m\n\u001b[0;32m     16\u001b[0m row_df \u001b[38;5;241m=\u001b[39m row_for_prediction\u001b[38;5;241m.\u001b[39mto_frame()\u001b[38;5;241m.\u001b[39mT \u001b[38;5;28;01mif\u001b[39;00m \u001b[38;5;28misinstance\u001b[39m(row_for_prediction, pd\u001b[38;5;241m.\u001b[39mSeries) \u001b[38;5;28;01melse\u001b[39;00m row_for_prediction\n\u001b[1;32m---> 17\u001b[0m predicted_probabilities \u001b[38;5;241m=\u001b[39m \u001b[43mmodel\u001b[49m\u001b[38;5;241;43m.\u001b[39;49m\u001b[43mpredict_df\u001b[49m\u001b[43m(\u001b[49m\u001b[43mrow_df\u001b[49m\u001b[43m,\u001b[49m\u001b[43m \u001b[49m\u001b[43mfeature_names\u001b[49m\u001b[43m)\u001b[49m\n\u001b[0;32m     18\u001b[0m \u001b[38;5;28;01mreturn\u001b[39;00m predicted_probabilities[\u001b[38;5;241m0\u001b[39m] \u001b[38;5;28;01mif\u001b[39;00m \u001b[38;5;28mlen\u001b[39m(predicted_probabilities) \u001b[38;5;241m==\u001b[39m \u001b[38;5;241m1\u001b[39m \u001b[38;5;28;01melse\u001b[39;00m predicted_probabilities\n",
      "File \u001b[1;32mC:\\projects/python/coupon-optimisation\\src\\models\\GradientBoostClassifier.py:46\u001b[0m, in \u001b[0;36mGBMTrainer.predict_df\u001b[1;34m(self, df, feature_names)\u001b[0m\n\u001b[0;32m     44\u001b[0m df_features \u001b[38;5;241m=\u001b[39m df[feature_names]\n\u001b[0;32m     45\u001b[0m \u001b[38;5;66;03m# Preprocess the DataFrame\u001b[39;00m\n\u001b[1;32m---> 46\u001b[0m scaled_features \u001b[38;5;241m=\u001b[39m \u001b[38;5;28;43mself\u001b[39;49m\u001b[38;5;241;43m.\u001b[39;49m\u001b[43mscaler\u001b[49m\u001b[38;5;241;43m.\u001b[39;49m\u001b[43mtransform\u001b[49m\u001b[43m(\u001b[49m\u001b[43mdf_features\u001b[49m\u001b[43m)\u001b[49m\n\u001b[0;32m     47\u001b[0m \u001b[38;5;66;03m# Predict and return probabilities\u001b[39;00m\n\u001b[0;32m     48\u001b[0m probabilities \u001b[38;5;241m=\u001b[39m \u001b[38;5;28mself\u001b[39m\u001b[38;5;241m.\u001b[39mmodel\u001b[38;5;241m.\u001b[39mpredict_proba(scaled_features)[:, \u001b[38;5;241m1\u001b[39m]\n",
      "File \u001b[1;32m~\\anaconda3\\envs\\bayes-optimisation\\lib\\site-packages\\sklearn\\utils\\_set_output.py:140\u001b[0m, in \u001b[0;36m_wrap_method_output.<locals>.wrapped\u001b[1;34m(self, X, *args, **kwargs)\u001b[0m\n\u001b[0;32m    138\u001b[0m \u001b[38;5;129m@wraps\u001b[39m(f)\n\u001b[0;32m    139\u001b[0m \u001b[38;5;28;01mdef\u001b[39;00m \u001b[38;5;21mwrapped\u001b[39m(\u001b[38;5;28mself\u001b[39m, X, \u001b[38;5;241m*\u001b[39margs, \u001b[38;5;241m*\u001b[39m\u001b[38;5;241m*\u001b[39mkwargs):\n\u001b[1;32m--> 140\u001b[0m     data_to_wrap \u001b[38;5;241m=\u001b[39m f(\u001b[38;5;28mself\u001b[39m, X, \u001b[38;5;241m*\u001b[39margs, \u001b[38;5;241m*\u001b[39m\u001b[38;5;241m*\u001b[39mkwargs)\n\u001b[0;32m    141\u001b[0m     \u001b[38;5;28;01mif\u001b[39;00m \u001b[38;5;28misinstance\u001b[39m(data_to_wrap, \u001b[38;5;28mtuple\u001b[39m):\n\u001b[0;32m    142\u001b[0m         \u001b[38;5;66;03m# only wrap the first output for cross decomposition\u001b[39;00m\n\u001b[0;32m    143\u001b[0m         return_tuple \u001b[38;5;241m=\u001b[39m (\n\u001b[0;32m    144\u001b[0m             _wrap_data_with_container(method, data_to_wrap[\u001b[38;5;241m0\u001b[39m], X, \u001b[38;5;28mself\u001b[39m),\n\u001b[0;32m    145\u001b[0m             \u001b[38;5;241m*\u001b[39mdata_to_wrap[\u001b[38;5;241m1\u001b[39m:],\n\u001b[0;32m    146\u001b[0m         )\n",
      "File \u001b[1;32m~\\anaconda3\\envs\\bayes-optimisation\\lib\\site-packages\\sklearn\\preprocessing\\_data.py:1004\u001b[0m, in \u001b[0;36mStandardScaler.transform\u001b[1;34m(self, X, copy)\u001b[0m\n\u001b[0;32m   1001\u001b[0m check_is_fitted(\u001b[38;5;28mself\u001b[39m)\n\u001b[0;32m   1003\u001b[0m copy \u001b[38;5;241m=\u001b[39m copy \u001b[38;5;28;01mif\u001b[39;00m copy \u001b[38;5;129;01mis\u001b[39;00m \u001b[38;5;129;01mnot\u001b[39;00m \u001b[38;5;28;01mNone\u001b[39;00m \u001b[38;5;28;01melse\u001b[39;00m \u001b[38;5;28mself\u001b[39m\u001b[38;5;241m.\u001b[39mcopy\n\u001b[1;32m-> 1004\u001b[0m X \u001b[38;5;241m=\u001b[39m \u001b[38;5;28;43mself\u001b[39;49m\u001b[38;5;241;43m.\u001b[39;49m\u001b[43m_validate_data\u001b[49m\u001b[43m(\u001b[49m\n\u001b[0;32m   1005\u001b[0m \u001b[43m    \u001b[49m\u001b[43mX\u001b[49m\u001b[43m,\u001b[49m\n\u001b[0;32m   1006\u001b[0m \u001b[43m    \u001b[49m\u001b[43mreset\u001b[49m\u001b[38;5;241;43m=\u001b[39;49m\u001b[38;5;28;43;01mFalse\u001b[39;49;00m\u001b[43m,\u001b[49m\n\u001b[0;32m   1007\u001b[0m \u001b[43m    \u001b[49m\u001b[43maccept_sparse\u001b[49m\u001b[38;5;241;43m=\u001b[39;49m\u001b[38;5;124;43m\"\u001b[39;49m\u001b[38;5;124;43mcsr\u001b[39;49m\u001b[38;5;124;43m\"\u001b[39;49m\u001b[43m,\u001b[49m\n\u001b[0;32m   1008\u001b[0m \u001b[43m    \u001b[49m\u001b[43mcopy\u001b[49m\u001b[38;5;241;43m=\u001b[39;49m\u001b[43mcopy\u001b[49m\u001b[43m,\u001b[49m\n\u001b[0;32m   1009\u001b[0m \u001b[43m    \u001b[49m\u001b[43mdtype\u001b[49m\u001b[38;5;241;43m=\u001b[39;49m\u001b[43mFLOAT_DTYPES\u001b[49m\u001b[43m,\u001b[49m\n\u001b[0;32m   1010\u001b[0m \u001b[43m    \u001b[49m\u001b[43mforce_all_finite\u001b[49m\u001b[38;5;241;43m=\u001b[39;49m\u001b[38;5;124;43m\"\u001b[39;49m\u001b[38;5;124;43mallow-nan\u001b[39;49m\u001b[38;5;124;43m\"\u001b[39;49m\u001b[43m,\u001b[49m\n\u001b[0;32m   1011\u001b[0m \u001b[43m\u001b[49m\u001b[43m)\u001b[49m\n\u001b[0;32m   1013\u001b[0m \u001b[38;5;28;01mif\u001b[39;00m sparse\u001b[38;5;241m.\u001b[39missparse(X):\n\u001b[0;32m   1014\u001b[0m     \u001b[38;5;28;01mif\u001b[39;00m \u001b[38;5;28mself\u001b[39m\u001b[38;5;241m.\u001b[39mwith_mean:\n",
      "File \u001b[1;32m~\\anaconda3\\envs\\bayes-optimisation\\lib\\site-packages\\sklearn\\base.py:604\u001b[0m, in \u001b[0;36mBaseEstimator._validate_data\u001b[1;34m(self, X, y, reset, validate_separately, cast_to_ndarray, **check_params)\u001b[0m\n\u001b[0;32m    602\u001b[0m         out \u001b[38;5;241m=\u001b[39m X, y\n\u001b[0;32m    603\u001b[0m \u001b[38;5;28;01melif\u001b[39;00m \u001b[38;5;129;01mnot\u001b[39;00m no_val_X \u001b[38;5;129;01mand\u001b[39;00m no_val_y:\n\u001b[1;32m--> 604\u001b[0m     out \u001b[38;5;241m=\u001b[39m check_array(X, input_name\u001b[38;5;241m=\u001b[39m\u001b[38;5;124m\"\u001b[39m\u001b[38;5;124mX\u001b[39m\u001b[38;5;124m\"\u001b[39m, \u001b[38;5;241m*\u001b[39m\u001b[38;5;241m*\u001b[39mcheck_params)\n\u001b[0;32m    605\u001b[0m \u001b[38;5;28;01melif\u001b[39;00m no_val_X \u001b[38;5;129;01mand\u001b[39;00m \u001b[38;5;129;01mnot\u001b[39;00m no_val_y:\n\u001b[0;32m    606\u001b[0m     out \u001b[38;5;241m=\u001b[39m _check_y(y, \u001b[38;5;241m*\u001b[39m\u001b[38;5;241m*\u001b[39mcheck_params)\n",
      "File \u001b[1;32m~\\anaconda3\\envs\\bayes-optimisation\\lib\\site-packages\\sklearn\\utils\\validation.py:786\u001b[0m, in \u001b[0;36mcheck_array\u001b[1;34m(array, accept_sparse, accept_large_sparse, dtype, order, copy, force_all_finite, ensure_2d, allow_nd, ensure_min_samples, ensure_min_features, estimator, input_name)\u001b[0m\n\u001b[0;32m    783\u001b[0m     \u001b[38;5;28;01mdef\u001b[39;00m \u001b[38;5;21mis_sparse\u001b[39m(dtype):\n\u001b[0;32m    784\u001b[0m         \u001b[38;5;28;01mreturn\u001b[39;00m \u001b[38;5;28misinstance\u001b[39m(dtype, SparseDtype)\n\u001b[1;32m--> 786\u001b[0m     \u001b[38;5;28;01mif\u001b[39;00m \u001b[38;5;129;01mnot\u001b[39;00m \u001b[38;5;28mhasattr\u001b[39m(array, \u001b[38;5;124m\"\u001b[39m\u001b[38;5;124msparse\u001b[39m\u001b[38;5;124m\"\u001b[39m) \u001b[38;5;129;01mand\u001b[39;00m \u001b[43marray\u001b[49m\u001b[38;5;241;43m.\u001b[39;49m\u001b[43mdtypes\u001b[49m\u001b[38;5;241;43m.\u001b[39;49m\u001b[43mapply\u001b[49m\u001b[43m(\u001b[49m\u001b[43mis_sparse\u001b[49m\u001b[43m)\u001b[49m\u001b[38;5;241m.\u001b[39many():\n\u001b[0;32m    787\u001b[0m         warnings\u001b[38;5;241m.\u001b[39mwarn(\n\u001b[0;32m    788\u001b[0m             \u001b[38;5;124m\"\u001b[39m\u001b[38;5;124mpandas.DataFrame with sparse columns found.\u001b[39m\u001b[38;5;124m\"\u001b[39m\n\u001b[0;32m    789\u001b[0m             \u001b[38;5;124m\"\u001b[39m\u001b[38;5;124mIt will be converted to a dense numpy array.\u001b[39m\u001b[38;5;124m\"\u001b[39m\n\u001b[0;32m    790\u001b[0m         )\n\u001b[0;32m    792\u001b[0m dtypes_orig \u001b[38;5;241m=\u001b[39m \u001b[38;5;28mlist\u001b[39m(array\u001b[38;5;241m.\u001b[39mdtypes)\n",
      "File \u001b[1;32m~\\anaconda3\\envs\\bayes-optimisation\\lib\\site-packages\\pandas\\core\\series.py:4908\u001b[0m, in \u001b[0;36mSeries.apply\u001b[1;34m(self, func, convert_dtype, args, by_row, **kwargs)\u001b[0m\n\u001b[0;32m   4780\u001b[0m \u001b[38;5;28;01mdef\u001b[39;00m \u001b[38;5;21mapply\u001b[39m(\n\u001b[0;32m   4781\u001b[0m     \u001b[38;5;28mself\u001b[39m,\n\u001b[0;32m   4782\u001b[0m     func: AggFuncType,\n\u001b[1;32m   (...)\u001b[0m\n\u001b[0;32m   4787\u001b[0m     \u001b[38;5;241m*\u001b[39m\u001b[38;5;241m*\u001b[39mkwargs,\n\u001b[0;32m   4788\u001b[0m ) \u001b[38;5;241m-\u001b[39m\u001b[38;5;241m>\u001b[39m DataFrame \u001b[38;5;241m|\u001b[39m Series:\n\u001b[0;32m   4789\u001b[0m \u001b[38;5;250m    \u001b[39m\u001b[38;5;124;03m\"\"\"\u001b[39;00m\n\u001b[0;32m   4790\u001b[0m \u001b[38;5;124;03m    Invoke function on values of Series.\u001b[39;00m\n\u001b[0;32m   4791\u001b[0m \n\u001b[1;32m   (...)\u001b[0m\n\u001b[0;32m   4906\u001b[0m \u001b[38;5;124;03m    dtype: float64\u001b[39;00m\n\u001b[0;32m   4907\u001b[0m \u001b[38;5;124;03m    \"\"\"\u001b[39;00m\n\u001b[1;32m-> 4908\u001b[0m     \u001b[38;5;28;01mreturn\u001b[39;00m \u001b[43mSeriesApply\u001b[49m\u001b[43m(\u001b[49m\n\u001b[0;32m   4909\u001b[0m \u001b[43m        \u001b[49m\u001b[38;5;28;43mself\u001b[39;49m\u001b[43m,\u001b[49m\n\u001b[0;32m   4910\u001b[0m \u001b[43m        \u001b[49m\u001b[43mfunc\u001b[49m\u001b[43m,\u001b[49m\n\u001b[0;32m   4911\u001b[0m \u001b[43m        \u001b[49m\u001b[43mconvert_dtype\u001b[49m\u001b[38;5;241;43m=\u001b[39;49m\u001b[43mconvert_dtype\u001b[49m\u001b[43m,\u001b[49m\n\u001b[0;32m   4912\u001b[0m \u001b[43m        \u001b[49m\u001b[43mby_row\u001b[49m\u001b[38;5;241;43m=\u001b[39;49m\u001b[43mby_row\u001b[49m\u001b[43m,\u001b[49m\n\u001b[0;32m   4913\u001b[0m \u001b[43m        \u001b[49m\u001b[43margs\u001b[49m\u001b[38;5;241;43m=\u001b[39;49m\u001b[43margs\u001b[49m\u001b[43m,\u001b[49m\n\u001b[0;32m   4914\u001b[0m \u001b[43m        \u001b[49m\u001b[43mkwargs\u001b[49m\u001b[38;5;241;43m=\u001b[39;49m\u001b[43mkwargs\u001b[49m\u001b[43m,\u001b[49m\n\u001b[0;32m   4915\u001b[0m \u001b[43m    \u001b[49m\u001b[43m)\u001b[49m\u001b[38;5;241;43m.\u001b[39;49m\u001b[43mapply\u001b[49m\u001b[43m(\u001b[49m\u001b[43m)\u001b[49m\n",
      "File \u001b[1;32m~\\anaconda3\\envs\\bayes-optimisation\\lib\\site-packages\\pandas\\core\\apply.py:1427\u001b[0m, in \u001b[0;36mSeriesApply.apply\u001b[1;34m(self)\u001b[0m\n\u001b[0;32m   1424\u001b[0m     \u001b[38;5;28;01mreturn\u001b[39;00m \u001b[38;5;28mself\u001b[39m\u001b[38;5;241m.\u001b[39mapply_compat()\n\u001b[0;32m   1426\u001b[0m \u001b[38;5;66;03m# self.func is Callable\u001b[39;00m\n\u001b[1;32m-> 1427\u001b[0m \u001b[38;5;28;01mreturn\u001b[39;00m \u001b[38;5;28;43mself\u001b[39;49m\u001b[38;5;241;43m.\u001b[39;49m\u001b[43mapply_standard\u001b[49m\u001b[43m(\u001b[49m\u001b[43m)\u001b[49m\n",
      "File \u001b[1;32m~\\anaconda3\\envs\\bayes-optimisation\\lib\\site-packages\\pandas\\core\\apply.py:1506\u001b[0m, in \u001b[0;36mSeriesApply.apply_standard\u001b[1;34m(self)\u001b[0m\n\u001b[0;32m   1499\u001b[0m     curried \u001b[38;5;241m=\u001b[39m func\n\u001b[0;32m   1501\u001b[0m \u001b[38;5;66;03m# row-wise access\u001b[39;00m\n\u001b[0;32m   1502\u001b[0m \u001b[38;5;66;03m# apply doesn't have a `na_action` keyword and for backward compat reasons\u001b[39;00m\n\u001b[0;32m   1503\u001b[0m \u001b[38;5;66;03m# we need to give `na_action=\"ignore\"` for categorical data.\u001b[39;00m\n\u001b[0;32m   1504\u001b[0m \u001b[38;5;66;03m# TODO: remove the `na_action=\"ignore\"` when that default has been changed in\u001b[39;00m\n\u001b[0;32m   1505\u001b[0m \u001b[38;5;66;03m#  Categorical (GH51645).\u001b[39;00m\n\u001b[1;32m-> 1506\u001b[0m action \u001b[38;5;241m=\u001b[39m \u001b[38;5;124m\"\u001b[39m\u001b[38;5;124mignore\u001b[39m\u001b[38;5;124m\"\u001b[39m \u001b[38;5;28;01mif\u001b[39;00m \u001b[38;5;28misinstance\u001b[39m(\u001b[43mobj\u001b[49m\u001b[38;5;241;43m.\u001b[39;49m\u001b[43mdtype\u001b[49m, CategoricalDtype) \u001b[38;5;28;01melse\u001b[39;00m \u001b[38;5;28;01mNone\u001b[39;00m\n\u001b[0;32m   1507\u001b[0m mapped \u001b[38;5;241m=\u001b[39m obj\u001b[38;5;241m.\u001b[39m_map_values(\n\u001b[0;32m   1508\u001b[0m     mapper\u001b[38;5;241m=\u001b[39mcurried, na_action\u001b[38;5;241m=\u001b[39maction, convert\u001b[38;5;241m=\u001b[39m\u001b[38;5;28mself\u001b[39m\u001b[38;5;241m.\u001b[39mconvert_dtype\n\u001b[0;32m   1509\u001b[0m )\n\u001b[0;32m   1511\u001b[0m \u001b[38;5;28;01mif\u001b[39;00m \u001b[38;5;28mlen\u001b[39m(mapped) \u001b[38;5;129;01mand\u001b[39;00m \u001b[38;5;28misinstance\u001b[39m(mapped[\u001b[38;5;241m0\u001b[39m], ABCSeries):\n\u001b[0;32m   1512\u001b[0m     \u001b[38;5;66;03m# GH#43986 Need to do list(mapped) in order to get treated as nested\u001b[39;00m\n\u001b[0;32m   1513\u001b[0m     \u001b[38;5;66;03m#  See also GH#25959 regarding EA support\u001b[39;00m\n",
      "File \u001b[1;32m~\\anaconda3\\envs\\bayes-optimisation\\lib\\site-packages\\pandas\\core\\series.py:714\u001b[0m, in \u001b[0;36mSeries.dtype\u001b[1;34m(self)\u001b[0m\n\u001b[0;32m    703\u001b[0m \u001b[38;5;129m@property\u001b[39m\n\u001b[0;32m    704\u001b[0m \u001b[38;5;28;01mdef\u001b[39;00m \u001b[38;5;21mdtype\u001b[39m(\u001b[38;5;28mself\u001b[39m) \u001b[38;5;241m-\u001b[39m\u001b[38;5;241m>\u001b[39m DtypeObj:\n\u001b[0;32m    705\u001b[0m \u001b[38;5;250m    \u001b[39m\u001b[38;5;124;03m\"\"\"\u001b[39;00m\n\u001b[0;32m    706\u001b[0m \u001b[38;5;124;03m    Return the dtype object of the underlying data.\u001b[39;00m\n\u001b[0;32m    707\u001b[0m \n\u001b[1;32m   (...)\u001b[0m\n\u001b[0;32m    712\u001b[0m \u001b[38;5;124;03m    dtype('int64')\u001b[39;00m\n\u001b[0;32m    713\u001b[0m \u001b[38;5;124;03m    \"\"\"\u001b[39;00m\n\u001b[1;32m--> 714\u001b[0m     \u001b[38;5;28;01mreturn\u001b[39;00m \u001b[38;5;28;43mself\u001b[39;49m\u001b[38;5;241;43m.\u001b[39;49m\u001b[43m_mgr\u001b[49m\u001b[38;5;241;43m.\u001b[39;49m\u001b[43mdtype\u001b[49m\n",
      "File \u001b[1;32m~\\anaconda3\\envs\\bayes-optimisation\\lib\\site-packages\\pandas\\core\\internals\\managers.py:1993\u001b[0m, in \u001b[0;36mSingleBlockManager.dtype\u001b[1;34m(self)\u001b[0m\n\u001b[0;32m   1991\u001b[0m \u001b[38;5;129m@property\u001b[39m\n\u001b[0;32m   1992\u001b[0m \u001b[38;5;28;01mdef\u001b[39;00m \u001b[38;5;21mdtype\u001b[39m(\u001b[38;5;28mself\u001b[39m) \u001b[38;5;241m-\u001b[39m\u001b[38;5;241m>\u001b[39m DtypeObj:\n\u001b[1;32m-> 1993\u001b[0m     \u001b[38;5;28;01mreturn\u001b[39;00m \u001b[38;5;28;43mself\u001b[39;49m\u001b[38;5;241;43m.\u001b[39;49m\u001b[43m_block\u001b[49m\u001b[38;5;241;43m.\u001b[39;49m\u001b[43mdtype\u001b[49m\n",
      "File \u001b[1;32mproperties.pyx:36\u001b[0m, in \u001b[0;36mpandas._libs.properties.CachedProperty.__get__\u001b[1;34m()\u001b[0m\n",
      "File \u001b[1;32m~\\anaconda3\\envs\\bayes-optimisation\\lib\\site-packages\\pandas\\core\\internals\\blocks.py:718\u001b[0m, in \u001b[0;36mBlock.dtype\u001b[1;34m(self)\u001b[0m\n\u001b[0;32m    713\u001b[0m     \u001b[38;5;28;01mreturn\u001b[39;00m rbs\n\u001b[0;32m    715\u001b[0m \u001b[38;5;66;03m# ---------------------------------------------------------------------\u001b[39;00m\n\u001b[0;32m    716\u001b[0m \u001b[38;5;66;03m# Array-Like Methods\u001b[39;00m\n\u001b[1;32m--> 718\u001b[0m \u001b[38;5;129m@final\u001b[39m\n\u001b[0;32m    719\u001b[0m \u001b[38;5;129m@cache_readonly\u001b[39m\n\u001b[0;32m    720\u001b[0m \u001b[38;5;28;01mdef\u001b[39;00m \u001b[38;5;21mdtype\u001b[39m(\u001b[38;5;28mself\u001b[39m) \u001b[38;5;241m-\u001b[39m\u001b[38;5;241m>\u001b[39m DtypeObj:\n\u001b[0;32m    721\u001b[0m     \u001b[38;5;28;01mreturn\u001b[39;00m \u001b[38;5;28mself\u001b[39m\u001b[38;5;241m.\u001b[39mvalues\u001b[38;5;241m.\u001b[39mdtype\n\u001b[0;32m    723\u001b[0m \u001b[38;5;129m@final\u001b[39m\n\u001b[0;32m    724\u001b[0m \u001b[38;5;28;01mdef\u001b[39;00m \u001b[38;5;21mastype\u001b[39m(\n\u001b[0;32m    725\u001b[0m     \u001b[38;5;28mself\u001b[39m,\n\u001b[1;32m   (...)\u001b[0m\n\u001b[0;32m    730\u001b[0m     squeeze: \u001b[38;5;28mbool\u001b[39m \u001b[38;5;241m=\u001b[39m \u001b[38;5;28;01mFalse\u001b[39;00m,\n\u001b[0;32m    731\u001b[0m ) \u001b[38;5;241m-\u001b[39m\u001b[38;5;241m>\u001b[39m Block:\n",
      "\u001b[1;31mKeyboardInterrupt\u001b[0m: "
     ]
    }
   ],
   "source": [
    "trainer = GBMTrainer()\n",
    "\n",
    "rounds = 100\n",
    "increment_value = 10\n",
    "\n",
    "trainer.load_model()\n",
    "mlflow.set_experiment('Bayes Optimisation')\n",
    "# Start an MLflow run\n",
    "with mlflow.start_run(run_name='BO GBM Test'):\n",
    "    \n",
    "    # Log parameters\n",
    "    mlflow.log_params({\n",
    "        'rounds': rounds,\n",
    "        'budget': data_to_optimize['OfferAmt'].sum(),\n",
    "        'increment_value': increment_value\n",
    "    })\n",
    "    \n",
    "    # Perform your optimization\n",
    "    optimised_data = optimize_offers_skopt(\n",
    "        data=data_to_optimize, \n",
    "        model=trainer, \n",
    "        feature_names=features,\n",
    "        budget=data_to_optimize['OfferAmt'].sum(), \n",
    "        rounds=rounds,\n",
    "        increment_amount = increment_value\n",
    "    )\n",
    "\n",
    "    \n",
    "    optimised_data['Residual'] = optimised_data['BayesOptExpSpend'] - optimised_data['Spend']\n",
    "    offer_amt_sum = optimised_data['BayesOptOfferAmt'].sum()\n",
    "    exp_spend_sum = optimised_data['BayesOptExpSpend'].sum()\n",
    "    metric_value =  exp_spend_sum / offer_amt_sum if exp_spend_sum != 0 else 0\n",
    "    \n",
    "    \n",
    "    # Log outcomes\n",
    "    mlflow.log_metrics({\n",
    "        'BayesOptOfferAmt_sum': optimised_data['BayesOptOfferAmt'].sum(),\n",
    "        'BayesOptExpSpend_sum': optimised_data['BayesOptExpSpend'].sum(),\n",
    "        'OfferAmt_sum': optimised_data['OfferAmt'].sum(),\n",
    "        'Residuals_sum': optimised_data['Residual'].sum(), \n",
    "        'Spend_sum': optimised_data['Spend'].sum(),\n",
    "        'Ratio': metric_value\n",
    "    })\n",
    "    \n",
    "    # End the run\n",
    "    mlflow.end_run()\n"
   ]
  },
  {
   "cell_type": "code",
   "execution_count": 245,
   "id": "dfa76395-4c71-4966-b777-29acaf09b8e4",
   "metadata": {},
   "outputs": [],
   "source": [
    "import datetime\n",
    "\n",
    "# Format the metric value to two decimal places\n",
    "metric_value_formatted = f\"{metric_value:.2f}\"\n",
    "\n",
    "# Get the current date in YYYYMMDD format\n",
    "current_date = datetime.datetime.now().strftime(\"%Y%m%d\")\n",
    "\n",
    "# Construct the file name\n",
    "model_name = \"GBM_SKOPT\"  # Simplified model name\n",
    "file_name = f\"{model_name}_{metric_value_formatted}_{current_date}_{rounds}_{penalty_growth_rate}.csv\"\n",
    "\n",
    "# Save the DataFrame to this file name\n",
    "csv_file_path = f\"../results/predictions/{file_name}\"\n",
    "optimised_data.to_csv(csv_file_path, index=False)\n"
   ]
  },
  {
   "cell_type": "code",
   "execution_count": null,
   "id": "00356a30-9355-4813-8165-aeffe47ca454",
   "metadata": {},
   "outputs": [],
   "source": []
  },
  {
   "cell_type": "code",
   "execution_count": null,
   "id": "dbc304d5-6a92-43a2-9e0b-606ad39a091d",
   "metadata": {},
   "outputs": [],
   "source": []
  }
 ],
 "metadata": {
  "kernelspec": {
   "display_name": "Python (bayes-optimisation)",
   "language": "python",
   "name": "bayes-optimisation"
  },
  "language_info": {
   "codemirror_mode": {
    "name": "ipython",
    "version": 3
   },
   "file_extension": ".py",
   "mimetype": "text/x-python",
   "name": "python",
   "nbconvert_exporter": "python",
   "pygments_lexer": "ipython3",
   "version": "3.9.19"
  }
 },
 "nbformat": 4,
 "nbformat_minor": 5
}
