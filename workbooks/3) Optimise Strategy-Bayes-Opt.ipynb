{
 "cells": [
  {
   "cell_type": "markdown",
   "id": "fdbda629-4f50-4821-a3e2-da0a91070749",
   "metadata": {},
   "source": [
    "# ML Optimisation Strategy"
   ]
  },
  {
   "cell_type": "markdown",
   "id": "81a664a1-90c1-4041-aadf-6d731e873efc",
   "metadata": {},
   "source": [
    "## Bayes Optimisation\n",
    "\n",
    "Bayesian optimisation is a better approach to this problem as it able to map non-linear relationships. I will integrate my machine learning model into a Bayesian model so that it can interact with the enviroment and allocat OfferAmt."
   ]
  },
  {
   "cell_type": "code",
   "execution_count": 1,
   "id": "91dd8e2c-0f3f-4762-a5ca-d3972d3f02c3",
   "metadata": {},
   "outputs": [],
   "source": [
    "import pandas as pd\n",
    "from datetime import datetime, timedelta\n",
    "import numpy as np\n",
    "import warnings\n",
    "from bayes_opt import BayesianOptimization\n",
    "from bayes_opt.util import UtilityFunction\n",
    "from skopt import Optimizer\n",
    "from skopt.space import Real\n",
    "from skopt.utils import use_named_args\n",
    "import mlflow\n",
    "\n",
    "pd.set_option('display.float_format', lambda x: '%.6f' % x)\n",
    "\n",
    "warnings.filterwarnings('ignore')\n",
    "\n",
    "import sys\n",
    "sys.path.append('C:/projects/python/coupon-optimisation')"
   ]
  },
  {
   "cell_type": "code",
   "execution_count": 2,
   "id": "ac072882-bd95-4e3d-9c0b-29f46ac56e29",
   "metadata": {},
   "outputs": [],
   "source": [
    "from src.models.XGBoost import XGBoostTrainer\n",
    "from src.models.NeuralNetwork import NeuralNetworkTrainer\n",
    "from src.models.LogisticRegression import LogisticRegressionTrainer\n",
    "from src.models.GradientBoostClassifier import GBMTrainer\n",
    "from src.models.CatBoost import CatBoostTrainer\n",
    "from src.models.LightGradientBoost import LightGBMTrainer\n",
    "from src.optimisers.SKOPT_Optimiser import optimize_offers_skopt\n",
    "from src.optimisers.Bayes_Opt import optimize_offers"
   ]
  },
  {
   "cell_type": "markdown",
   "id": "1fd71596-648c-4077-94fe-d73409722194",
   "metadata": {},
   "source": [
    "Below are the selected features from Optuna"
   ]
  },
  {
   "cell_type": "code",
   "execution_count": 3,
   "id": "12146603-dd48-48cf-a6ec-27259dc6e876",
   "metadata": {},
   "outputs": [],
   "source": [
    "features = [\n",
    "            # 'CouponUsageRate',\n",
    "            'TotalOfferAmtRedeemed',\n",
    "            # 'TotalVisits', \n",
    "            # 'TotalSpendAmt',\n",
    "            'TotalCouponRedeem', \n",
    "            'OfferAmt', \n",
    "            'AverageOfferAmtPerVisit',\n",
    "            'AverageSpendPerVisit',\n",
    "            'TotalOfferAmtReceived',\n",
    "            'n-1_spend',\n",
    "            # 'n-2_spend',\n",
    "            'n-3_spend',\n",
    "            'n-4_spend',\n",
    "            # 'n-5_spend',\n",
    "            # 'MaxSpend',\n",
    "            # 'sensitivity_gradient', \n",
    "            'MinOfferAmt', \n",
    "            # 'MaxOfferAmt',\n",
    "            # 'MedianSpendPerOfferAmt',\n",
    "            'Year',\n",
    "            # 'PatronID',\n",
    "            'Month',\n",
    "            'weekNum'\n",
    "               ]"
   ]
  },
  {
   "cell_type": "markdown",
   "id": "4136c9f5-a162-4f9d-9027-abe9ae7169f8",
   "metadata": {},
   "source": [
    "Next we want to filter the test data based on the date we are interested in."
   ]
  },
  {
   "cell_type": "code",
   "execution_count": 4,
   "id": "279c39a6-948e-478e-aed8-74e3cd50471d",
   "metadata": {},
   "outputs": [],
   "source": [
    "# Load the data\n",
    "optimised_data = pd.read_csv('../data/processed/processed-test-data.csv')\n",
    "\n",
    "# Correctly convert 'UseStartDate' to datetime format before filtering\n",
    "optimised_data['UseStartDate'] = pd.to_datetime(optimised_data['UseStartDate'], errors='coerce')\n",
    "\n",
    "# Filter data to include only rows with 'UseStartDate' of \"2019-07-01\"\n",
    "specific_date = \"2019-07-01\"\n",
    "filtered_data = optimised_data[optimised_data['UseStartDate'] == pd.to_datetime(specific_date)]\n",
    "\n",
    "# Filter data by UseStartDate after a specific date\n",
    "start_date = \"2019-07-01\"\n",
    "filtered_data = filtered_data[filtered_data['UseStartDate'] == pd.to_datetime(start_date)]\n",
    "filtered_data = filtered_data[filtered_data['TotalCouponRedeem'] >= 5]\n",
    "filtered_data.fillna(0, inplace=True)\n",
    "filtered_data.reset_index(inplace=True)"
   ]
  },
  {
   "cell_type": "markdown",
   "id": "9a1cc6fe-d996-490f-9bea-953ddbb6d0cb",
   "metadata": {},
   "source": [
    "\n",
    "### Learnings from Model building\n",
    "\n",
    "This model has been improved through:\n",
    "\n",
    "1) Reducing the size of the dataframe being manupulated\n",
    "2) Use SKOPT from Sklearn\n",
    "3) Doing an iterative approach rather than setting bounds\n",
    "4) Set the intial amounts using x0 and y0"
   ]
  },
  {
   "cell_type": "code",
   "execution_count": 5,
   "id": "bc15ad83-ebc9-4753-a28c-ce2e6812e507",
   "metadata": {},
   "outputs": [
    {
     "data": {
      "text/plain": [
       "113757.0"
      ]
     },
     "execution_count": 5,
     "metadata": {},
     "output_type": "execute_result"
    }
   ],
   "source": [
    "# data_to_optimize = filtered_data.head(20).drop(index=10)\n",
    "data_to_optimize = filtered_data\n",
    "data_to_optimize['OfferAmt'].sum()"
   ]
  },
  {
   "cell_type": "code",
   "execution_count": 6,
   "id": "87852309-e3c7-401b-abd2-8b3d8c0f2fa1",
   "metadata": {},
   "outputs": [
    {
     "name": "stdout",
     "output_type": "stream",
     "text": [
      "Model and scaler loaded.\n",
      "Offer: 22642.760000000002\n",
      "Budget: 113757.0\n",
      "Offer: 28305.760000000002\n",
      "Budget: 113757.0\n",
      "Offer: 33840.759999999995\n",
      "Budget: 113757.0\n",
      "Offer: 39146.759999999995\n",
      "Budget: 113757.0\n",
      "Offer: 44300.75999999999\n",
      "Budget: 113757.0\n",
      "Offer: 49235.75999999999\n",
      "Budget: 113757.0\n",
      "Offer: 53982.75999999999\n",
      "Budget: 113757.0\n",
      "Offer: 58534.75999999999\n",
      "Budget: 113757.0\n",
      "Offer: 62956.75999999999\n",
      "Budget: 113757.0\n",
      "Offer: 67168.75999999998\n",
      "Budget: 113757.0\n",
      "Offer: 71160.75999999998\n",
      "Budget: 113757.0\n",
      "Offer: 74979.75999999998\n",
      "Budget: 113757.0\n",
      "Offer: 78628.76\n",
      "Budget: 113757.0\n",
      "Offer: 82147.76\n",
      "Budget: 113757.0\n",
      "Offer: 85480.76\n",
      "Budget: 113757.0\n",
      "Offer: 88636.76\n",
      "Budget: 113757.0\n",
      "Offer: 91645.65999999999\n",
      "Budget: 113757.0\n",
      "Offer: 94558.65999999999\n",
      "Budget: 113757.0\n",
      "Offer: 97381.65999999999\n",
      "Budget: 113757.0\n",
      "Offer: 100126.65999999999\n",
      "Budget: 113757.0\n",
      "Offer: 102756.65999999999\n",
      "Budget: 113757.0\n",
      "Offer: 105316.65999999999\n",
      "Budget: 113757.0\n",
      "Offer: 107784.65999999999\n",
      "Budget: 113757.0\n",
      "Offer: 110174.65999999999\n",
      "Budget: 113757.0\n",
      "Offer: 112497.65999999999\n",
      "Budget: 113757.0\n",
      "Offer: 114783.65999999999\n",
      "Budget: 113757.0\n"
     ]
    }
   ],
   "source": [
    "trainer = GBMTrainer()\n",
    "\n",
    "rounds = 100\n",
    "increment_value = 10\n",
    "\n",
    "trainer.load_model()\n",
    "mlflow.set_experiment('Bayes Optimisation')\n",
    "# Start an MLflow run\n",
    "with mlflow.start_run(run_name='BO GBM Test'):\n",
    "    \n",
    "    # Log parameters\n",
    "    mlflow.log_params({\n",
    "        'rounds': rounds,\n",
    "        'budget': data_to_optimize['OfferAmt'].sum(),\n",
    "        'increment_value': increment_value\n",
    "    })\n",
    "    \n",
    "    # Perform your optimization\n",
    "    optimised_data = optimize_offers_skopt(\n",
    "        data=data_to_optimize, \n",
    "        model=trainer, \n",
    "        feature_names=features,\n",
    "        budget=data_to_optimize['OfferAmt'].sum(), \n",
    "        rounds=rounds,\n",
    "        increment_amount = increment_value\n",
    "    )\n",
    "\n",
    "    \n",
    "    optimised_data['Residual'] = optimised_data['BayesOptExpSpend'] - optimised_data['Spend']\n",
    "    offer_amt_sum = optimised_data['BayesOptOfferAmt'].sum()\n",
    "    exp_spend_sum = optimised_data['BayesOptExpSpend'].sum()\n",
    "    metric_value =  exp_spend_sum / offer_amt_sum if exp_spend_sum != 0 else 0\n",
    "    \n",
    "    \n",
    "    # Log outcomes\n",
    "    mlflow.log_metrics({\n",
    "        'BayesOptOfferAmt_sum': optimised_data['BayesOptOfferAmt'].sum(),\n",
    "        'BayesOptExpSpend_sum': optimised_data['BayesOptExpSpend'].sum(),\n",
    "        'OfferAmt_sum': optimised_data['OfferAmt'].sum(),\n",
    "        'Residuals_sum': optimised_data['Residual'].sum(), \n",
    "        'Spend_sum': optimised_data['Spend'].sum(),\n",
    "        'Ratio': metric_value\n",
    "    })\n",
    "    \n",
    "    # End the run\n",
    "    mlflow.end_run()\n"
   ]
  },
  {
   "cell_type": "code",
   "execution_count": 8,
   "id": "dfa76395-4c71-4966-b777-29acaf09b8e4",
   "metadata": {},
   "outputs": [],
   "source": [
    "import datetime\n",
    "\n",
    "# Format the metric value to two decimal places\n",
    "metric_value_formatted = f\"{metric_value:.2f}\"\n",
    "\n",
    "# Get the current date in YYYYMMDD format\n",
    "current_date = datetime.datetime.now().strftime(\"%Y%m%d\")\n",
    "\n",
    "# Construct the file name\n",
    "model_name = \"GBM_SKOPT\"  # Simplified model name\n",
    "file_name = f\"{model_name}_{metric_value_formatted}_{current_date}_{rounds}.csv\"\n",
    "\n",
    "# Save the DataFrame to this file name\n",
    "csv_file_path = f\"../results/predictions/{file_name}\"\n",
    "optimised_data.to_csv(csv_file_path, index=False)\n"
   ]
  },
  {
   "cell_type": "code",
   "execution_count": 9,
   "id": "afcfaf05-067c-40ac-9c9f-5c394cefa892",
   "metadata": {},
   "outputs": [
    {
     "name": "stdout",
     "output_type": "stream",
     "text": [
      "225375.69\n"
     ]
    }
   ],
   "source": [
    "print(optimised_data['Spend'].sum())"
   ]
  },
  {
   "cell_type": "code",
   "execution_count": null,
   "id": "326eb635-b44f-4adc-811a-a95886b8c413",
   "metadata": {},
   "outputs": [],
   "source": []
  }
 ],
 "metadata": {
  "kernelspec": {
   "display_name": "Python (bayes-optimisation)",
   "language": "python",
   "name": "bayes-optimisation"
  },
  "language_info": {
   "codemirror_mode": {
    "name": "ipython",
    "version": 3
   },
   "file_extension": ".py",
   "mimetype": "text/x-python",
   "name": "python",
   "nbconvert_exporter": "python",
   "pygments_lexer": "ipython3",
   "version": "3.9.19"
  }
 },
 "nbformat": 4,
 "nbformat_minor": 5
}
