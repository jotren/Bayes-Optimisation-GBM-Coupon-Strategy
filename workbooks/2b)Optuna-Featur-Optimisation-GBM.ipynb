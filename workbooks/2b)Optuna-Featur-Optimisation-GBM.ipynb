{
 "cells": [
  {
   "cell_type": "markdown",
   "id": "5957a1d3-a7b0-47ea-97f6-ec14e3b9b149",
   "metadata": {},
   "source": [
    "# Optuna"
   ]
  },
  {
   "cell_type": "code",
   "execution_count": 1,
   "id": "f1b4815f-7fe1-4d6d-be21-0fc694d26c13",
   "metadata": {},
   "outputs": [],
   "source": [
    "import pandas as pd\n",
    "df_test = pd.read_csv(\"../data/raw/TestingData.csv\")\n",
    "df_train = pd.read_csv(\"../data/raw/HistoricalTrainingData.csv\")\n",
    "df_gradient = pd.read_csv(\"../data/processed/customer_sensitivity_metrics.csv\")"
   ]
  },
  {
   "cell_type": "code",
   "execution_count": 2,
   "id": "ec78e0ba-990d-46ed-a2ee-1f2cd949088a",
   "metadata": {},
   "outputs": [
    {
     "name": "stderr",
     "output_type": "stream",
     "text": [
      "C:\\projects/python/coupon-optimisation\\src\\preprocessing\\preprocessing.py:60: FutureWarning: A value is trying to be set on a copy of a DataFrame or Series through chained assignment using an inplace method.\n",
      "The behavior will change in pandas 3.0. This inplace method will never work because the intermediate object on which we are setting values always behaves as a copy.\n",
      "\n",
      "For example, when doing 'df[col].method(value, inplace=True)', try using 'df.method({col: value}, inplace=True)' or df[col] = df[col].method(value) instead, to perform the operation inplace on the original object.\n",
      "\n",
      "\n",
      "  agg_features['MedianSpendPerOfferAmt'].replace([np.inf, -np.inf], 1, inplace=True)\n"
     ]
    }
   ],
   "source": [
    "import sys\n",
    "sys.path.append('C:/projects/python/coupon-optimisation')\n",
    "from src.preprocessing import preprocess_and_split\n",
    "\n",
    "X_train, X_test, y_train, y_test, features = preprocess_and_split(df_train, df_test, df_gradient)\n",
    "\n",
    "features = [\n",
    "            'CouponUsageRate',\n",
    "            'TotalOfferAmtRedeemed',\n",
    "            'TotalVisits', \n",
    "            'TotalSpendAmt',\n",
    "            'TotalCouponRedeem', \n",
    "            'OfferAmt', \n",
    "            'AverageOfferAmtPerVisit',\n",
    "            'AverageSpendPerVisit',\n",
    "            'TotalOfferAmtReceived',\n",
    "            'n-1_spend',\n",
    "            'n-2_spend',\n",
    "            'n-3_spend',\n",
    "            'n-4_spend',\n",
    "            'n-5_spend',\n",
    "            'MaxSpend',\n",
    "            'sensitivity_gradient', \n",
    "            'MinOfferAmt', \n",
    "            'MaxOfferAmt',\n",
    "            'MedianSpendPerOfferAmt',\n",
    "            'Year',\n",
    "            'PatronID',\n",
    "            'Month',\n",
    "            'weekNum'\n",
    "           ] \n"
   ]
  },
  {
   "cell_type": "code",
   "execution_count": 3,
   "id": "7707255f-3eba-44f7-b136-88e23537846c",
   "metadata": {},
   "outputs": [],
   "source": [
    "from src.models.GradientBoostClassifier import GBMTrainer"
   ]
  },
  {
   "cell_type": "code",
   "execution_count": 4,
   "id": "ab62c76c-43b9-40d5-a642-513675b26a8b",
   "metadata": {},
   "outputs": [
    {
     "name": "stderr",
     "output_type": "stream",
     "text": [
      "C:\\Users\\jtren\\anaconda3\\envs\\bayes-optimisation\\lib\\site-packages\\tqdm\\auto.py:21: TqdmWarning: IProgress not found. Please update jupyter and ipywidgets. See https://ipywidgets.readthedocs.io/en/stable/user_install.html\n",
      "  from .autonotebook import tqdm as notebook_tqdm\n"
     ]
    }
   ],
   "source": [
    "import optuna\n",
    "import numpy as np\n",
    "from sklearn.metrics import f1_score\n",
    "\n",
    "def objective(trial):\n",
    "    # Suggest a subset of features. We generate boolean flags for each feature.\n",
    "    selected_features = [trial.suggest_categorical(f'feature_{i}', [True, False]) for i in range(X_train.shape[1])]\n",
    "    \n",
    "    # Filter the features for both training and testing based on the selection\n",
    "    X_train_selected = X_train[:, selected_features]\n",
    "    X_test_selected = X_test[:, selected_features]\n",
    "    \n",
    "    # Initialize and train the model on the selected features\n",
    "    trainer = GBMTrainer()\n",
    "    trainer.train(X_train_selected, y_train)\n",
    "    \n",
    "    # Predict on the test set\n",
    "    predictions = trainer.predict(X_test_selected)\n",
    "    predicted_labels = (predictions > 0.5).astype(int)\n",
    "    \n",
    "    # Evaluate the model using F1 score\n",
    "    f1 = f1_score(y_test, predicted_labels)\n",
    "    \n",
    "    return f1\n",
    "\n"
   ]
  },
  {
   "cell_type": "code",
   "execution_count": 5,
   "id": "de209210-545e-4e3d-9451-942330b198c8",
   "metadata": {},
   "outputs": [
    {
     "name": "stderr",
     "output_type": "stream",
     "text": [
      "[I 2024-04-10 14:25:22,984] A new study created in memory with name: no-name-ac60c896-b4a2-4007-864b-1b006caef79c\n",
      "[I 2024-04-10 14:25:32,890] Trial 0 finished with value: 0.6476703174308521 and parameters: {'feature_0': True, 'feature_1': False, 'feature_2': True, 'feature_3': False, 'feature_4': False, 'feature_5': False, 'feature_6': False, 'feature_7': True, 'feature_8': True, 'feature_9': True, 'feature_10': False, 'feature_11': False, 'feature_12': False, 'feature_13': False, 'feature_14': False, 'feature_15': True, 'feature_16': True, 'feature_17': False, 'feature_18': False, 'feature_19': True, 'feature_20': True, 'feature_21': True, 'feature_22': False}. Best is trial 0 with value: 0.6476703174308521.\n"
     ]
    },
    {
     "name": "stdout",
     "output_type": "stream",
     "text": [
      "Model trained.\n"
     ]
    },
    {
     "name": "stderr",
     "output_type": "stream",
     "text": [
      "[I 2024-04-10 14:25:42,810] Trial 1 finished with value: 0.6477060798209623 and parameters: {'feature_0': True, 'feature_1': True, 'feature_2': False, 'feature_3': False, 'feature_4': True, 'feature_5': False, 'feature_6': False, 'feature_7': False, 'feature_8': True, 'feature_9': False, 'feature_10': True, 'feature_11': False, 'feature_12': False, 'feature_13': False, 'feature_14': False, 'feature_15': False, 'feature_16': True, 'feature_17': True, 'feature_18': True, 'feature_19': True, 'feature_20': False, 'feature_21': True, 'feature_22': False}. Best is trial 1 with value: 0.6477060798209623.\n"
     ]
    },
    {
     "name": "stdout",
     "output_type": "stream",
     "text": [
      "Model trained.\n"
     ]
    },
    {
     "name": "stderr",
     "output_type": "stream",
     "text": [
      "[I 2024-04-10 14:25:59,204] Trial 2 finished with value: 0.6980328166077417 and parameters: {'feature_0': True, 'feature_1': False, 'feature_2': True, 'feature_3': False, 'feature_4': False, 'feature_5': True, 'feature_6': True, 'feature_7': False, 'feature_8': True, 'feature_9': True, 'feature_10': True, 'feature_11': True, 'feature_12': False, 'feature_13': True, 'feature_14': True, 'feature_15': True, 'feature_16': False, 'feature_17': True, 'feature_18': False, 'feature_19': True, 'feature_20': True, 'feature_21': True, 'feature_22': True}. Best is trial 2 with value: 0.6980328166077417.\n"
     ]
    },
    {
     "name": "stdout",
     "output_type": "stream",
     "text": [
      "Model trained.\n"
     ]
    },
    {
     "name": "stderr",
     "output_type": "stream",
     "text": [
      "[I 2024-04-10 14:26:11,159] Trial 3 finished with value: 0.6357878816523301 and parameters: {'feature_0': False, 'feature_1': False, 'feature_2': False, 'feature_3': True, 'feature_4': False, 'feature_5': False, 'feature_6': False, 'feature_7': True, 'feature_8': False, 'feature_9': False, 'feature_10': False, 'feature_11': False, 'feature_12': True, 'feature_13': True, 'feature_14': True, 'feature_15': True, 'feature_16': True, 'feature_17': True, 'feature_18': True, 'feature_19': True, 'feature_20': False, 'feature_21': True, 'feature_22': True}. Best is trial 2 with value: 0.6980328166077417.\n"
     ]
    },
    {
     "name": "stdout",
     "output_type": "stream",
     "text": [
      "Model trained.\n"
     ]
    },
    {
     "name": "stderr",
     "output_type": "stream",
     "text": [
      "[I 2024-04-10 14:26:21,948] Trial 4 finished with value: 0.7057437941656097 and parameters: {'feature_0': False, 'feature_1': True, 'feature_2': True, 'feature_3': False, 'feature_4': False, 'feature_5': True, 'feature_6': True, 'feature_7': False, 'feature_8': False, 'feature_9': True, 'feature_10': False, 'feature_11': False, 'feature_12': True, 'feature_13': False, 'feature_14': True, 'feature_15': True, 'feature_16': False, 'feature_17': False, 'feature_18': False, 'feature_19': True, 'feature_20': False, 'feature_21': False, 'feature_22': True}. Best is trial 4 with value: 0.7057437941656097.\n"
     ]
    },
    {
     "name": "stdout",
     "output_type": "stream",
     "text": [
      "Model trained.\n"
     ]
    },
    {
     "name": "stderr",
     "output_type": "stream",
     "text": [
      "[I 2024-04-10 14:26:33,455] Trial 5 finished with value: 0.704098820887142 and parameters: {'feature_0': False, 'feature_1': True, 'feature_2': False, 'feature_3': True, 'feature_4': False, 'feature_5': True, 'feature_6': True, 'feature_7': True, 'feature_8': True, 'feature_9': True, 'feature_10': False, 'feature_11': True, 'feature_12': False, 'feature_13': False, 'feature_14': True, 'feature_15': True, 'feature_16': True, 'feature_17': True, 'feature_18': False, 'feature_19': False, 'feature_20': False, 'feature_21': False, 'feature_22': False}. Best is trial 4 with value: 0.7057437941656097.\n"
     ]
    },
    {
     "name": "stdout",
     "output_type": "stream",
     "text": [
      "Model trained.\n"
     ]
    },
    {
     "name": "stderr",
     "output_type": "stream",
     "text": [
      "[I 2024-04-10 14:26:41,120] Trial 6 finished with value: 0.6435986159169551 and parameters: {'feature_0': True, 'feature_1': False, 'feature_2': True, 'feature_3': False, 'feature_4': True, 'feature_5': False, 'feature_6': True, 'feature_7': False, 'feature_8': True, 'feature_9': True, 'feature_10': True, 'feature_11': False, 'feature_12': False, 'feature_13': False, 'feature_14': False, 'feature_15': False, 'feature_16': True, 'feature_17': True, 'feature_18': False, 'feature_19': False, 'feature_20': False, 'feature_21': False, 'feature_22': False}. Best is trial 4 with value: 0.7057437941656097.\n"
     ]
    },
    {
     "name": "stdout",
     "output_type": "stream",
     "text": [
      "Model trained.\n"
     ]
    },
    {
     "name": "stderr",
     "output_type": "stream",
     "text": [
      "[I 2024-04-10 14:26:56,162] Trial 7 finished with value: 0.6434376459598319 and parameters: {'feature_0': True, 'feature_1': True, 'feature_2': True, 'feature_3': False, 'feature_4': True, 'feature_5': False, 'feature_6': True, 'feature_7': True, 'feature_8': True, 'feature_9': True, 'feature_10': True, 'feature_11': False, 'feature_12': True, 'feature_13': True, 'feature_14': False, 'feature_15': True, 'feature_16': True, 'feature_17': True, 'feature_18': True, 'feature_19': False, 'feature_20': True, 'feature_21': True, 'feature_22': False}. Best is trial 4 with value: 0.7057437941656097.\n"
     ]
    },
    {
     "name": "stdout",
     "output_type": "stream",
     "text": [
      "Model trained.\n"
     ]
    },
    {
     "name": "stderr",
     "output_type": "stream",
     "text": [
      "[I 2024-04-10 14:27:05,414] Trial 8 finished with value: 0.6447905079718205 and parameters: {'feature_0': True, 'feature_1': False, 'feature_2': False, 'feature_3': True, 'feature_4': False, 'feature_5': False, 'feature_6': True, 'feature_7': False, 'feature_8': True, 'feature_9': False, 'feature_10': False, 'feature_11': True, 'feature_12': True, 'feature_13': False, 'feature_14': True, 'feature_15': True, 'feature_16': False, 'feature_17': True, 'feature_18': False, 'feature_19': False, 'feature_20': True, 'feature_21': False, 'feature_22': False}. Best is trial 4 with value: 0.7057437941656097.\n"
     ]
    },
    {
     "name": "stdout",
     "output_type": "stream",
     "text": [
      "Model trained.\n"
     ]
    },
    {
     "name": "stderr",
     "output_type": "stream",
     "text": [
      "[I 2024-04-10 14:27:18,321] Trial 9 finished with value: 0.6445448941853298 and parameters: {'feature_0': False, 'feature_1': True, 'feature_2': False, 'feature_3': True, 'feature_4': True, 'feature_5': True, 'feature_6': True, 'feature_7': True, 'feature_8': False, 'feature_9': False, 'feature_10': True, 'feature_11': True, 'feature_12': False, 'feature_13': True, 'feature_14': False, 'feature_15': True, 'feature_16': False, 'feature_17': True, 'feature_18': False, 'feature_19': False, 'feature_20': False, 'feature_21': True, 'feature_22': False}. Best is trial 4 with value: 0.7057437941656097.\n"
     ]
    },
    {
     "name": "stdout",
     "output_type": "stream",
     "text": [
      "Model trained.\n"
     ]
    },
    {
     "name": "stderr",
     "output_type": "stream",
     "text": [
      "[I 2024-04-10 14:27:28,496] Trial 10 finished with value: 0.6754907257338376 and parameters: {'feature_0': False, 'feature_1': True, 'feature_2': True, 'feature_3': False, 'feature_4': False, 'feature_5': True, 'feature_6': False, 'feature_7': False, 'feature_8': False, 'feature_9': True, 'feature_10': False, 'feature_11': False, 'feature_12': True, 'feature_13': False, 'feature_14': True, 'feature_15': False, 'feature_16': False, 'feature_17': False, 'feature_18': True, 'feature_19': True, 'feature_20': False, 'feature_21': False, 'feature_22': True}. Best is trial 4 with value: 0.7057437941656097.\n"
     ]
    },
    {
     "name": "stdout",
     "output_type": "stream",
     "text": [
      "Model trained.\n"
     ]
    },
    {
     "name": "stderr",
     "output_type": "stream",
     "text": [
      "[I 2024-04-10 14:27:42,406] Trial 11 finished with value: 0.6608175473579263 and parameters: {'feature_0': False, 'feature_1': True, 'feature_2': False, 'feature_3': True, 'feature_4': False, 'feature_5': True, 'feature_6': True, 'feature_7': True, 'feature_8': False, 'feature_9': True, 'feature_10': False, 'feature_11': True, 'feature_12': True, 'feature_13': False, 'feature_14': True, 'feature_15': True, 'feature_16': False, 'feature_17': False, 'feature_18': False, 'feature_19': False, 'feature_20': False, 'feature_21': False, 'feature_22': True}. Best is trial 4 with value: 0.7057437941656097.\n"
     ]
    },
    {
     "name": "stdout",
     "output_type": "stream",
     "text": [
      "Model trained.\n"
     ]
    },
    {
     "name": "stderr",
     "output_type": "stream",
     "text": [
      "[I 2024-04-10 14:27:53,985] Trial 12 finished with value: 0.7036593234399484 and parameters: {'feature_0': False, 'feature_1': True, 'feature_2': True, 'feature_3': True, 'feature_4': False, 'feature_5': True, 'feature_6': True, 'feature_7': False, 'feature_8': False, 'feature_9': True, 'feature_10': False, 'feature_11': True, 'feature_12': True, 'feature_13': False, 'feature_14': True, 'feature_15': True, 'feature_16': False, 'feature_17': False, 'feature_18': False, 'feature_19': False, 'feature_20': False, 'feature_21': False, 'feature_22': True}. Best is trial 4 with value: 0.7057437941656097.\n"
     ]
    },
    {
     "name": "stdout",
     "output_type": "stream",
     "text": [
      "Model trained.\n"
     ]
    },
    {
     "name": "stderr",
     "output_type": "stream",
     "text": [
      "[I 2024-04-10 14:28:06,280] Trial 13 finished with value: 0.670405104901866 and parameters: {'feature_0': False, 'feature_1': True, 'feature_2': False, 'feature_3': True, 'feature_4': False, 'feature_5': True, 'feature_6': True, 'feature_7': True, 'feature_8': False, 'feature_9': True, 'feature_10': False, 'feature_11': True, 'feature_12': False, 'feature_13': False, 'feature_14': True, 'feature_15': True, 'feature_16': True, 'feature_17': False, 'feature_18': False, 'feature_19': True, 'feature_20': False, 'feature_21': False, 'feature_22': True}. Best is trial 4 with value: 0.7057437941656097.\n"
     ]
    },
    {
     "name": "stdout",
     "output_type": "stream",
     "text": [
      "Model trained.\n"
     ]
    },
    {
     "name": "stderr",
     "output_type": "stream",
     "text": [
      "[I 2024-04-10 14:28:16,335] Trial 14 finished with value: 0.7015102974828376 and parameters: {'feature_0': False, 'feature_1': True, 'feature_2': True, 'feature_3': False, 'feature_4': False, 'feature_5': True, 'feature_6': True, 'feature_7': True, 'feature_8': True, 'feature_9': True, 'feature_10': False, 'feature_11': False, 'feature_12': False, 'feature_13': False, 'feature_14': True, 'feature_15': False, 'feature_16': True, 'feature_17': False, 'feature_18': False, 'feature_19': True, 'feature_20': False, 'feature_21': False, 'feature_22': False}. Best is trial 4 with value: 0.7057437941656097.\n"
     ]
    },
    {
     "name": "stdout",
     "output_type": "stream",
     "text": [
      "Model trained.\n"
     ]
    },
    {
     "name": "stderr",
     "output_type": "stream",
     "text": [
      "[I 2024-04-10 14:28:27,730] Trial 15 finished with value: 0.6614848031888391 and parameters: {'feature_0': False, 'feature_1': True, 'feature_2': False, 'feature_3': True, 'feature_4': False, 'feature_5': True, 'feature_6': True, 'feature_7': False, 'feature_8': False, 'feature_9': True, 'feature_10': False, 'feature_11': True, 'feature_12': True, 'feature_13': False, 'feature_14': True, 'feature_15': True, 'feature_16': False, 'feature_17': False, 'feature_18': False, 'feature_19': False, 'feature_20': False, 'feature_21': False, 'feature_22': True}. Best is trial 4 with value: 0.7057437941656097.\n"
     ]
    },
    {
     "name": "stdout",
     "output_type": "stream",
     "text": [
      "Model trained.\n"
     ]
    },
    {
     "name": "stderr",
     "output_type": "stream",
     "text": [
      "[I 2024-04-10 14:28:39,672] Trial 16 finished with value: 0.6985838282320694 and parameters: {'feature_0': False, 'feature_1': True, 'feature_2': True, 'feature_3': True, 'feature_4': False, 'feature_5': True, 'feature_6': True, 'feature_7': True, 'feature_8': False, 'feature_9': True, 'feature_10': False, 'feature_11': False, 'feature_12': True, 'feature_13': False, 'feature_14': True, 'feature_15': True, 'feature_16': False, 'feature_17': True, 'feature_18': False, 'feature_19': True, 'feature_20': False, 'feature_21': False, 'feature_22': False}. Best is trial 4 with value: 0.7057437941656097.\n"
     ]
    },
    {
     "name": "stdout",
     "output_type": "stream",
     "text": [
      "Model trained.\n"
     ]
    },
    {
     "name": "stderr",
     "output_type": "stream",
     "text": [
      "[I 2024-04-10 14:28:50,360] Trial 17 finished with value: 0.7026423520655005 and parameters: {'feature_0': False, 'feature_1': True, 'feature_2': False, 'feature_3': False, 'feature_4': False, 'feature_5': True, 'feature_6': True, 'feature_7': False, 'feature_8': True, 'feature_9': True, 'feature_10': False, 'feature_11': True, 'feature_12': False, 'feature_13': False, 'feature_14': True, 'feature_15': True, 'feature_16': True, 'feature_17': False, 'feature_18': False, 'feature_19': False, 'feature_20': False, 'feature_21': False, 'feature_22': True}. Best is trial 4 with value: 0.7057437941656097.\n"
     ]
    },
    {
     "name": "stdout",
     "output_type": "stream",
     "text": [
      "Model trained.\n"
     ]
    },
    {
     "name": "stderr",
     "output_type": "stream",
     "text": [
      "[I 2024-04-10 14:29:03,728] Trial 18 finished with value: 0.6909124732583015 and parameters: {'feature_0': False, 'feature_1': True, 'feature_2': False, 'feature_3': False, 'feature_4': True, 'feature_5': True, 'feature_6': False, 'feature_7': True, 'feature_8': True, 'feature_9': False, 'feature_10': False, 'feature_11': True, 'feature_12': True, 'feature_13': True, 'feature_14': True, 'feature_15': False, 'feature_16': True, 'feature_17': False, 'feature_18': True, 'feature_19': False, 'feature_20': True, 'feature_21': False, 'feature_22': True}. Best is trial 4 with value: 0.7057437941656097.\n"
     ]
    },
    {
     "name": "stdout",
     "output_type": "stream",
     "text": [
      "Model trained.\n"
     ]
    },
    {
     "name": "stderr",
     "output_type": "stream",
     "text": [
      "[I 2024-04-10 14:29:13,806] Trial 19 finished with value: 0.7030370165235853 and parameters: {'feature_0': False, 'feature_1': True, 'feature_2': True, 'feature_3': True, 'feature_4': False, 'feature_5': True, 'feature_6': True, 'feature_7': False, 'feature_8': False, 'feature_9': True, 'feature_10': False, 'feature_11': False, 'feature_12': False, 'feature_13': False, 'feature_14': True, 'feature_15': True, 'feature_16': False, 'feature_17': True, 'feature_18': False, 'feature_19': True, 'feature_20': False, 'feature_21': False, 'feature_22': False}. Best is trial 4 with value: 0.7057437941656097.\n"
     ]
    },
    {
     "name": "stdout",
     "output_type": "stream",
     "text": [
      "Model trained.\n"
     ]
    },
    {
     "name": "stderr",
     "output_type": "stream",
     "text": [
      "[I 2024-04-10 14:29:26,594] Trial 20 finished with value: 0.70850128252107 and parameters: {'feature_0': False, 'feature_1': True, 'feature_2': False, 'feature_3': False, 'feature_4': False, 'feature_5': True, 'feature_6': True, 'feature_7': True, 'feature_8': True, 'feature_9': True, 'feature_10': False, 'feature_11': True, 'feature_12': True, 'feature_13': False, 'feature_14': True, 'feature_15': True, 'feature_16': True, 'feature_17': False, 'feature_18': False, 'feature_19': True, 'feature_20': False, 'feature_21': False, 'feature_22': True}. Best is trial 20 with value: 0.70850128252107.\n"
     ]
    },
    {
     "name": "stdout",
     "output_type": "stream",
     "text": [
      "Model trained.\n"
     ]
    },
    {
     "name": "stderr",
     "output_type": "stream",
     "text": [
      "[I 2024-04-10 14:29:39,513] Trial 21 finished with value: 0.70850128252107 and parameters: {'feature_0': False, 'feature_1': True, 'feature_2': False, 'feature_3': False, 'feature_4': False, 'feature_5': True, 'feature_6': True, 'feature_7': True, 'feature_8': True, 'feature_9': True, 'feature_10': False, 'feature_11': True, 'feature_12': True, 'feature_13': False, 'feature_14': True, 'feature_15': True, 'feature_16': True, 'feature_17': False, 'feature_18': False, 'feature_19': True, 'feature_20': False, 'feature_21': False, 'feature_22': True}. Best is trial 20 with value: 0.70850128252107.\n"
     ]
    },
    {
     "name": "stdout",
     "output_type": "stream",
     "text": [
      "Model trained.\n"
     ]
    },
    {
     "name": "stderr",
     "output_type": "stream",
     "text": [
      "[I 2024-04-10 14:29:53,184] Trial 22 finished with value: 0.70850128252107 and parameters: {'feature_0': False, 'feature_1': True, 'feature_2': False, 'feature_3': False, 'feature_4': False, 'feature_5': True, 'feature_6': True, 'feature_7': True, 'feature_8': True, 'feature_9': True, 'feature_10': False, 'feature_11': True, 'feature_12': True, 'feature_13': False, 'feature_14': True, 'feature_15': True, 'feature_16': True, 'feature_17': False, 'feature_18': False, 'feature_19': True, 'feature_20': False, 'feature_21': False, 'feature_22': True}. Best is trial 20 with value: 0.70850128252107.\n"
     ]
    },
    {
     "name": "stdout",
     "output_type": "stream",
     "text": [
      "Model trained.\n"
     ]
    },
    {
     "name": "stderr",
     "output_type": "stream",
     "text": [
      "[I 2024-04-10 14:30:07,028] Trial 23 finished with value: 0.70850128252107 and parameters: {'feature_0': False, 'feature_1': True, 'feature_2': False, 'feature_3': False, 'feature_4': False, 'feature_5': True, 'feature_6': True, 'feature_7': True, 'feature_8': True, 'feature_9': True, 'feature_10': False, 'feature_11': True, 'feature_12': True, 'feature_13': False, 'feature_14': True, 'feature_15': True, 'feature_16': True, 'feature_17': False, 'feature_18': False, 'feature_19': True, 'feature_20': False, 'feature_21': False, 'feature_22': True}. Best is trial 20 with value: 0.70850128252107.\n"
     ]
    },
    {
     "name": "stdout",
     "output_type": "stream",
     "text": [
      "Model trained.\n"
     ]
    },
    {
     "name": "stderr",
     "output_type": "stream",
     "text": [
      "[I 2024-04-10 14:30:20,200] Trial 24 finished with value: 0.70850128252107 and parameters: {'feature_0': False, 'feature_1': True, 'feature_2': False, 'feature_3': False, 'feature_4': False, 'feature_5': True, 'feature_6': True, 'feature_7': True, 'feature_8': True, 'feature_9': True, 'feature_10': False, 'feature_11': True, 'feature_12': True, 'feature_13': False, 'feature_14': True, 'feature_15': True, 'feature_16': True, 'feature_17': False, 'feature_18': False, 'feature_19': True, 'feature_20': False, 'feature_21': False, 'feature_22': True}. Best is trial 20 with value: 0.70850128252107.\n"
     ]
    },
    {
     "name": "stdout",
     "output_type": "stream",
     "text": [
      "Model trained.\n"
     ]
    },
    {
     "name": "stderr",
     "output_type": "stream",
     "text": [
      "[I 2024-04-10 14:30:33,404] Trial 25 finished with value: 0.70850128252107 and parameters: {'feature_0': False, 'feature_1': True, 'feature_2': False, 'feature_3': False, 'feature_4': False, 'feature_5': True, 'feature_6': True, 'feature_7': True, 'feature_8': True, 'feature_9': True, 'feature_10': False, 'feature_11': True, 'feature_12': True, 'feature_13': False, 'feature_14': True, 'feature_15': True, 'feature_16': True, 'feature_17': False, 'feature_18': False, 'feature_19': True, 'feature_20': False, 'feature_21': False, 'feature_22': True}. Best is trial 20 with value: 0.70850128252107.\n"
     ]
    },
    {
     "name": "stdout",
     "output_type": "stream",
     "text": [
      "Model trained.\n"
     ]
    },
    {
     "name": "stderr",
     "output_type": "stream",
     "text": [
      "[I 2024-04-10 14:30:46,076] Trial 26 finished with value: 0.7018025436910971 and parameters: {'feature_0': False, 'feature_1': False, 'feature_2': False, 'feature_3': False, 'feature_4': True, 'feature_5': True, 'feature_6': False, 'feature_7': True, 'feature_8': True, 'feature_9': False, 'feature_10': True, 'feature_11': True, 'feature_12': True, 'feature_13': True, 'feature_14': False, 'feature_15': False, 'feature_16': True, 'feature_17': False, 'feature_18': True, 'feature_19': True, 'feature_20': True, 'feature_21': False, 'feature_22': True}. Best is trial 20 with value: 0.70850128252107.\n"
     ]
    },
    {
     "name": "stdout",
     "output_type": "stream",
     "text": [
      "Model trained.\n"
     ]
    },
    {
     "name": "stderr",
     "output_type": "stream",
     "text": [
      "[I 2024-04-10 14:30:59,213] Trial 27 finished with value: 0.70850128252107 and parameters: {'feature_0': False, 'feature_1': True, 'feature_2': False, 'feature_3': False, 'feature_4': False, 'feature_5': True, 'feature_6': True, 'feature_7': True, 'feature_8': True, 'feature_9': True, 'feature_10': False, 'feature_11': True, 'feature_12': True, 'feature_13': False, 'feature_14': True, 'feature_15': True, 'feature_16': True, 'feature_17': False, 'feature_18': False, 'feature_19': True, 'feature_20': False, 'feature_21': False, 'feature_22': True}. Best is trial 20 with value: 0.70850128252107.\n"
     ]
    },
    {
     "name": "stdout",
     "output_type": "stream",
     "text": [
      "Model trained.\n"
     ]
    },
    {
     "name": "stderr",
     "output_type": "stream",
     "text": [
      "[I 2024-04-10 14:31:11,937] Trial 28 finished with value: 0.70850128252107 and parameters: {'feature_0': False, 'feature_1': True, 'feature_2': False, 'feature_3': False, 'feature_4': False, 'feature_5': True, 'feature_6': True, 'feature_7': True, 'feature_8': True, 'feature_9': True, 'feature_10': False, 'feature_11': True, 'feature_12': True, 'feature_13': False, 'feature_14': True, 'feature_15': True, 'feature_16': True, 'feature_17': False, 'feature_18': False, 'feature_19': True, 'feature_20': False, 'feature_21': False, 'feature_22': True}. Best is trial 20 with value: 0.70850128252107.\n"
     ]
    },
    {
     "name": "stdout",
     "output_type": "stream",
     "text": [
      "Model trained.\n"
     ]
    },
    {
     "name": "stderr",
     "output_type": "stream",
     "text": [
      "[I 2024-04-10 14:31:23,675] Trial 29 finished with value: 0.6636063165626148 and parameters: {'feature_0': True, 'feature_1': False, 'feature_2': False, 'feature_3': False, 'feature_4': False, 'feature_5': False, 'feature_6': False, 'feature_7': True, 'feature_8': True, 'feature_9': True, 'feature_10': False, 'feature_11': True, 'feature_12': True, 'feature_13': False, 'feature_14': False, 'feature_15': True, 'feature_16': True, 'feature_17': False, 'feature_18': False, 'feature_19': True, 'feature_20': True, 'feature_21': True, 'feature_22': True}. Best is trial 20 with value: 0.70850128252107.\n"
     ]
    },
    {
     "name": "stdout",
     "output_type": "stream",
     "text": [
      "Model trained.\n"
     ]
    },
    {
     "name": "stderr",
     "output_type": "stream",
     "text": [
      "[I 2024-04-10 14:31:37,519] Trial 30 finished with value: 0.70850128252107 and parameters: {'feature_0': False, 'feature_1': True, 'feature_2': False, 'feature_3': False, 'feature_4': False, 'feature_5': True, 'feature_6': True, 'feature_7': True, 'feature_8': True, 'feature_9': True, 'feature_10': False, 'feature_11': True, 'feature_12': True, 'feature_13': False, 'feature_14': True, 'feature_15': True, 'feature_16': True, 'feature_17': False, 'feature_18': False, 'feature_19': True, 'feature_20': False, 'feature_21': False, 'feature_22': True}. Best is trial 20 with value: 0.70850128252107.\n"
     ]
    },
    {
     "name": "stdout",
     "output_type": "stream",
     "text": [
      "Model trained.\n"
     ]
    },
    {
     "name": "stderr",
     "output_type": "stream",
     "text": [
      "[I 2024-04-10 14:31:51,178] Trial 31 finished with value: 0.70850128252107 and parameters: {'feature_0': False, 'feature_1': True, 'feature_2': False, 'feature_3': False, 'feature_4': False, 'feature_5': True, 'feature_6': True, 'feature_7': True, 'feature_8': True, 'feature_9': True, 'feature_10': False, 'feature_11': True, 'feature_12': True, 'feature_13': False, 'feature_14': True, 'feature_15': True, 'feature_16': True, 'feature_17': False, 'feature_18': False, 'feature_19': True, 'feature_20': False, 'feature_21': False, 'feature_22': True}. Best is trial 20 with value: 0.70850128252107.\n"
     ]
    },
    {
     "name": "stdout",
     "output_type": "stream",
     "text": [
      "Model trained.\n"
     ]
    },
    {
     "name": "stderr",
     "output_type": "stream",
     "text": [
      "[I 2024-04-10 14:32:04,691] Trial 32 finished with value: 0.70850128252107 and parameters: {'feature_0': False, 'feature_1': True, 'feature_2': False, 'feature_3': False, 'feature_4': False, 'feature_5': True, 'feature_6': True, 'feature_7': True, 'feature_8': True, 'feature_9': True, 'feature_10': False, 'feature_11': True, 'feature_12': True, 'feature_13': False, 'feature_14': True, 'feature_15': True, 'feature_16': True, 'feature_17': False, 'feature_18': False, 'feature_19': True, 'feature_20': False, 'feature_21': False, 'feature_22': True}. Best is trial 20 with value: 0.70850128252107.\n"
     ]
    },
    {
     "name": "stdout",
     "output_type": "stream",
     "text": [
      "Model trained.\n"
     ]
    },
    {
     "name": "stderr",
     "output_type": "stream",
     "text": [
      "[I 2024-04-10 14:32:17,811] Trial 33 finished with value: 0.70850128252107 and parameters: {'feature_0': False, 'feature_1': True, 'feature_2': False, 'feature_3': False, 'feature_4': False, 'feature_5': True, 'feature_6': True, 'feature_7': True, 'feature_8': True, 'feature_9': True, 'feature_10': False, 'feature_11': True, 'feature_12': True, 'feature_13': False, 'feature_14': True, 'feature_15': True, 'feature_16': True, 'feature_17': False, 'feature_18': False, 'feature_19': True, 'feature_20': False, 'feature_21': False, 'feature_22': True}. Best is trial 20 with value: 0.70850128252107.\n"
     ]
    },
    {
     "name": "stdout",
     "output_type": "stream",
     "text": [
      "Model trained.\n"
     ]
    },
    {
     "name": "stderr",
     "output_type": "stream",
     "text": [
      "[I 2024-04-10 14:32:31,356] Trial 34 finished with value: 0.6552104392574893 and parameters: {'feature_0': True, 'feature_1': True, 'feature_2': False, 'feature_3': False, 'feature_4': False, 'feature_5': False, 'feature_6': False, 'feature_7': True, 'feature_8': True, 'feature_9': False, 'feature_10': True, 'feature_11': True, 'feature_12': True, 'feature_13': False, 'feature_14': True, 'feature_15': True, 'feature_16': True, 'feature_17': False, 'feature_18': True, 'feature_19': True, 'feature_20': False, 'feature_21': True, 'feature_22': True}. Best is trial 20 with value: 0.70850128252107.\n"
     ]
    },
    {
     "name": "stdout",
     "output_type": "stream",
     "text": [
      "Model trained.\n"
     ]
    },
    {
     "name": "stderr",
     "output_type": "stream",
     "text": [
      "[I 2024-04-10 14:32:44,031] Trial 35 finished with value: 0.6994063680518079 and parameters: {'feature_0': False, 'feature_1': False, 'feature_2': False, 'feature_3': False, 'feature_4': False, 'feature_5': True, 'feature_6': True, 'feature_7': True, 'feature_8': True, 'feature_9': True, 'feature_10': False, 'feature_11': True, 'feature_12': True, 'feature_13': True, 'feature_14': True, 'feature_15': True, 'feature_16': True, 'feature_17': False, 'feature_18': False, 'feature_19': True, 'feature_20': False, 'feature_21': False, 'feature_22': True}. Best is trial 20 with value: 0.70850128252107.\n"
     ]
    },
    {
     "name": "stdout",
     "output_type": "stream",
     "text": [
      "Model trained.\n"
     ]
    },
    {
     "name": "stderr",
     "output_type": "stream",
     "text": [
      "[I 2024-04-10 14:32:57,545] Trial 36 finished with value: 0.7130003672420125 and parameters: {'feature_0': False, 'feature_1': True, 'feature_2': False, 'feature_3': False, 'feature_4': True, 'feature_5': True, 'feature_6': True, 'feature_7': True, 'feature_8': True, 'feature_9': True, 'feature_10': False, 'feature_11': True, 'feature_12': True, 'feature_13': False, 'feature_14': False, 'feature_15': False, 'feature_16': True, 'feature_17': False, 'feature_18': False, 'feature_19': True, 'feature_20': False, 'feature_21': True, 'feature_22': True}. Best is trial 36 with value: 0.7130003672420125.\n"
     ]
    },
    {
     "name": "stdout",
     "output_type": "stream",
     "text": [
      "Model trained.\n"
     ]
    },
    {
     "name": "stderr",
     "output_type": "stream",
     "text": [
      "[I 2024-04-10 14:33:13,360] Trial 37 finished with value: 0.6985750822067957 and parameters: {'feature_0': True, 'feature_1': True, 'feature_2': False, 'feature_3': False, 'feature_4': True, 'feature_5': True, 'feature_6': True, 'feature_7': True, 'feature_8': True, 'feature_9': True, 'feature_10': True, 'feature_11': True, 'feature_12': True, 'feature_13': False, 'feature_14': False, 'feature_15': False, 'feature_16': True, 'feature_17': False, 'feature_18': False, 'feature_19': True, 'feature_20': True, 'feature_21': True, 'feature_22': True}. Best is trial 36 with value: 0.7130003672420125.\n"
     ]
    },
    {
     "name": "stdout",
     "output_type": "stream",
     "text": [
      "Model trained.\n"
     ]
    },
    {
     "name": "stderr",
     "output_type": "stream",
     "text": [
      "[I 2024-04-10 14:33:24,716] Trial 38 finished with value: 0.662519159679019 and parameters: {'feature_0': False, 'feature_1': False, 'feature_2': False, 'feature_3': False, 'feature_4': True, 'feature_5': False, 'feature_6': True, 'feature_7': True, 'feature_8': True, 'feature_9': False, 'feature_10': False, 'feature_11': True, 'feature_12': True, 'feature_13': True, 'feature_14': False, 'feature_15': False, 'feature_16': True, 'feature_17': False, 'feature_18': True, 'feature_19': True, 'feature_20': False, 'feature_21': True, 'feature_22': True}. Best is trial 36 with value: 0.7130003672420125.\n"
     ]
    },
    {
     "name": "stdout",
     "output_type": "stream",
     "text": [
      "Model trained.\n"
     ]
    },
    {
     "name": "stderr",
     "output_type": "stream",
     "text": [
      "[I 2024-04-10 14:33:36,845] Trial 39 finished with value: 0.7040702016430173 and parameters: {'feature_0': False, 'feature_1': True, 'feature_2': False, 'feature_3': False, 'feature_4': True, 'feature_5': True, 'feature_6': False, 'feature_7': True, 'feature_8': True, 'feature_9': True, 'feature_10': False, 'feature_11': True, 'feature_12': True, 'feature_13': False, 'feature_14': False, 'feature_15': False, 'feature_16': True, 'feature_17': False, 'feature_18': False, 'feature_19': True, 'feature_20': False, 'feature_21': True, 'feature_22': True}. Best is trial 36 with value: 0.7130003672420125.\n"
     ]
    },
    {
     "name": "stdout",
     "output_type": "stream",
     "text": [
      "Model trained.\n"
     ]
    },
    {
     "name": "stderr",
     "output_type": "stream",
     "text": [
      "[I 2024-04-10 14:33:50,852] Trial 40 finished with value: 0.6668493651228647 and parameters: {'feature_0': True, 'feature_1': True, 'feature_2': False, 'feature_3': False, 'feature_4': True, 'feature_5': False, 'feature_6': True, 'feature_7': True, 'feature_8': True, 'feature_9': True, 'feature_10': True, 'feature_11': True, 'feature_12': True, 'feature_13': False, 'feature_14': False, 'feature_15': False, 'feature_16': True, 'feature_17': False, 'feature_18': False, 'feature_19': True, 'feature_20': True, 'feature_21': True, 'feature_22': True}. Best is trial 36 with value: 0.7130003672420125.\n"
     ]
    },
    {
     "name": "stdout",
     "output_type": "stream",
     "text": [
      "Model trained.\n"
     ]
    },
    {
     "name": "stderr",
     "output_type": "stream",
     "text": [
      "[I 2024-04-10 14:34:03,964] Trial 41 finished with value: 0.7130003672420125 and parameters: {'feature_0': False, 'feature_1': True, 'feature_2': False, 'feature_3': False, 'feature_4': True, 'feature_5': True, 'feature_6': True, 'feature_7': True, 'feature_8': True, 'feature_9': True, 'feature_10': False, 'feature_11': True, 'feature_12': True, 'feature_13': False, 'feature_14': False, 'feature_15': False, 'feature_16': True, 'feature_17': False, 'feature_18': False, 'feature_19': True, 'feature_20': False, 'feature_21': True, 'feature_22': True}. Best is trial 36 with value: 0.7130003672420125.\n"
     ]
    },
    {
     "name": "stdout",
     "output_type": "stream",
     "text": [
      "Model trained.\n"
     ]
    },
    {
     "name": "stderr",
     "output_type": "stream",
     "text": [
      "[I 2024-04-10 14:34:17,130] Trial 42 finished with value: 0.7130003672420125 and parameters: {'feature_0': False, 'feature_1': True, 'feature_2': False, 'feature_3': False, 'feature_4': True, 'feature_5': True, 'feature_6': True, 'feature_7': True, 'feature_8': True, 'feature_9': True, 'feature_10': False, 'feature_11': True, 'feature_12': True, 'feature_13': False, 'feature_14': False, 'feature_15': False, 'feature_16': True, 'feature_17': False, 'feature_18': False, 'feature_19': True, 'feature_20': False, 'feature_21': True, 'feature_22': True}. Best is trial 36 with value: 0.7130003672420125.\n"
     ]
    },
    {
     "name": "stdout",
     "output_type": "stream",
     "text": [
      "Model trained.\n"
     ]
    },
    {
     "name": "stderr",
     "output_type": "stream",
     "text": [
      "[I 2024-04-10 14:34:30,069] Trial 43 finished with value: 0.7130003672420125 and parameters: {'feature_0': False, 'feature_1': True, 'feature_2': False, 'feature_3': False, 'feature_4': True, 'feature_5': True, 'feature_6': True, 'feature_7': True, 'feature_8': True, 'feature_9': True, 'feature_10': False, 'feature_11': True, 'feature_12': True, 'feature_13': False, 'feature_14': False, 'feature_15': False, 'feature_16': True, 'feature_17': False, 'feature_18': False, 'feature_19': True, 'feature_20': False, 'feature_21': True, 'feature_22': True}. Best is trial 36 with value: 0.7130003672420125.\n"
     ]
    },
    {
     "name": "stdout",
     "output_type": "stream",
     "text": [
      "Model trained.\n"
     ]
    },
    {
     "name": "stderr",
     "output_type": "stream",
     "text": [
      "[I 2024-04-10 14:34:43,178] Trial 44 finished with value: 0.7130003672420125 and parameters: {'feature_0': False, 'feature_1': True, 'feature_2': False, 'feature_3': False, 'feature_4': True, 'feature_5': True, 'feature_6': True, 'feature_7': True, 'feature_8': True, 'feature_9': True, 'feature_10': False, 'feature_11': True, 'feature_12': True, 'feature_13': False, 'feature_14': False, 'feature_15': False, 'feature_16': True, 'feature_17': False, 'feature_18': False, 'feature_19': True, 'feature_20': False, 'feature_21': True, 'feature_22': True}. Best is trial 36 with value: 0.7130003672420125.\n"
     ]
    },
    {
     "name": "stdout",
     "output_type": "stream",
     "text": [
      "Model trained.\n"
     ]
    },
    {
     "name": "stderr",
     "output_type": "stream",
     "text": [
      "[I 2024-04-10 14:34:56,891] Trial 45 finished with value: 0.7124219037118706 and parameters: {'feature_0': False, 'feature_1': True, 'feature_2': False, 'feature_3': False, 'feature_4': True, 'feature_5': True, 'feature_6': True, 'feature_7': True, 'feature_8': True, 'feature_9': True, 'feature_10': False, 'feature_11': True, 'feature_12': True, 'feature_13': False, 'feature_14': False, 'feature_15': False, 'feature_16': True, 'feature_17': True, 'feature_18': False, 'feature_19': True, 'feature_20': False, 'feature_21': True, 'feature_22': True}. Best is trial 36 with value: 0.7130003672420125.\n"
     ]
    },
    {
     "name": "stdout",
     "output_type": "stream",
     "text": [
      "Model trained.\n"
     ]
    },
    {
     "name": "stderr",
     "output_type": "stream",
     "text": [
      "[I 2024-04-10 14:35:07,578] Trial 46 finished with value: 0.7069741282339707 and parameters: {'feature_0': False, 'feature_1': False, 'feature_2': False, 'feature_3': False, 'feature_4': True, 'feature_5': True, 'feature_6': True, 'feature_7': True, 'feature_8': True, 'feature_9': True, 'feature_10': False, 'feature_11': False, 'feature_12': True, 'feature_13': False, 'feature_14': False, 'feature_15': False, 'feature_16': True, 'feature_17': False, 'feature_18': False, 'feature_19': True, 'feature_20': False, 'feature_21': True, 'feature_22': True}. Best is trial 36 with value: 0.7130003672420125.\n"
     ]
    },
    {
     "name": "stdout",
     "output_type": "stream",
     "text": [
      "Model trained.\n"
     ]
    },
    {
     "name": "stderr",
     "output_type": "stream",
     "text": [
      "[I 2024-04-10 14:35:18,047] Trial 47 finished with value: 0.6927122464312547 and parameters: {'feature_0': False, 'feature_1': True, 'feature_2': False, 'feature_3': False, 'feature_4': True, 'feature_5': True, 'feature_6': True, 'feature_7': True, 'feature_8': True, 'feature_9': False, 'feature_10': False, 'feature_11': True, 'feature_12': False, 'feature_13': True, 'feature_14': False, 'feature_15': False, 'feature_16': True, 'feature_17': False, 'feature_18': True, 'feature_19': True, 'feature_20': False, 'feature_21': True, 'feature_22': False}. Best is trial 36 with value: 0.7130003672420125.\n"
     ]
    },
    {
     "name": "stdout",
     "output_type": "stream",
     "text": [
      "Model trained.\n"
     ]
    },
    {
     "name": "stderr",
     "output_type": "stream",
     "text": [
      "[I 2024-04-10 14:35:30,963] Trial 48 finished with value: 0.6680003637355643 and parameters: {'feature_0': True, 'feature_1': True, 'feature_2': True, 'feature_3': False, 'feature_4': True, 'feature_5': False, 'feature_6': True, 'feature_7': False, 'feature_8': True, 'feature_9': True, 'feature_10': True, 'feature_11': True, 'feature_12': True, 'feature_13': False, 'feature_14': False, 'feature_15': False, 'feature_16': True, 'feature_17': True, 'feature_18': False, 'feature_19': True, 'feature_20': False, 'feature_21': True, 'feature_22': True}. Best is trial 36 with value: 0.7130003672420125.\n"
     ]
    },
    {
     "name": "stdout",
     "output_type": "stream",
     "text": [
      "Model trained.\n"
     ]
    },
    {
     "name": "stderr",
     "output_type": "stream",
     "text": [
      "[I 2024-04-10 14:35:43,077] Trial 49 finished with value: 0.7037688674877304 and parameters: {'feature_0': False, 'feature_1': True, 'feature_2': False, 'feature_3': False, 'feature_4': True, 'feature_5': True, 'feature_6': True, 'feature_7': True, 'feature_8': True, 'feature_9': True, 'feature_10': False, 'feature_11': False, 'feature_12': True, 'feature_13': False, 'feature_14': False, 'feature_15': False, 'feature_16': True, 'feature_17': False, 'feature_18': False, 'feature_19': True, 'feature_20': False, 'feature_21': True, 'feature_22': True}. Best is trial 36 with value: 0.7130003672420125.\n"
     ]
    },
    {
     "name": "stdout",
     "output_type": "stream",
     "text": [
      "Model trained.\n"
     ]
    },
    {
     "name": "stderr",
     "output_type": "stream",
     "text": [
      "[I 2024-04-10 14:35:51,653] Trial 50 finished with value: 0.6953699284009548 and parameters: {'feature_0': False, 'feature_1': True, 'feature_2': False, 'feature_3': False, 'feature_4': True, 'feature_5': True, 'feature_6': False, 'feature_7': True, 'feature_8': True, 'feature_9': True, 'feature_10': False, 'feature_11': True, 'feature_12': False, 'feature_13': False, 'feature_14': False, 'feature_15': False, 'feature_16': False, 'feature_17': False, 'feature_18': False, 'feature_19': False, 'feature_20': False, 'feature_21': True, 'feature_22': False}. Best is trial 36 with value: 0.7130003672420125.\n"
     ]
    },
    {
     "name": "stdout",
     "output_type": "stream",
     "text": [
      "Model trained.\n"
     ]
    },
    {
     "name": "stderr",
     "output_type": "stream",
     "text": [
      "[I 2024-04-10 14:36:05,379] Trial 51 finished with value: 0.7124219037118706 and parameters: {'feature_0': False, 'feature_1': True, 'feature_2': False, 'feature_3': False, 'feature_4': True, 'feature_5': True, 'feature_6': True, 'feature_7': True, 'feature_8': True, 'feature_9': True, 'feature_10': False, 'feature_11': True, 'feature_12': True, 'feature_13': False, 'feature_14': False, 'feature_15': False, 'feature_16': True, 'feature_17': True, 'feature_18': False, 'feature_19': True, 'feature_20': False, 'feature_21': True, 'feature_22': True}. Best is trial 36 with value: 0.7130003672420125.\n"
     ]
    },
    {
     "name": "stdout",
     "output_type": "stream",
     "text": [
      "Model trained.\n"
     ]
    },
    {
     "name": "stderr",
     "output_type": "stream",
     "text": [
      "[I 2024-04-10 14:36:18,858] Trial 52 finished with value: 0.7124219037118706 and parameters: {'feature_0': False, 'feature_1': True, 'feature_2': False, 'feature_3': False, 'feature_4': True, 'feature_5': True, 'feature_6': True, 'feature_7': True, 'feature_8': True, 'feature_9': True, 'feature_10': False, 'feature_11': True, 'feature_12': True, 'feature_13': False, 'feature_14': False, 'feature_15': False, 'feature_16': True, 'feature_17': True, 'feature_18': False, 'feature_19': True, 'feature_20': False, 'feature_21': True, 'feature_22': True}. Best is trial 36 with value: 0.7130003672420125.\n"
     ]
    },
    {
     "name": "stdout",
     "output_type": "stream",
     "text": [
      "Model trained.\n"
     ]
    },
    {
     "name": "stderr",
     "output_type": "stream",
     "text": [
      "[I 2024-04-10 14:36:32,629] Trial 53 finished with value: 0.7124219037118706 and parameters: {'feature_0': False, 'feature_1': True, 'feature_2': False, 'feature_3': False, 'feature_4': True, 'feature_5': True, 'feature_6': True, 'feature_7': True, 'feature_8': True, 'feature_9': True, 'feature_10': False, 'feature_11': True, 'feature_12': True, 'feature_13': False, 'feature_14': False, 'feature_15': False, 'feature_16': True, 'feature_17': True, 'feature_18': False, 'feature_19': True, 'feature_20': False, 'feature_21': True, 'feature_22': True}. Best is trial 36 with value: 0.7130003672420125.\n"
     ]
    },
    {
     "name": "stdout",
     "output_type": "stream",
     "text": [
      "Model trained.\n"
     ]
    },
    {
     "name": "stderr",
     "output_type": "stream",
     "text": [
      "[I 2024-04-10 14:36:47,084] Trial 54 finished with value: 0.7096018735362998 and parameters: {'feature_0': False, 'feature_1': True, 'feature_2': True, 'feature_3': True, 'feature_4': True, 'feature_5': True, 'feature_6': True, 'feature_7': True, 'feature_8': False, 'feature_9': True, 'feature_10': False, 'feature_11': True, 'feature_12': True, 'feature_13': False, 'feature_14': False, 'feature_15': False, 'feature_16': True, 'feature_17': True, 'feature_18': False, 'feature_19': True, 'feature_20': False, 'feature_21': True, 'feature_22': True}. Best is trial 36 with value: 0.7130003672420125.\n"
     ]
    },
    {
     "name": "stdout",
     "output_type": "stream",
     "text": [
      "Model trained.\n"
     ]
    },
    {
     "name": "stderr",
     "output_type": "stream",
     "text": [
      "[I 2024-04-10 14:36:59,953] Trial 55 finished with value: 0.7101899196493792 and parameters: {'feature_0': False, 'feature_1': True, 'feature_2': False, 'feature_3': False, 'feature_4': True, 'feature_5': True, 'feature_6': True, 'feature_7': False, 'feature_8': True, 'feature_9': True, 'feature_10': False, 'feature_11': True, 'feature_12': True, 'feature_13': False, 'feature_14': False, 'feature_15': False, 'feature_16': True, 'feature_17': True, 'feature_18': False, 'feature_19': True, 'feature_20': False, 'feature_21': True, 'feature_22': True}. Best is trial 36 with value: 0.7130003672420125.\n"
     ]
    },
    {
     "name": "stdout",
     "output_type": "stream",
     "text": [
      "Model trained.\n"
     ]
    },
    {
     "name": "stderr",
     "output_type": "stream",
     "text": [
      "[I 2024-04-10 14:37:13,974] Trial 56 finished with value: 0.7124219037118706 and parameters: {'feature_0': False, 'feature_1': True, 'feature_2': False, 'feature_3': False, 'feature_4': True, 'feature_5': True, 'feature_6': True, 'feature_7': True, 'feature_8': True, 'feature_9': True, 'feature_10': False, 'feature_11': True, 'feature_12': True, 'feature_13': False, 'feature_14': False, 'feature_15': False, 'feature_16': True, 'feature_17': True, 'feature_18': False, 'feature_19': True, 'feature_20': False, 'feature_21': True, 'feature_22': True}. Best is trial 36 with value: 0.7130003672420125.\n"
     ]
    },
    {
     "name": "stdout",
     "output_type": "stream",
     "text": [
      "Model trained.\n"
     ]
    },
    {
     "name": "stderr",
     "output_type": "stream",
     "text": [
      "[I 2024-04-10 14:37:24,904] Trial 57 finished with value: 0.6912938555782439 and parameters: {'feature_0': False, 'feature_1': True, 'feature_2': False, 'feature_3': False, 'feature_4': True, 'feature_5': True, 'feature_6': True, 'feature_7': True, 'feature_8': True, 'feature_9': True, 'feature_10': False, 'feature_11': False, 'feature_12': True, 'feature_13': False, 'feature_14': False, 'feature_15': False, 'feature_16': False, 'feature_17': False, 'feature_18': False, 'feature_19': False, 'feature_20': True, 'feature_21': True, 'feature_22': False}. Best is trial 36 with value: 0.7130003672420125.\n"
     ]
    },
    {
     "name": "stdout",
     "output_type": "stream",
     "text": [
      "Model trained.\n"
     ]
    },
    {
     "name": "stderr",
     "output_type": "stream",
     "text": [
      "[I 2024-04-10 14:37:42,496] Trial 58 finished with value: 0.7012268240937184 and parameters: {'feature_0': False, 'feature_1': True, 'feature_2': True, 'feature_3': True, 'feature_4': True, 'feature_5': True, 'feature_6': True, 'feature_7': True, 'feature_8': False, 'feature_9': False, 'feature_10': False, 'feature_11': True, 'feature_12': False, 'feature_13': True, 'feature_14': False, 'feature_15': False, 'feature_16': True, 'feature_17': True, 'feature_18': True, 'feature_19': True, 'feature_20': False, 'feature_21': True, 'feature_22': True}. Best is trial 36 with value: 0.7130003672420125.\n"
     ]
    },
    {
     "name": "stdout",
     "output_type": "stream",
     "text": [
      "Model trained.\n"
     ]
    },
    {
     "name": "stderr",
     "output_type": "stream",
     "text": [
      "[I 2024-04-10 14:37:55,350] Trial 59 finished with value: 0.7083599234205489 and parameters: {'feature_0': False, 'feature_1': True, 'feature_2': False, 'feature_3': False, 'feature_4': True, 'feature_5': True, 'feature_6': True, 'feature_7': False, 'feature_8': True, 'feature_9': True, 'feature_10': False, 'feature_11': True, 'feature_12': True, 'feature_13': False, 'feature_14': False, 'feature_15': False, 'feature_16': True, 'feature_17': False, 'feature_18': False, 'feature_19': True, 'feature_20': False, 'feature_21': True, 'feature_22': True}. Best is trial 36 with value: 0.7130003672420125.\n"
     ]
    },
    {
     "name": "stdout",
     "output_type": "stream",
     "text": [
      "Model trained.\n"
     ]
    },
    {
     "name": "stderr",
     "output_type": "stream",
     "text": [
      "[I 2024-04-10 14:38:08,999] Trial 60 finished with value: 0.6968070076292738 and parameters: {'feature_0': False, 'feature_1': False, 'feature_2': False, 'feature_3': False, 'feature_4': True, 'feature_5': True, 'feature_6': True, 'feature_7': True, 'feature_8': True, 'feature_9': True, 'feature_10': False, 'feature_11': True, 'feature_12': True, 'feature_13': False, 'feature_14': False, 'feature_15': False, 'feature_16': True, 'feature_17': False, 'feature_18': False, 'feature_19': True, 'feature_20': False, 'feature_21': True, 'feature_22': True}. Best is trial 36 with value: 0.7130003672420125.\n"
     ]
    },
    {
     "name": "stdout",
     "output_type": "stream",
     "text": [
      "Model trained.\n"
     ]
    },
    {
     "name": "stderr",
     "output_type": "stream",
     "text": [
      "[I 2024-04-10 14:38:23,694] Trial 61 finished with value: 0.7124219037118706 and parameters: {'feature_0': False, 'feature_1': True, 'feature_2': False, 'feature_3': False, 'feature_4': True, 'feature_5': True, 'feature_6': True, 'feature_7': True, 'feature_8': True, 'feature_9': True, 'feature_10': False, 'feature_11': True, 'feature_12': True, 'feature_13': False, 'feature_14': False, 'feature_15': False, 'feature_16': True, 'feature_17': True, 'feature_18': False, 'feature_19': True, 'feature_20': False, 'feature_21': True, 'feature_22': True}. Best is trial 36 with value: 0.7130003672420125.\n"
     ]
    },
    {
     "name": "stdout",
     "output_type": "stream",
     "text": [
      "Model trained.\n"
     ]
    },
    {
     "name": "stderr",
     "output_type": "stream",
     "text": [
      "[I 2024-04-10 14:38:38,782] Trial 62 finished with value: 0.7124219037118706 and parameters: {'feature_0': False, 'feature_1': True, 'feature_2': False, 'feature_3': False, 'feature_4': True, 'feature_5': True, 'feature_6': True, 'feature_7': True, 'feature_8': True, 'feature_9': True, 'feature_10': False, 'feature_11': True, 'feature_12': True, 'feature_13': False, 'feature_14': False, 'feature_15': False, 'feature_16': True, 'feature_17': True, 'feature_18': False, 'feature_19': True, 'feature_20': False, 'feature_21': True, 'feature_22': True}. Best is trial 36 with value: 0.7130003672420125.\n"
     ]
    },
    {
     "name": "stdout",
     "output_type": "stream",
     "text": [
      "Model trained.\n"
     ]
    },
    {
     "name": "stderr",
     "output_type": "stream",
     "text": [
      "[I 2024-04-10 14:38:54,417] Trial 63 finished with value: 0.7124219037118706 and parameters: {'feature_0': False, 'feature_1': True, 'feature_2': False, 'feature_3': False, 'feature_4': True, 'feature_5': True, 'feature_6': True, 'feature_7': True, 'feature_8': True, 'feature_9': True, 'feature_10': False, 'feature_11': True, 'feature_12': True, 'feature_13': False, 'feature_14': False, 'feature_15': False, 'feature_16': True, 'feature_17': True, 'feature_18': False, 'feature_19': True, 'feature_20': False, 'feature_21': True, 'feature_22': True}. Best is trial 36 with value: 0.7130003672420125.\n"
     ]
    },
    {
     "name": "stdout",
     "output_type": "stream",
     "text": [
      "Model trained.\n"
     ]
    },
    {
     "name": "stderr",
     "output_type": "stream",
     "text": [
      "[I 2024-04-10 14:39:10,063] Trial 64 finished with value: 0.7124219037118706 and parameters: {'feature_0': False, 'feature_1': True, 'feature_2': False, 'feature_3': False, 'feature_4': True, 'feature_5': True, 'feature_6': True, 'feature_7': True, 'feature_8': True, 'feature_9': True, 'feature_10': False, 'feature_11': True, 'feature_12': True, 'feature_13': False, 'feature_14': False, 'feature_15': False, 'feature_16': True, 'feature_17': True, 'feature_18': False, 'feature_19': True, 'feature_20': False, 'feature_21': True, 'feature_22': True}. Best is trial 36 with value: 0.7130003672420125.\n"
     ]
    },
    {
     "name": "stdout",
     "output_type": "stream",
     "text": [
      "Model trained.\n"
     ]
    },
    {
     "name": "stderr",
     "output_type": "stream",
     "text": [
      "[I 2024-04-10 14:39:24,313] Trial 65 finished with value: 0.7124219037118706 and parameters: {'feature_0': False, 'feature_1': True, 'feature_2': False, 'feature_3': False, 'feature_4': True, 'feature_5': True, 'feature_6': True, 'feature_7': True, 'feature_8': True, 'feature_9': True, 'feature_10': False, 'feature_11': True, 'feature_12': True, 'feature_13': False, 'feature_14': False, 'feature_15': False, 'feature_16': True, 'feature_17': True, 'feature_18': False, 'feature_19': True, 'feature_20': False, 'feature_21': True, 'feature_22': True}. Best is trial 36 with value: 0.7130003672420125.\n"
     ]
    },
    {
     "name": "stdout",
     "output_type": "stream",
     "text": [
      "Model trained.\n"
     ]
    },
    {
     "name": "stderr",
     "output_type": "stream",
     "text": [
      "[I 2024-04-10 14:39:38,730] Trial 66 finished with value: 0.6982562547384382 and parameters: {'feature_0': False, 'feature_1': True, 'feature_2': False, 'feature_3': True, 'feature_4': True, 'feature_5': True, 'feature_6': True, 'feature_7': True, 'feature_8': True, 'feature_9': True, 'feature_10': False, 'feature_11': True, 'feature_12': True, 'feature_13': False, 'feature_14': False, 'feature_15': False, 'feature_16': False, 'feature_17': True, 'feature_18': False, 'feature_19': False, 'feature_20': False, 'feature_21': True, 'feature_22': True}. Best is trial 36 with value: 0.7130003672420125.\n"
     ]
    },
    {
     "name": "stdout",
     "output_type": "stream",
     "text": [
      "Model trained.\n"
     ]
    },
    {
     "name": "stderr",
     "output_type": "stream",
     "text": [
      "[I 2024-04-10 14:39:50,364] Trial 67 finished with value: 0.6855738324825108 and parameters: {'feature_0': False, 'feature_1': True, 'feature_2': False, 'feature_3': False, 'feature_4': True, 'feature_5': True, 'feature_6': True, 'feature_7': True, 'feature_8': False, 'feature_9': True, 'feature_10': False, 'feature_11': False, 'feature_12': True, 'feature_13': False, 'feature_14': False, 'feature_15': False, 'feature_16': True, 'feature_17': False, 'feature_18': False, 'feature_19': True, 'feature_20': False, 'feature_21': True, 'feature_22': True}. Best is trial 36 with value: 0.7130003672420125.\n"
     ]
    },
    {
     "name": "stdout",
     "output_type": "stream",
     "text": [
      "Model trained.\n"
     ]
    },
    {
     "name": "stderr",
     "output_type": "stream",
     "text": [
      "[I 2024-04-10 14:40:01,853] Trial 68 finished with value: 0.6514700409378489 and parameters: {'feature_0': True, 'feature_1': True, 'feature_2': False, 'feature_3': False, 'feature_4': True, 'feature_5': False, 'feature_6': False, 'feature_7': True, 'feature_8': True, 'feature_9': True, 'feature_10': True, 'feature_11': True, 'feature_12': False, 'feature_13': False, 'feature_14': False, 'feature_15': False, 'feature_16': True, 'feature_17': False, 'feature_18': False, 'feature_19': True, 'feature_20': True, 'feature_21': True, 'feature_22': False}. Best is trial 36 with value: 0.7130003672420125.\n"
     ]
    },
    {
     "name": "stdout",
     "output_type": "stream",
     "text": [
      "Model trained.\n"
     ]
    },
    {
     "name": "stderr",
     "output_type": "stream",
     "text": [
      "[I 2024-04-10 14:40:14,631] Trial 69 finished with value: 0.705956338154703 and parameters: {'feature_0': False, 'feature_1': True, 'feature_2': True, 'feature_3': False, 'feature_4': True, 'feature_5': True, 'feature_6': True, 'feature_7': True, 'feature_8': True, 'feature_9': True, 'feature_10': False, 'feature_11': True, 'feature_12': True, 'feature_13': False, 'feature_14': False, 'feature_15': False, 'feature_16': True, 'feature_17': False, 'feature_18': False, 'feature_19': True, 'feature_20': False, 'feature_21': True, 'feature_22': True}. Best is trial 36 with value: 0.7130003672420125.\n"
     ]
    },
    {
     "name": "stdout",
     "output_type": "stream",
     "text": [
      "Model trained.\n"
     ]
    },
    {
     "name": "stderr",
     "output_type": "stream",
     "text": [
      "[I 2024-04-10 14:40:26,761] Trial 70 finished with value: 0.7010348071495767 and parameters: {'feature_0': False, 'feature_1': True, 'feature_2': False, 'feature_3': False, 'feature_4': True, 'feature_5': True, 'feature_6': True, 'feature_7': False, 'feature_8': True, 'feature_9': False, 'feature_10': False, 'feature_11': True, 'feature_12': True, 'feature_13': True, 'feature_14': False, 'feature_15': False, 'feature_16': True, 'feature_17': False, 'feature_18': True, 'feature_19': True, 'feature_20': False, 'feature_21': True, 'feature_22': True}. Best is trial 36 with value: 0.7130003672420125.\n"
     ]
    },
    {
     "name": "stdout",
     "output_type": "stream",
     "text": [
      "Model trained.\n"
     ]
    },
    {
     "name": "stderr",
     "output_type": "stream",
     "text": [
      "[I 2024-04-10 14:40:39,993] Trial 71 finished with value: 0.7124219037118706 and parameters: {'feature_0': False, 'feature_1': True, 'feature_2': False, 'feature_3': False, 'feature_4': True, 'feature_5': True, 'feature_6': True, 'feature_7': True, 'feature_8': True, 'feature_9': True, 'feature_10': False, 'feature_11': True, 'feature_12': True, 'feature_13': False, 'feature_14': False, 'feature_15': False, 'feature_16': True, 'feature_17': True, 'feature_18': False, 'feature_19': True, 'feature_20': False, 'feature_21': True, 'feature_22': True}. Best is trial 36 with value: 0.7130003672420125.\n"
     ]
    },
    {
     "name": "stdout",
     "output_type": "stream",
     "text": [
      "Model trained.\n"
     ]
    },
    {
     "name": "stderr",
     "output_type": "stream",
     "text": [
      "[I 2024-04-10 14:40:53,730] Trial 72 finished with value: 0.7124219037118706 and parameters: {'feature_0': False, 'feature_1': True, 'feature_2': False, 'feature_3': False, 'feature_4': True, 'feature_5': True, 'feature_6': True, 'feature_7': True, 'feature_8': True, 'feature_9': True, 'feature_10': False, 'feature_11': True, 'feature_12': True, 'feature_13': False, 'feature_14': False, 'feature_15': False, 'feature_16': True, 'feature_17': True, 'feature_18': False, 'feature_19': True, 'feature_20': False, 'feature_21': True, 'feature_22': True}. Best is trial 36 with value: 0.7130003672420125.\n"
     ]
    },
    {
     "name": "stdout",
     "output_type": "stream",
     "text": [
      "Model trained.\n"
     ]
    },
    {
     "name": "stderr",
     "output_type": "stream",
     "text": [
      "[I 2024-04-10 14:41:07,466] Trial 73 finished with value: 0.7124219037118706 and parameters: {'feature_0': False, 'feature_1': True, 'feature_2': False, 'feature_3': False, 'feature_4': True, 'feature_5': True, 'feature_6': True, 'feature_7': True, 'feature_8': True, 'feature_9': True, 'feature_10': False, 'feature_11': True, 'feature_12': True, 'feature_13': False, 'feature_14': False, 'feature_15': False, 'feature_16': True, 'feature_17': True, 'feature_18': False, 'feature_19': True, 'feature_20': False, 'feature_21': True, 'feature_22': True}. Best is trial 36 with value: 0.7130003672420125.\n"
     ]
    },
    {
     "name": "stdout",
     "output_type": "stream",
     "text": [
      "Model trained.\n"
     ]
    },
    {
     "name": "stderr",
     "output_type": "stream",
     "text": [
      "[I 2024-04-10 14:41:21,078] Trial 74 finished with value: 0.7124219037118706 and parameters: {'feature_0': False, 'feature_1': True, 'feature_2': False, 'feature_3': False, 'feature_4': True, 'feature_5': True, 'feature_6': True, 'feature_7': True, 'feature_8': True, 'feature_9': True, 'feature_10': False, 'feature_11': True, 'feature_12': True, 'feature_13': False, 'feature_14': False, 'feature_15': False, 'feature_16': True, 'feature_17': True, 'feature_18': False, 'feature_19': True, 'feature_20': False, 'feature_21': True, 'feature_22': True}. Best is trial 36 with value: 0.7130003672420125.\n"
     ]
    },
    {
     "name": "stdout",
     "output_type": "stream",
     "text": [
      "Model trained.\n"
     ]
    },
    {
     "name": "stderr",
     "output_type": "stream",
     "text": [
      "[I 2024-04-10 14:41:35,194] Trial 75 finished with value: 0.7124219037118706 and parameters: {'feature_0': False, 'feature_1': True, 'feature_2': False, 'feature_3': False, 'feature_4': True, 'feature_5': True, 'feature_6': True, 'feature_7': True, 'feature_8': True, 'feature_9': True, 'feature_10': False, 'feature_11': True, 'feature_12': True, 'feature_13': False, 'feature_14': False, 'feature_15': False, 'feature_16': True, 'feature_17': True, 'feature_18': False, 'feature_19': True, 'feature_20': False, 'feature_21': True, 'feature_22': True}. Best is trial 36 with value: 0.7130003672420125.\n"
     ]
    },
    {
     "name": "stdout",
     "output_type": "stream",
     "text": [
      "Model trained.\n"
     ]
    },
    {
     "name": "stderr",
     "output_type": "stream",
     "text": [
      "[I 2024-04-10 14:41:48,207] Trial 76 finished with value: 0.7002732497879959 and parameters: {'feature_0': False, 'feature_1': False, 'feature_2': False, 'feature_3': False, 'feature_4': True, 'feature_5': True, 'feature_6': True, 'feature_7': True, 'feature_8': True, 'feature_9': True, 'feature_10': False, 'feature_11': True, 'feature_12': True, 'feature_13': False, 'feature_14': False, 'feature_15': False, 'feature_16': True, 'feature_17': True, 'feature_18': False, 'feature_19': True, 'feature_20': False, 'feature_21': True, 'feature_22': True}. Best is trial 36 with value: 0.7130003672420125.\n"
     ]
    },
    {
     "name": "stdout",
     "output_type": "stream",
     "text": [
      "Model trained.\n"
     ]
    },
    {
     "name": "stderr",
     "output_type": "stream",
     "text": [
      "[I 2024-04-10 14:42:00,736] Trial 77 finished with value: 0.7082020347528585 and parameters: {'feature_0': False, 'feature_1': True, 'feature_2': False, 'feature_3': False, 'feature_4': True, 'feature_5': True, 'feature_6': True, 'feature_7': True, 'feature_8': True, 'feature_9': True, 'feature_10': False, 'feature_11': True, 'feature_12': True, 'feature_13': False, 'feature_14': False, 'feature_15': False, 'feature_16': False, 'feature_17': False, 'feature_18': False, 'feature_19': True, 'feature_20': False, 'feature_21': True, 'feature_22': True}. Best is trial 36 with value: 0.7130003672420125.\n"
     ]
    },
    {
     "name": "stdout",
     "output_type": "stream",
     "text": [
      "Model trained.\n"
     ]
    },
    {
     "name": "stderr",
     "output_type": "stream",
     "text": [
      "[I 2024-04-10 14:42:13,425] Trial 78 finished with value: 0.6568378240976106 and parameters: {'feature_0': False, 'feature_1': True, 'feature_2': False, 'feature_3': True, 'feature_4': True, 'feature_5': True, 'feature_6': True, 'feature_7': True, 'feature_8': False, 'feature_9': True, 'feature_10': False, 'feature_11': True, 'feature_12': True, 'feature_13': False, 'feature_14': False, 'feature_15': False, 'feature_16': True, 'feature_17': False, 'feature_18': False, 'feature_19': False, 'feature_20': False, 'feature_21': True, 'feature_22': True}. Best is trial 36 with value: 0.7130003672420125.\n"
     ]
    },
    {
     "name": "stdout",
     "output_type": "stream",
     "text": [
      "Model trained.\n"
     ]
    },
    {
     "name": "stderr",
     "output_type": "stream",
     "text": [
      "[I 2024-04-10 14:42:25,450] Trial 79 finished with value: 0.6588558352402745 and parameters: {'feature_0': True, 'feature_1': True, 'feature_2': False, 'feature_3': False, 'feature_4': True, 'feature_5': False, 'feature_6': False, 'feature_7': True, 'feature_8': True, 'feature_9': True, 'feature_10': True, 'feature_11': True, 'feature_12': True, 'feature_13': False, 'feature_14': False, 'feature_15': False, 'feature_16': True, 'feature_17': False, 'feature_18': False, 'feature_19': True, 'feature_20': False, 'feature_21': True, 'feature_22': True}. Best is trial 36 with value: 0.7130003672420125.\n"
     ]
    },
    {
     "name": "stdout",
     "output_type": "stream",
     "text": [
      "Model trained.\n"
     ]
    },
    {
     "name": "stderr",
     "output_type": "stream",
     "text": [
      "[I 2024-04-10 14:42:39,953] Trial 80 finished with value: 0.7006977598237237 and parameters: {'feature_0': False, 'feature_1': True, 'feature_2': False, 'feature_3': False, 'feature_4': True, 'feature_5': True, 'feature_6': True, 'feature_7': True, 'feature_8': True, 'feature_9': True, 'feature_10': False, 'feature_11': False, 'feature_12': True, 'feature_13': False, 'feature_14': False, 'feature_15': False, 'feature_16': True, 'feature_17': True, 'feature_18': False, 'feature_19': True, 'feature_20': True, 'feature_21': True, 'feature_22': True}. Best is trial 36 with value: 0.7130003672420125.\n"
     ]
    },
    {
     "name": "stdout",
     "output_type": "stream",
     "text": [
      "Model trained.\n"
     ]
    },
    {
     "name": "stderr",
     "output_type": "stream",
     "text": [
      "[I 2024-04-10 14:42:53,271] Trial 81 finished with value: 0.7124219037118706 and parameters: {'feature_0': False, 'feature_1': True, 'feature_2': False, 'feature_3': False, 'feature_4': True, 'feature_5': True, 'feature_6': True, 'feature_7': True, 'feature_8': True, 'feature_9': True, 'feature_10': False, 'feature_11': True, 'feature_12': True, 'feature_13': False, 'feature_14': False, 'feature_15': False, 'feature_16': True, 'feature_17': True, 'feature_18': False, 'feature_19': True, 'feature_20': False, 'feature_21': True, 'feature_22': True}. Best is trial 36 with value: 0.7130003672420125.\n"
     ]
    },
    {
     "name": "stdout",
     "output_type": "stream",
     "text": [
      "Model trained.\n"
     ]
    },
    {
     "name": "stderr",
     "output_type": "stream",
     "text": [
      "[I 2024-04-10 14:43:06,580] Trial 82 finished with value: 0.7124219037118706 and parameters: {'feature_0': False, 'feature_1': True, 'feature_2': False, 'feature_3': False, 'feature_4': True, 'feature_5': True, 'feature_6': True, 'feature_7': True, 'feature_8': True, 'feature_9': True, 'feature_10': False, 'feature_11': True, 'feature_12': True, 'feature_13': False, 'feature_14': False, 'feature_15': False, 'feature_16': True, 'feature_17': True, 'feature_18': False, 'feature_19': True, 'feature_20': False, 'feature_21': True, 'feature_22': True}. Best is trial 36 with value: 0.7130003672420125.\n"
     ]
    },
    {
     "name": "stdout",
     "output_type": "stream",
     "text": [
      "Model trained.\n"
     ]
    },
    {
     "name": "stderr",
     "output_type": "stream",
     "text": [
      "[I 2024-04-10 14:43:19,868] Trial 83 finished with value: 0.7124219037118706 and parameters: {'feature_0': False, 'feature_1': True, 'feature_2': False, 'feature_3': False, 'feature_4': True, 'feature_5': True, 'feature_6': True, 'feature_7': True, 'feature_8': True, 'feature_9': True, 'feature_10': False, 'feature_11': True, 'feature_12': True, 'feature_13': False, 'feature_14': False, 'feature_15': False, 'feature_16': True, 'feature_17': True, 'feature_18': False, 'feature_19': True, 'feature_20': False, 'feature_21': True, 'feature_22': True}. Best is trial 36 with value: 0.7130003672420125.\n"
     ]
    },
    {
     "name": "stdout",
     "output_type": "stream",
     "text": [
      "Model trained.\n"
     ]
    },
    {
     "name": "stderr",
     "output_type": "stream",
     "text": [
      "[I 2024-04-10 14:43:33,078] Trial 84 finished with value: 0.7124219037118706 and parameters: {'feature_0': False, 'feature_1': True, 'feature_2': False, 'feature_3': False, 'feature_4': True, 'feature_5': True, 'feature_6': True, 'feature_7': True, 'feature_8': True, 'feature_9': True, 'feature_10': False, 'feature_11': True, 'feature_12': True, 'feature_13': False, 'feature_14': False, 'feature_15': False, 'feature_16': True, 'feature_17': True, 'feature_18': False, 'feature_19': True, 'feature_20': False, 'feature_21': True, 'feature_22': True}. Best is trial 36 with value: 0.7130003672420125.\n"
     ]
    },
    {
     "name": "stdout",
     "output_type": "stream",
     "text": [
      "Model trained.\n"
     ]
    },
    {
     "name": "stderr",
     "output_type": "stream",
     "text": [
      "[I 2024-04-10 14:43:44,173] Trial 85 finished with value: 0.6993006993006993 and parameters: {'feature_0': False, 'feature_1': True, 'feature_2': False, 'feature_3': False, 'feature_4': True, 'feature_5': True, 'feature_6': True, 'feature_7': True, 'feature_8': True, 'feature_9': True, 'feature_10': False, 'feature_11': True, 'feature_12': True, 'feature_13': False, 'feature_14': False, 'feature_15': False, 'feature_16': True, 'feature_17': False, 'feature_18': False, 'feature_19': True, 'feature_20': False, 'feature_21': True, 'feature_22': False}. Best is trial 36 with value: 0.7130003672420125.\n"
     ]
    },
    {
     "name": "stdout",
     "output_type": "stream",
     "text": [
      "Model trained.\n"
     ]
    },
    {
     "name": "stderr",
     "output_type": "stream",
     "text": [
      "[I 2024-04-10 14:43:56,937] Trial 86 finished with value: 0.6918664786083686 and parameters: {'feature_0': False, 'feature_1': True, 'feature_2': False, 'feature_3': False, 'feature_4': True, 'feature_5': True, 'feature_6': True, 'feature_7': True, 'feature_8': True, 'feature_9': False, 'feature_10': False, 'feature_11': True, 'feature_12': False, 'feature_13': True, 'feature_14': False, 'feature_15': False, 'feature_16': True, 'feature_17': True, 'feature_18': True, 'feature_19': True, 'feature_20': False, 'feature_21': True, 'feature_22': True}. Best is trial 36 with value: 0.7130003672420125.\n"
     ]
    },
    {
     "name": "stdout",
     "output_type": "stream",
     "text": [
      "Model trained.\n"
     ]
    },
    {
     "name": "stderr",
     "output_type": "stream",
     "text": [
      "[I 2024-04-10 14:44:08,184] Trial 87 finished with value: 0.7048782679004582 and parameters: {'feature_0': False, 'feature_1': True, 'feature_2': True, 'feature_3': False, 'feature_4': True, 'feature_5': True, 'feature_6': True, 'feature_7': False, 'feature_8': True, 'feature_9': True, 'feature_10': False, 'feature_11': True, 'feature_12': True, 'feature_13': False, 'feature_14': False, 'feature_15': False, 'feature_16': True, 'feature_17': False, 'feature_18': False, 'feature_19': True, 'feature_20': False, 'feature_21': True, 'feature_22': True}. Best is trial 36 with value: 0.7130003672420125.\n"
     ]
    },
    {
     "name": "stdout",
     "output_type": "stream",
     "text": [
      "Model trained.\n"
     ]
    },
    {
     "name": "stderr",
     "output_type": "stream",
     "text": [
      "[I 2024-04-10 14:44:19,876] Trial 88 finished with value: 0.7002732497879959 and parameters: {'feature_0': False, 'feature_1': False, 'feature_2': False, 'feature_3': False, 'feature_4': True, 'feature_5': True, 'feature_6': True, 'feature_7': True, 'feature_8': True, 'feature_9': True, 'feature_10': False, 'feature_11': True, 'feature_12': True, 'feature_13': False, 'feature_14': False, 'feature_15': False, 'feature_16': True, 'feature_17': True, 'feature_18': False, 'feature_19': True, 'feature_20': False, 'feature_21': True, 'feature_22': True}. Best is trial 36 with value: 0.7130003672420125.\n"
     ]
    },
    {
     "name": "stdout",
     "output_type": "stream",
     "text": [
      "Model trained.\n"
     ]
    },
    {
     "name": "stderr",
     "output_type": "stream",
     "text": [
      "[I 2024-04-10 14:44:31,338] Trial 89 finished with value: 0.7130003672420125 and parameters: {'feature_0': False, 'feature_1': True, 'feature_2': False, 'feature_3': False, 'feature_4': True, 'feature_5': True, 'feature_6': True, 'feature_7': True, 'feature_8': True, 'feature_9': True, 'feature_10': False, 'feature_11': True, 'feature_12': True, 'feature_13': False, 'feature_14': False, 'feature_15': False, 'feature_16': True, 'feature_17': False, 'feature_18': False, 'feature_19': True, 'feature_20': False, 'feature_21': True, 'feature_22': True}. Best is trial 36 with value: 0.7130003672420125.\n"
     ]
    },
    {
     "name": "stdout",
     "output_type": "stream",
     "text": [
      "Model trained.\n"
     ]
    },
    {
     "name": "stderr",
     "output_type": "stream",
     "text": [
      "[I 2024-04-10 14:44:41,705] Trial 90 finished with value: 0.7011014052411697 and parameters: {'feature_0': False, 'feature_1': True, 'feature_2': False, 'feature_3': False, 'feature_4': True, 'feature_5': True, 'feature_6': False, 'feature_7': True, 'feature_8': True, 'feature_9': True, 'feature_10': True, 'feature_11': True, 'feature_12': True, 'feature_13': False, 'feature_14': False, 'feature_15': False, 'feature_16': False, 'feature_17': False, 'feature_18': False, 'feature_19': False, 'feature_20': False, 'feature_21': True, 'feature_22': True}. Best is trial 36 with value: 0.7130003672420125.\n"
     ]
    },
    {
     "name": "stdout",
     "output_type": "stream",
     "text": [
      "Model trained.\n"
     ]
    },
    {
     "name": "stderr",
     "output_type": "stream",
     "text": [
      "[I 2024-04-10 14:44:53,671] Trial 91 finished with value: 0.7130003672420125 and parameters: {'feature_0': False, 'feature_1': True, 'feature_2': False, 'feature_3': False, 'feature_4': True, 'feature_5': True, 'feature_6': True, 'feature_7': True, 'feature_8': True, 'feature_9': True, 'feature_10': False, 'feature_11': True, 'feature_12': True, 'feature_13': False, 'feature_14': False, 'feature_15': False, 'feature_16': True, 'feature_17': False, 'feature_18': False, 'feature_19': True, 'feature_20': False, 'feature_21': True, 'feature_22': True}. Best is trial 36 with value: 0.7130003672420125.\n"
     ]
    },
    {
     "name": "stdout",
     "output_type": "stream",
     "text": [
      "Model trained.\n"
     ]
    },
    {
     "name": "stderr",
     "output_type": "stream",
     "text": [
      "[I 2024-04-10 14:45:05,306] Trial 92 finished with value: 0.7130003672420125 and parameters: {'feature_0': False, 'feature_1': True, 'feature_2': False, 'feature_3': False, 'feature_4': True, 'feature_5': True, 'feature_6': True, 'feature_7': True, 'feature_8': True, 'feature_9': True, 'feature_10': False, 'feature_11': True, 'feature_12': True, 'feature_13': False, 'feature_14': False, 'feature_15': False, 'feature_16': True, 'feature_17': False, 'feature_18': False, 'feature_19': True, 'feature_20': False, 'feature_21': True, 'feature_22': True}. Best is trial 36 with value: 0.7130003672420125.\n"
     ]
    },
    {
     "name": "stdout",
     "output_type": "stream",
     "text": [
      "Model trained.\n"
     ]
    },
    {
     "name": "stderr",
     "output_type": "stream",
     "text": [
      "[I 2024-04-10 14:45:16,737] Trial 93 finished with value: 0.7130003672420125 and parameters: {'feature_0': False, 'feature_1': True, 'feature_2': False, 'feature_3': False, 'feature_4': True, 'feature_5': True, 'feature_6': True, 'feature_7': True, 'feature_8': True, 'feature_9': True, 'feature_10': False, 'feature_11': True, 'feature_12': True, 'feature_13': False, 'feature_14': False, 'feature_15': False, 'feature_16': True, 'feature_17': False, 'feature_18': False, 'feature_19': True, 'feature_20': False, 'feature_21': True, 'feature_22': True}. Best is trial 36 with value: 0.7130003672420125.\n"
     ]
    },
    {
     "name": "stdout",
     "output_type": "stream",
     "text": [
      "Model trained.\n"
     ]
    },
    {
     "name": "stderr",
     "output_type": "stream",
     "text": [
      "[I 2024-04-10 14:45:29,034] Trial 94 finished with value: 0.7130003672420125 and parameters: {'feature_0': False, 'feature_1': True, 'feature_2': False, 'feature_3': False, 'feature_4': True, 'feature_5': True, 'feature_6': True, 'feature_7': True, 'feature_8': True, 'feature_9': True, 'feature_10': False, 'feature_11': True, 'feature_12': True, 'feature_13': False, 'feature_14': False, 'feature_15': False, 'feature_16': True, 'feature_17': False, 'feature_18': False, 'feature_19': True, 'feature_20': False, 'feature_21': True, 'feature_22': True}. Best is trial 36 with value: 0.7130003672420125.\n"
     ]
    },
    {
     "name": "stdout",
     "output_type": "stream",
     "text": [
      "Model trained.\n"
     ]
    },
    {
     "name": "stderr",
     "output_type": "stream",
     "text": [
      "[I 2024-04-10 14:45:41,857] Trial 95 finished with value: 0.7130003672420125 and parameters: {'feature_0': False, 'feature_1': True, 'feature_2': False, 'feature_3': False, 'feature_4': True, 'feature_5': True, 'feature_6': True, 'feature_7': True, 'feature_8': True, 'feature_9': True, 'feature_10': False, 'feature_11': True, 'feature_12': True, 'feature_13': False, 'feature_14': False, 'feature_15': False, 'feature_16': True, 'feature_17': False, 'feature_18': False, 'feature_19': True, 'feature_20': False, 'feature_21': True, 'feature_22': True}. Best is trial 36 with value: 0.7130003672420125.\n"
     ]
    },
    {
     "name": "stdout",
     "output_type": "stream",
     "text": [
      "Model trained.\n"
     ]
    },
    {
     "name": "stderr",
     "output_type": "stream",
     "text": [
      "[I 2024-04-10 14:45:54,581] Trial 96 finished with value: 0.6628967530098504 and parameters: {'feature_0': True, 'feature_1': True, 'feature_2': False, 'feature_3': False, 'feature_4': True, 'feature_5': False, 'feature_6': True, 'feature_7': True, 'feature_8': True, 'feature_9': True, 'feature_10': False, 'feature_11': True, 'feature_12': True, 'feature_13': False, 'feature_14': False, 'feature_15': False, 'feature_16': True, 'feature_17': False, 'feature_18': False, 'feature_19': True, 'feature_20': False, 'feature_21': True, 'feature_22': True}. Best is trial 36 with value: 0.7130003672420125.\n"
     ]
    },
    {
     "name": "stdout",
     "output_type": "stream",
     "text": [
      "Model trained.\n"
     ]
    },
    {
     "name": "stderr",
     "output_type": "stream",
     "text": [
      "[I 2024-04-10 14:46:08,039] Trial 97 finished with value: 0.6957728239755804 and parameters: {'feature_0': False, 'feature_1': True, 'feature_2': False, 'feature_3': True, 'feature_4': True, 'feature_5': True, 'feature_6': True, 'feature_7': True, 'feature_8': False, 'feature_9': True, 'feature_10': False, 'feature_11': True, 'feature_12': True, 'feature_13': False, 'feature_14': False, 'feature_15': False, 'feature_16': True, 'feature_17': False, 'feature_18': False, 'feature_19': True, 'feature_20': False, 'feature_21': True, 'feature_22': True}. Best is trial 36 with value: 0.7130003672420125.\n"
     ]
    },
    {
     "name": "stdout",
     "output_type": "stream",
     "text": [
      "Model trained.\n"
     ]
    },
    {
     "name": "stderr",
     "output_type": "stream",
     "text": [
      "[I 2024-04-10 14:46:22,039] Trial 98 finished with value: 0.7004397215097105 and parameters: {'feature_0': False, 'feature_1': True, 'feature_2': False, 'feature_3': False, 'feature_4': True, 'feature_5': True, 'feature_6': True, 'feature_7': True, 'feature_8': True, 'feature_9': True, 'feature_10': False, 'feature_11': False, 'feature_12': True, 'feature_13': False, 'feature_14': False, 'feature_15': False, 'feature_16': True, 'feature_17': False, 'feature_18': False, 'feature_19': True, 'feature_20': True, 'feature_21': True, 'feature_22': True}. Best is trial 36 with value: 0.7130003672420125.\n"
     ]
    },
    {
     "name": "stdout",
     "output_type": "stream",
     "text": [
      "Model trained.\n"
     ]
    },
    {
     "name": "stderr",
     "output_type": "stream",
     "text": [
      "[I 2024-04-10 14:46:32,174] Trial 99 finished with value: 0.6962742729722198 and parameters: {'feature_0': False, 'feature_1': True, 'feature_2': False, 'feature_3': False, 'feature_4': True, 'feature_5': True, 'feature_6': True, 'feature_7': True, 'feature_8': True, 'feature_9': True, 'feature_10': False, 'feature_11': True, 'feature_12': False, 'feature_13': False, 'feature_14': False, 'feature_15': False, 'feature_16': True, 'feature_17': False, 'feature_18': False, 'feature_19': True, 'feature_20': False, 'feature_21': True, 'feature_22': False}. Best is trial 36 with value: 0.7130003672420125.\n"
     ]
    },
    {
     "name": "stdout",
     "output_type": "stream",
     "text": [
      "Model trained.\n"
     ]
    },
    {
     "name": "stderr",
     "output_type": "stream",
     "text": [
      "[I 2024-04-10 14:46:47,875] Trial 100 finished with value: 0.7013338139870224 and parameters: {'feature_0': False, 'feature_1': True, 'feature_2': True, 'feature_3': False, 'feature_4': True, 'feature_5': True, 'feature_6': True, 'feature_7': True, 'feature_8': True, 'feature_9': False, 'feature_10': False, 'feature_11': True, 'feature_12': True, 'feature_13': True, 'feature_14': False, 'feature_15': False, 'feature_16': True, 'feature_17': False, 'feature_18': True, 'feature_19': True, 'feature_20': False, 'feature_21': True, 'feature_22': True}. Best is trial 36 with value: 0.7130003672420125.\n"
     ]
    },
    {
     "name": "stdout",
     "output_type": "stream",
     "text": [
      "Model trained.\n"
     ]
    },
    {
     "name": "stderr",
     "output_type": "stream",
     "text": [
      "[I 2024-04-10 14:47:01,425] Trial 101 finished with value: 0.7130003672420125 and parameters: {'feature_0': False, 'feature_1': True, 'feature_2': False, 'feature_3': False, 'feature_4': True, 'feature_5': True, 'feature_6': True, 'feature_7': True, 'feature_8': True, 'feature_9': True, 'feature_10': False, 'feature_11': True, 'feature_12': True, 'feature_13': False, 'feature_14': False, 'feature_15': False, 'feature_16': True, 'feature_17': False, 'feature_18': False, 'feature_19': True, 'feature_20': False, 'feature_21': True, 'feature_22': True}. Best is trial 36 with value: 0.7130003672420125.\n"
     ]
    },
    {
     "name": "stdout",
     "output_type": "stream",
     "text": [
      "Model trained.\n"
     ]
    },
    {
     "name": "stderr",
     "output_type": "stream",
     "text": [
      "[I 2024-04-10 14:47:14,466] Trial 102 finished with value: 0.7130003672420125 and parameters: {'feature_0': False, 'feature_1': True, 'feature_2': False, 'feature_3': False, 'feature_4': True, 'feature_5': True, 'feature_6': True, 'feature_7': True, 'feature_8': True, 'feature_9': True, 'feature_10': False, 'feature_11': True, 'feature_12': True, 'feature_13': False, 'feature_14': False, 'feature_15': False, 'feature_16': True, 'feature_17': False, 'feature_18': False, 'feature_19': True, 'feature_20': False, 'feature_21': True, 'feature_22': True}. Best is trial 36 with value: 0.7130003672420125.\n"
     ]
    },
    {
     "name": "stdout",
     "output_type": "stream",
     "text": [
      "Model trained.\n"
     ]
    },
    {
     "name": "stderr",
     "output_type": "stream",
     "text": [
      "[I 2024-04-10 14:47:28,181] Trial 103 finished with value: 0.7130003672420125 and parameters: {'feature_0': False, 'feature_1': True, 'feature_2': False, 'feature_3': False, 'feature_4': True, 'feature_5': True, 'feature_6': True, 'feature_7': True, 'feature_8': True, 'feature_9': True, 'feature_10': False, 'feature_11': True, 'feature_12': True, 'feature_13': False, 'feature_14': False, 'feature_15': False, 'feature_16': True, 'feature_17': False, 'feature_18': False, 'feature_19': True, 'feature_20': False, 'feature_21': True, 'feature_22': True}. Best is trial 36 with value: 0.7130003672420125.\n"
     ]
    },
    {
     "name": "stdout",
     "output_type": "stream",
     "text": [
      "Model trained.\n"
     ]
    },
    {
     "name": "stderr",
     "output_type": "stream",
     "text": [
      "[I 2024-04-10 14:47:41,647] Trial 104 finished with value: 0.7130003672420125 and parameters: {'feature_0': False, 'feature_1': True, 'feature_2': False, 'feature_3': False, 'feature_4': True, 'feature_5': True, 'feature_6': True, 'feature_7': True, 'feature_8': True, 'feature_9': True, 'feature_10': False, 'feature_11': True, 'feature_12': True, 'feature_13': False, 'feature_14': False, 'feature_15': False, 'feature_16': True, 'feature_17': False, 'feature_18': False, 'feature_19': True, 'feature_20': False, 'feature_21': True, 'feature_22': True}. Best is trial 36 with value: 0.7130003672420125.\n"
     ]
    },
    {
     "name": "stdout",
     "output_type": "stream",
     "text": [
      "Model trained.\n"
     ]
    },
    {
     "name": "stderr",
     "output_type": "stream",
     "text": [
      "[I 2024-04-10 14:47:54,860] Trial 105 finished with value: 0.7130003672420125 and parameters: {'feature_0': False, 'feature_1': True, 'feature_2': False, 'feature_3': False, 'feature_4': True, 'feature_5': True, 'feature_6': True, 'feature_7': True, 'feature_8': True, 'feature_9': True, 'feature_10': False, 'feature_11': True, 'feature_12': True, 'feature_13': False, 'feature_14': False, 'feature_15': False, 'feature_16': True, 'feature_17': False, 'feature_18': False, 'feature_19': True, 'feature_20': False, 'feature_21': True, 'feature_22': True}. Best is trial 36 with value: 0.7130003672420125.\n"
     ]
    },
    {
     "name": "stdout",
     "output_type": "stream",
     "text": [
      "Model trained.\n"
     ]
    },
    {
     "name": "stderr",
     "output_type": "stream",
     "text": [
      "[I 2024-04-10 14:48:07,155] Trial 106 finished with value: 0.7083599234205489 and parameters: {'feature_0': False, 'feature_1': True, 'feature_2': False, 'feature_3': False, 'feature_4': True, 'feature_5': True, 'feature_6': True, 'feature_7': False, 'feature_8': True, 'feature_9': True, 'feature_10': False, 'feature_11': True, 'feature_12': True, 'feature_13': False, 'feature_14': False, 'feature_15': False, 'feature_16': True, 'feature_17': False, 'feature_18': False, 'feature_19': True, 'feature_20': False, 'feature_21': True, 'feature_22': True}. Best is trial 36 with value: 0.7130003672420125.\n"
     ]
    },
    {
     "name": "stdout",
     "output_type": "stream",
     "text": [
      "Model trained.\n"
     ]
    },
    {
     "name": "stderr",
     "output_type": "stream",
     "text": [
      "[I 2024-04-10 14:48:19,446] Trial 107 finished with value: 0.6968070076292738 and parameters: {'feature_0': False, 'feature_1': False, 'feature_2': False, 'feature_3': False, 'feature_4': True, 'feature_5': True, 'feature_6': True, 'feature_7': True, 'feature_8': True, 'feature_9': True, 'feature_10': False, 'feature_11': True, 'feature_12': True, 'feature_13': False, 'feature_14': False, 'feature_15': False, 'feature_16': True, 'feature_17': False, 'feature_18': False, 'feature_19': True, 'feature_20': False, 'feature_21': True, 'feature_22': True}. Best is trial 36 with value: 0.7130003672420125.\n"
     ]
    },
    {
     "name": "stdout",
     "output_type": "stream",
     "text": [
      "Model trained.\n"
     ]
    },
    {
     "name": "stderr",
     "output_type": "stream",
     "text": [
      "[I 2024-04-10 14:48:32,451] Trial 108 finished with value: 0.7130003672420125 and parameters: {'feature_0': False, 'feature_1': True, 'feature_2': False, 'feature_3': False, 'feature_4': True, 'feature_5': True, 'feature_6': True, 'feature_7': True, 'feature_8': True, 'feature_9': True, 'feature_10': False, 'feature_11': True, 'feature_12': True, 'feature_13': False, 'feature_14': False, 'feature_15': False, 'feature_16': True, 'feature_17': False, 'feature_18': False, 'feature_19': True, 'feature_20': False, 'feature_21': True, 'feature_22': True}. Best is trial 36 with value: 0.7130003672420125.\n"
     ]
    },
    {
     "name": "stdout",
     "output_type": "stream",
     "text": [
      "Model trained.\n"
     ]
    },
    {
     "name": "stderr",
     "output_type": "stream",
     "text": [
      "[I 2024-04-10 14:48:46,009] Trial 109 finished with value: 0.7130003672420125 and parameters: {'feature_0': False, 'feature_1': True, 'feature_2': False, 'feature_3': False, 'feature_4': True, 'feature_5': True, 'feature_6': True, 'feature_7': True, 'feature_8': True, 'feature_9': True, 'feature_10': False, 'feature_11': True, 'feature_12': True, 'feature_13': False, 'feature_14': False, 'feature_15': False, 'feature_16': True, 'feature_17': False, 'feature_18': False, 'feature_19': True, 'feature_20': False, 'feature_21': True, 'feature_22': True}. Best is trial 36 with value: 0.7130003672420125.\n"
     ]
    },
    {
     "name": "stdout",
     "output_type": "stream",
     "text": [
      "Model trained.\n"
     ]
    },
    {
     "name": "stderr",
     "output_type": "stream",
     "text": [
      "[I 2024-04-10 14:48:57,832] Trial 110 finished with value: 0.6410902641650331 and parameters: {'feature_0': True, 'feature_1': True, 'feature_2': False, 'feature_3': False, 'feature_4': True, 'feature_5': False, 'feature_6': False, 'feature_7': True, 'feature_8': True, 'feature_9': True, 'feature_10': True, 'feature_11': True, 'feature_12': True, 'feature_13': False, 'feature_14': False, 'feature_15': False, 'feature_16': True, 'feature_17': False, 'feature_18': False, 'feature_19': False, 'feature_20': False, 'feature_21': True, 'feature_22': True}. Best is trial 36 with value: 0.7130003672420125.\n"
     ]
    },
    {
     "name": "stdout",
     "output_type": "stream",
     "text": [
      "Model trained.\n"
     ]
    },
    {
     "name": "stderr",
     "output_type": "stream",
     "text": [
      "[I 2024-04-10 14:49:11,567] Trial 111 finished with value: 0.7130003672420125 and parameters: {'feature_0': False, 'feature_1': True, 'feature_2': False, 'feature_3': False, 'feature_4': True, 'feature_5': True, 'feature_6': True, 'feature_7': True, 'feature_8': True, 'feature_9': True, 'feature_10': False, 'feature_11': True, 'feature_12': True, 'feature_13': False, 'feature_14': False, 'feature_15': False, 'feature_16': True, 'feature_17': False, 'feature_18': False, 'feature_19': True, 'feature_20': False, 'feature_21': True, 'feature_22': True}. Best is trial 36 with value: 0.7130003672420125.\n"
     ]
    },
    {
     "name": "stdout",
     "output_type": "stream",
     "text": [
      "Model trained.\n"
     ]
    },
    {
     "name": "stderr",
     "output_type": "stream",
     "text": [
      "[I 2024-04-10 14:49:24,679] Trial 112 finished with value: 0.7130003672420125 and parameters: {'feature_0': False, 'feature_1': True, 'feature_2': False, 'feature_3': False, 'feature_4': True, 'feature_5': True, 'feature_6': True, 'feature_7': True, 'feature_8': True, 'feature_9': True, 'feature_10': False, 'feature_11': True, 'feature_12': True, 'feature_13': False, 'feature_14': False, 'feature_15': False, 'feature_16': True, 'feature_17': False, 'feature_18': False, 'feature_19': True, 'feature_20': False, 'feature_21': True, 'feature_22': True}. Best is trial 36 with value: 0.7130003672420125.\n"
     ]
    },
    {
     "name": "stdout",
     "output_type": "stream",
     "text": [
      "Model trained.\n"
     ]
    },
    {
     "name": "stderr",
     "output_type": "stream",
     "text": [
      "[I 2024-04-10 14:49:38,324] Trial 113 finished with value: 0.7130003672420125 and parameters: {'feature_0': False, 'feature_1': True, 'feature_2': False, 'feature_3': False, 'feature_4': True, 'feature_5': True, 'feature_6': True, 'feature_7': True, 'feature_8': True, 'feature_9': True, 'feature_10': False, 'feature_11': True, 'feature_12': True, 'feature_13': False, 'feature_14': False, 'feature_15': False, 'feature_16': True, 'feature_17': False, 'feature_18': False, 'feature_19': True, 'feature_20': False, 'feature_21': True, 'feature_22': True}. Best is trial 36 with value: 0.7130003672420125.\n"
     ]
    },
    {
     "name": "stdout",
     "output_type": "stream",
     "text": [
      "Model trained.\n"
     ]
    },
    {
     "name": "stderr",
     "output_type": "stream",
     "text": [
      "[I 2024-04-10 14:49:51,462] Trial 114 finished with value: 0.7130003672420125 and parameters: {'feature_0': False, 'feature_1': True, 'feature_2': False, 'feature_3': False, 'feature_4': True, 'feature_5': True, 'feature_6': True, 'feature_7': True, 'feature_8': True, 'feature_9': True, 'feature_10': False, 'feature_11': True, 'feature_12': True, 'feature_13': False, 'feature_14': False, 'feature_15': False, 'feature_16': True, 'feature_17': False, 'feature_18': False, 'feature_19': True, 'feature_20': False, 'feature_21': True, 'feature_22': True}. Best is trial 36 with value: 0.7130003672420125.\n"
     ]
    },
    {
     "name": "stdout",
     "output_type": "stream",
     "text": [
      "Model trained.\n"
     ]
    },
    {
     "name": "stderr",
     "output_type": "stream",
     "text": [
      "[I 2024-04-10 14:50:04,656] Trial 115 finished with value: 0.7082020347528585 and parameters: {'feature_0': False, 'feature_1': True, 'feature_2': False, 'feature_3': False, 'feature_4': True, 'feature_5': True, 'feature_6': True, 'feature_7': True, 'feature_8': True, 'feature_9': True, 'feature_10': False, 'feature_11': True, 'feature_12': True, 'feature_13': False, 'feature_14': False, 'feature_15': False, 'feature_16': False, 'feature_17': False, 'feature_18': False, 'feature_19': True, 'feature_20': False, 'feature_21': True, 'feature_22': True}. Best is trial 36 with value: 0.7130003672420125.\n"
     ]
    },
    {
     "name": "stdout",
     "output_type": "stream",
     "text": [
      "Model trained.\n"
     ]
    },
    {
     "name": "stderr",
     "output_type": "stream",
     "text": [
      "[I 2024-04-10 14:50:16,934] Trial 116 finished with value: 0.6957728239755804 and parameters: {'feature_0': False, 'feature_1': True, 'feature_2': False, 'feature_3': True, 'feature_4': True, 'feature_5': True, 'feature_6': True, 'feature_7': True, 'feature_8': False, 'feature_9': True, 'feature_10': False, 'feature_11': True, 'feature_12': True, 'feature_13': False, 'feature_14': False, 'feature_15': False, 'feature_16': True, 'feature_17': False, 'feature_18': False, 'feature_19': True, 'feature_20': False, 'feature_21': True, 'feature_22': True}. Best is trial 36 with value: 0.7130003672420125.\n"
     ]
    },
    {
     "name": "stdout",
     "output_type": "stream",
     "text": [
      "Model trained.\n"
     ]
    },
    {
     "name": "stderr",
     "output_type": "stream",
     "text": [
      "[I 2024-04-10 14:50:30,157] Trial 117 finished with value: 0.7004397215097105 and parameters: {'feature_0': False, 'feature_1': True, 'feature_2': False, 'feature_3': False, 'feature_4': True, 'feature_5': True, 'feature_6': True, 'feature_7': True, 'feature_8': True, 'feature_9': True, 'feature_10': False, 'feature_11': False, 'feature_12': True, 'feature_13': False, 'feature_14': False, 'feature_15': False, 'feature_16': True, 'feature_17': False, 'feature_18': False, 'feature_19': True, 'feature_20': True, 'feature_21': True, 'feature_22': True}. Best is trial 36 with value: 0.7130003672420125.\n"
     ]
    },
    {
     "name": "stdout",
     "output_type": "stream",
     "text": [
      "Model trained.\n"
     ]
    },
    {
     "name": "stderr",
     "output_type": "stream",
     "text": [
      "[I 2024-04-10 14:50:40,394] Trial 118 finished with value: 0.6993006993006993 and parameters: {'feature_0': False, 'feature_1': True, 'feature_2': False, 'feature_3': False, 'feature_4': True, 'feature_5': True, 'feature_6': True, 'feature_7': True, 'feature_8': True, 'feature_9': True, 'feature_10': False, 'feature_11': True, 'feature_12': True, 'feature_13': False, 'feature_14': False, 'feature_15': False, 'feature_16': True, 'feature_17': False, 'feature_18': False, 'feature_19': True, 'feature_20': False, 'feature_21': True, 'feature_22': False}. Best is trial 36 with value: 0.7130003672420125.\n"
     ]
    },
    {
     "name": "stdout",
     "output_type": "stream",
     "text": [
      "Model trained.\n"
     ]
    },
    {
     "name": "stderr",
     "output_type": "stream",
     "text": [
      "[I 2024-04-10 14:50:53,894] Trial 119 finished with value: 0.6927122464312547 and parameters: {'feature_0': False, 'feature_1': True, 'feature_2': False, 'feature_3': False, 'feature_4': True, 'feature_5': True, 'feature_6': True, 'feature_7': True, 'feature_8': True, 'feature_9': False, 'feature_10': False, 'feature_11': True, 'feature_12': False, 'feature_13': True, 'feature_14': False, 'feature_15': False, 'feature_16': True, 'feature_17': False, 'feature_18': True, 'feature_19': True, 'feature_20': False, 'feature_21': True, 'feature_22': True}. Best is trial 36 with value: 0.7130003672420125.\n"
     ]
    },
    {
     "name": "stdout",
     "output_type": "stream",
     "text": [
      "Model trained.\n"
     ]
    },
    {
     "name": "stderr",
     "output_type": "stream",
     "text": [
      "[I 2024-04-10 14:51:08,212] Trial 120 finished with value: 0.705956338154703 and parameters: {'feature_0': False, 'feature_1': True, 'feature_2': True, 'feature_3': False, 'feature_4': True, 'feature_5': True, 'feature_6': True, 'feature_7': True, 'feature_8': True, 'feature_9': True, 'feature_10': False, 'feature_11': True, 'feature_12': True, 'feature_13': False, 'feature_14': False, 'feature_15': False, 'feature_16': True, 'feature_17': False, 'feature_18': False, 'feature_19': True, 'feature_20': False, 'feature_21': True, 'feature_22': True}. Best is trial 36 with value: 0.7130003672420125.\n"
     ]
    },
    {
     "name": "stdout",
     "output_type": "stream",
     "text": [
      "Model trained.\n"
     ]
    },
    {
     "name": "stderr",
     "output_type": "stream",
     "text": [
      "[I 2024-04-10 14:51:21,130] Trial 121 finished with value: 0.7130003672420125 and parameters: {'feature_0': False, 'feature_1': True, 'feature_2': False, 'feature_3': False, 'feature_4': True, 'feature_5': True, 'feature_6': True, 'feature_7': True, 'feature_8': True, 'feature_9': True, 'feature_10': False, 'feature_11': True, 'feature_12': True, 'feature_13': False, 'feature_14': False, 'feature_15': False, 'feature_16': True, 'feature_17': False, 'feature_18': False, 'feature_19': True, 'feature_20': False, 'feature_21': True, 'feature_22': True}. Best is trial 36 with value: 0.7130003672420125.\n"
     ]
    },
    {
     "name": "stdout",
     "output_type": "stream",
     "text": [
      "Model trained.\n"
     ]
    },
    {
     "name": "stderr",
     "output_type": "stream",
     "text": [
      "[I 2024-04-10 14:51:34,098] Trial 122 finished with value: 0.7130003672420125 and parameters: {'feature_0': False, 'feature_1': True, 'feature_2': False, 'feature_3': False, 'feature_4': True, 'feature_5': True, 'feature_6': True, 'feature_7': True, 'feature_8': True, 'feature_9': True, 'feature_10': False, 'feature_11': True, 'feature_12': True, 'feature_13': False, 'feature_14': False, 'feature_15': False, 'feature_16': True, 'feature_17': False, 'feature_18': False, 'feature_19': True, 'feature_20': False, 'feature_21': True, 'feature_22': True}. Best is trial 36 with value: 0.7130003672420125.\n"
     ]
    },
    {
     "name": "stdout",
     "output_type": "stream",
     "text": [
      "Model trained.\n"
     ]
    },
    {
     "name": "stderr",
     "output_type": "stream",
     "text": [
      "[I 2024-04-10 14:51:46,468] Trial 123 finished with value: 0.7130003672420125 and parameters: {'feature_0': False, 'feature_1': True, 'feature_2': False, 'feature_3': False, 'feature_4': True, 'feature_5': True, 'feature_6': True, 'feature_7': True, 'feature_8': True, 'feature_9': True, 'feature_10': False, 'feature_11': True, 'feature_12': True, 'feature_13': False, 'feature_14': False, 'feature_15': False, 'feature_16': True, 'feature_17': False, 'feature_18': False, 'feature_19': True, 'feature_20': False, 'feature_21': True, 'feature_22': True}. Best is trial 36 with value: 0.7130003672420125.\n"
     ]
    },
    {
     "name": "stdout",
     "output_type": "stream",
     "text": [
      "Model trained.\n"
     ]
    },
    {
     "name": "stderr",
     "output_type": "stream",
     "text": [
      "[I 2024-04-10 14:52:00,372] Trial 124 finished with value: 0.7130003672420125 and parameters: {'feature_0': False, 'feature_1': True, 'feature_2': False, 'feature_3': False, 'feature_4': True, 'feature_5': True, 'feature_6': True, 'feature_7': True, 'feature_8': True, 'feature_9': True, 'feature_10': False, 'feature_11': True, 'feature_12': True, 'feature_13': False, 'feature_14': False, 'feature_15': False, 'feature_16': True, 'feature_17': False, 'feature_18': False, 'feature_19': True, 'feature_20': False, 'feature_21': True, 'feature_22': True}. Best is trial 36 with value: 0.7130003672420125.\n"
     ]
    },
    {
     "name": "stdout",
     "output_type": "stream",
     "text": [
      "Model trained.\n"
     ]
    },
    {
     "name": "stderr",
     "output_type": "stream",
     "text": [
      "[I 2024-04-10 14:52:12,617] Trial 125 finished with value: 0.7130003672420125 and parameters: {'feature_0': False, 'feature_1': True, 'feature_2': False, 'feature_3': False, 'feature_4': True, 'feature_5': True, 'feature_6': True, 'feature_7': True, 'feature_8': True, 'feature_9': True, 'feature_10': False, 'feature_11': True, 'feature_12': True, 'feature_13': False, 'feature_14': False, 'feature_15': False, 'feature_16': True, 'feature_17': False, 'feature_18': False, 'feature_19': True, 'feature_20': False, 'feature_21': True, 'feature_22': True}. Best is trial 36 with value: 0.7130003672420125.\n"
     ]
    },
    {
     "name": "stdout",
     "output_type": "stream",
     "text": [
      "Model trained.\n"
     ]
    },
    {
     "name": "stderr",
     "output_type": "stream",
     "text": [
      "[I 2024-04-10 14:52:23,570] Trial 126 finished with value: 0.7083599234205489 and parameters: {'feature_0': False, 'feature_1': True, 'feature_2': False, 'feature_3': False, 'feature_4': True, 'feature_5': True, 'feature_6': True, 'feature_7': False, 'feature_8': True, 'feature_9': True, 'feature_10': False, 'feature_11': True, 'feature_12': True, 'feature_13': False, 'feature_14': False, 'feature_15': False, 'feature_16': True, 'feature_17': False, 'feature_18': False, 'feature_19': True, 'feature_20': False, 'feature_21': True, 'feature_22': True}. Best is trial 36 with value: 0.7130003672420125.\n"
     ]
    },
    {
     "name": "stdout",
     "output_type": "stream",
     "text": [
      "Model trained.\n"
     ]
    },
    {
     "name": "stderr",
     "output_type": "stream",
     "text": [
      "[I 2024-04-10 14:52:34,789] Trial 127 finished with value: 0.6968070076292738 and parameters: {'feature_0': False, 'feature_1': False, 'feature_2': False, 'feature_3': False, 'feature_4': True, 'feature_5': True, 'feature_6': True, 'feature_7': True, 'feature_8': True, 'feature_9': True, 'feature_10': False, 'feature_11': True, 'feature_12': True, 'feature_13': False, 'feature_14': False, 'feature_15': False, 'feature_16': True, 'feature_17': False, 'feature_18': False, 'feature_19': True, 'feature_20': False, 'feature_21': True, 'feature_22': True}. Best is trial 36 with value: 0.7130003672420125.\n"
     ]
    },
    {
     "name": "stdout",
     "output_type": "stream",
     "text": [
      "Model trained.\n"
     ]
    },
    {
     "name": "stderr",
     "output_type": "stream",
     "text": [
      "[I 2024-04-10 14:52:47,156] Trial 128 finished with value: 0.7130003672420125 and parameters: {'feature_0': False, 'feature_1': True, 'feature_2': False, 'feature_3': False, 'feature_4': True, 'feature_5': True, 'feature_6': True, 'feature_7': True, 'feature_8': True, 'feature_9': True, 'feature_10': False, 'feature_11': True, 'feature_12': True, 'feature_13': False, 'feature_14': False, 'feature_15': False, 'feature_16': True, 'feature_17': False, 'feature_18': False, 'feature_19': True, 'feature_20': False, 'feature_21': True, 'feature_22': True}. Best is trial 36 with value: 0.7130003672420125.\n"
     ]
    },
    {
     "name": "stdout",
     "output_type": "stream",
     "text": [
      "Model trained.\n"
     ]
    },
    {
     "name": "stderr",
     "output_type": "stream",
     "text": [
      "[I 2024-04-10 14:52:59,364] Trial 129 finished with value: 0.7130003672420125 and parameters: {'feature_0': False, 'feature_1': True, 'feature_2': False, 'feature_3': False, 'feature_4': True, 'feature_5': True, 'feature_6': True, 'feature_7': True, 'feature_8': True, 'feature_9': True, 'feature_10': False, 'feature_11': True, 'feature_12': True, 'feature_13': False, 'feature_14': False, 'feature_15': False, 'feature_16': True, 'feature_17': False, 'feature_18': False, 'feature_19': True, 'feature_20': False, 'feature_21': True, 'feature_22': True}. Best is trial 36 with value: 0.7130003672420125.\n"
     ]
    },
    {
     "name": "stdout",
     "output_type": "stream",
     "text": [
      "Model trained.\n"
     ]
    },
    {
     "name": "stderr",
     "output_type": "stream",
     "text": [
      "[I 2024-04-10 14:53:10,562] Trial 130 finished with value: 0.69138040424182 and parameters: {'feature_0': True, 'feature_1': True, 'feature_2': False, 'feature_3': False, 'feature_4': True, 'feature_5': True, 'feature_6': False, 'feature_7': True, 'feature_8': True, 'feature_9': True, 'feature_10': True, 'feature_11': True, 'feature_12': True, 'feature_13': False, 'feature_14': False, 'feature_15': False, 'feature_16': False, 'feature_17': False, 'feature_18': False, 'feature_19': False, 'feature_20': False, 'feature_21': True, 'feature_22': True}. Best is trial 36 with value: 0.7130003672420125.\n"
     ]
    },
    {
     "name": "stdout",
     "output_type": "stream",
     "text": [
      "Model trained.\n"
     ]
    },
    {
     "name": "stderr",
     "output_type": "stream",
     "text": [
      "[I 2024-04-10 14:53:23,218] Trial 131 finished with value: 0.7130003672420125 and parameters: {'feature_0': False, 'feature_1': True, 'feature_2': False, 'feature_3': False, 'feature_4': True, 'feature_5': True, 'feature_6': True, 'feature_7': True, 'feature_8': True, 'feature_9': True, 'feature_10': False, 'feature_11': True, 'feature_12': True, 'feature_13': False, 'feature_14': False, 'feature_15': False, 'feature_16': True, 'feature_17': False, 'feature_18': False, 'feature_19': True, 'feature_20': False, 'feature_21': True, 'feature_22': True}. Best is trial 36 with value: 0.7130003672420125.\n"
     ]
    },
    {
     "name": "stdout",
     "output_type": "stream",
     "text": [
      "Model trained.\n"
     ]
    },
    {
     "name": "stderr",
     "output_type": "stream",
     "text": [
      "[I 2024-04-10 14:53:36,183] Trial 132 finished with value: 0.7130003672420125 and parameters: {'feature_0': False, 'feature_1': True, 'feature_2': False, 'feature_3': False, 'feature_4': True, 'feature_5': True, 'feature_6': True, 'feature_7': True, 'feature_8': True, 'feature_9': True, 'feature_10': False, 'feature_11': True, 'feature_12': True, 'feature_13': False, 'feature_14': False, 'feature_15': False, 'feature_16': True, 'feature_17': False, 'feature_18': False, 'feature_19': True, 'feature_20': False, 'feature_21': True, 'feature_22': True}. Best is trial 36 with value: 0.7130003672420125.\n"
     ]
    },
    {
     "name": "stdout",
     "output_type": "stream",
     "text": [
      "Model trained.\n"
     ]
    },
    {
     "name": "stderr",
     "output_type": "stream",
     "text": [
      "[I 2024-04-10 14:53:49,412] Trial 133 finished with value: 0.7130003672420125 and parameters: {'feature_0': False, 'feature_1': True, 'feature_2': False, 'feature_3': False, 'feature_4': True, 'feature_5': True, 'feature_6': True, 'feature_7': True, 'feature_8': True, 'feature_9': True, 'feature_10': False, 'feature_11': True, 'feature_12': True, 'feature_13': False, 'feature_14': False, 'feature_15': False, 'feature_16': True, 'feature_17': False, 'feature_18': False, 'feature_19': True, 'feature_20': False, 'feature_21': True, 'feature_22': True}. Best is trial 36 with value: 0.7130003672420125.\n"
     ]
    },
    {
     "name": "stdout",
     "output_type": "stream",
     "text": [
      "Model trained.\n"
     ]
    },
    {
     "name": "stderr",
     "output_type": "stream",
     "text": [
      "[I 2024-04-10 14:54:02,372] Trial 134 finished with value: 0.7130003672420125 and parameters: {'feature_0': False, 'feature_1': True, 'feature_2': False, 'feature_3': False, 'feature_4': True, 'feature_5': True, 'feature_6': True, 'feature_7': True, 'feature_8': True, 'feature_9': True, 'feature_10': False, 'feature_11': True, 'feature_12': True, 'feature_13': False, 'feature_14': False, 'feature_15': False, 'feature_16': True, 'feature_17': False, 'feature_18': False, 'feature_19': True, 'feature_20': False, 'feature_21': True, 'feature_22': True}. Best is trial 36 with value: 0.7130003672420125.\n"
     ]
    },
    {
     "name": "stdout",
     "output_type": "stream",
     "text": [
      "Model trained.\n"
     ]
    },
    {
     "name": "stderr",
     "output_type": "stream",
     "text": [
      "[I 2024-04-10 14:54:15,238] Trial 135 finished with value: 0.7130003672420125 and parameters: {'feature_0': False, 'feature_1': True, 'feature_2': False, 'feature_3': False, 'feature_4': True, 'feature_5': True, 'feature_6': True, 'feature_7': True, 'feature_8': True, 'feature_9': True, 'feature_10': False, 'feature_11': True, 'feature_12': True, 'feature_13': False, 'feature_14': False, 'feature_15': False, 'feature_16': True, 'feature_17': False, 'feature_18': False, 'feature_19': True, 'feature_20': False, 'feature_21': True, 'feature_22': True}. Best is trial 36 with value: 0.7130003672420125.\n"
     ]
    },
    {
     "name": "stdout",
     "output_type": "stream",
     "text": [
      "Model trained.\n"
     ]
    },
    {
     "name": "stderr",
     "output_type": "stream",
     "text": [
      "[I 2024-04-10 14:54:27,552] Trial 136 finished with value: 0.6797362324006415 and parameters: {'feature_0': False, 'feature_1': True, 'feature_2': False, 'feature_3': True, 'feature_4': True, 'feature_5': False, 'feature_6': True, 'feature_7': True, 'feature_8': True, 'feature_9': True, 'feature_10': False, 'feature_11': True, 'feature_12': True, 'feature_13': False, 'feature_14': False, 'feature_15': False, 'feature_16': True, 'feature_17': False, 'feature_18': False, 'feature_19': True, 'feature_20': False, 'feature_21': True, 'feature_22': True}. Best is trial 36 with value: 0.7130003672420125.\n"
     ]
    },
    {
     "name": "stdout",
     "output_type": "stream",
     "text": [
      "Model trained.\n"
     ]
    },
    {
     "name": "stderr",
     "output_type": "stream",
     "text": [
      "[I 2024-04-10 14:54:40,181] Trial 137 finished with value: 0.6844172014174886 and parameters: {'feature_0': False, 'feature_1': True, 'feature_2': False, 'feature_3': False, 'feature_4': True, 'feature_5': True, 'feature_6': True, 'feature_7': True, 'feature_8': False, 'feature_9': True, 'feature_10': False, 'feature_11': False, 'feature_12': True, 'feature_13': False, 'feature_14': False, 'feature_15': False, 'feature_16': True, 'feature_17': False, 'feature_18': False, 'feature_19': True, 'feature_20': True, 'feature_21': True, 'feature_22': True}. Best is trial 36 with value: 0.7130003672420125.\n"
     ]
    },
    {
     "name": "stdout",
     "output_type": "stream",
     "text": [
      "Model trained.\n"
     ]
    },
    {
     "name": "stderr",
     "output_type": "stream",
     "text": [
      "[I 2024-04-10 14:54:53,235] Trial 138 finished with value: 0.7130003672420125 and parameters: {'feature_0': False, 'feature_1': True, 'feature_2': False, 'feature_3': False, 'feature_4': True, 'feature_5': True, 'feature_6': True, 'feature_7': True, 'feature_8': True, 'feature_9': True, 'feature_10': False, 'feature_11': True, 'feature_12': True, 'feature_13': False, 'feature_14': False, 'feature_15': False, 'feature_16': True, 'feature_17': False, 'feature_18': False, 'feature_19': True, 'feature_20': False, 'feature_21': True, 'feature_22': True}. Best is trial 36 with value: 0.7130003672420125.\n"
     ]
    },
    {
     "name": "stdout",
     "output_type": "stream",
     "text": [
      "Model trained.\n"
     ]
    },
    {
     "name": "stderr",
     "output_type": "stream",
     "text": [
      "[I 2024-04-10 14:55:04,123] Trial 139 finished with value: 0.6962742729722198 and parameters: {'feature_0': False, 'feature_1': True, 'feature_2': False, 'feature_3': False, 'feature_4': True, 'feature_5': True, 'feature_6': True, 'feature_7': True, 'feature_8': True, 'feature_9': True, 'feature_10': False, 'feature_11': True, 'feature_12': False, 'feature_13': False, 'feature_14': False, 'feature_15': False, 'feature_16': True, 'feature_17': False, 'feature_18': False, 'feature_19': True, 'feature_20': False, 'feature_21': True, 'feature_22': False}. Best is trial 36 with value: 0.7130003672420125.\n"
     ]
    },
    {
     "name": "stdout",
     "output_type": "stream",
     "text": [
      "Model trained.\n"
     ]
    },
    {
     "name": "stderr",
     "output_type": "stream",
     "text": [
      "[I 2024-04-10 14:55:18,077] Trial 140 finished with value: 0.7023518344308561 and parameters: {'feature_0': False, 'feature_1': True, 'feature_2': False, 'feature_3': False, 'feature_4': True, 'feature_5': True, 'feature_6': True, 'feature_7': True, 'feature_8': True, 'feature_9': False, 'feature_10': False, 'feature_11': True, 'feature_12': True, 'feature_13': True, 'feature_14': True, 'feature_15': True, 'feature_16': True, 'feature_17': False, 'feature_18': True, 'feature_19': True, 'feature_20': False, 'feature_21': False, 'feature_22': True}. Best is trial 36 with value: 0.7130003672420125.\n"
     ]
    },
    {
     "name": "stdout",
     "output_type": "stream",
     "text": [
      "Model trained.\n"
     ]
    },
    {
     "name": "stderr",
     "output_type": "stream",
     "text": [
      "[I 2024-04-10 14:55:30,724] Trial 141 finished with value: 0.7130003672420125 and parameters: {'feature_0': False, 'feature_1': True, 'feature_2': False, 'feature_3': False, 'feature_4': True, 'feature_5': True, 'feature_6': True, 'feature_7': True, 'feature_8': True, 'feature_9': True, 'feature_10': False, 'feature_11': True, 'feature_12': True, 'feature_13': False, 'feature_14': False, 'feature_15': False, 'feature_16': True, 'feature_17': False, 'feature_18': False, 'feature_19': True, 'feature_20': False, 'feature_21': True, 'feature_22': True}. Best is trial 36 with value: 0.7130003672420125.\n"
     ]
    },
    {
     "name": "stdout",
     "output_type": "stream",
     "text": [
      "Model trained.\n"
     ]
    },
    {
     "name": "stderr",
     "output_type": "stream",
     "text": [
      "[I 2024-04-10 14:55:43,386] Trial 142 finished with value: 0.7130003672420125 and parameters: {'feature_0': False, 'feature_1': True, 'feature_2': False, 'feature_3': False, 'feature_4': True, 'feature_5': True, 'feature_6': True, 'feature_7': True, 'feature_8': True, 'feature_9': True, 'feature_10': False, 'feature_11': True, 'feature_12': True, 'feature_13': False, 'feature_14': False, 'feature_15': False, 'feature_16': True, 'feature_17': False, 'feature_18': False, 'feature_19': True, 'feature_20': False, 'feature_21': True, 'feature_22': True}. Best is trial 36 with value: 0.7130003672420125.\n"
     ]
    },
    {
     "name": "stdout",
     "output_type": "stream",
     "text": [
      "Model trained.\n"
     ]
    },
    {
     "name": "stderr",
     "output_type": "stream",
     "text": [
      "[I 2024-04-10 14:55:56,546] Trial 143 finished with value: 0.7130003672420125 and parameters: {'feature_0': False, 'feature_1': True, 'feature_2': False, 'feature_3': False, 'feature_4': True, 'feature_5': True, 'feature_6': True, 'feature_7': True, 'feature_8': True, 'feature_9': True, 'feature_10': False, 'feature_11': True, 'feature_12': True, 'feature_13': False, 'feature_14': False, 'feature_15': False, 'feature_16': True, 'feature_17': False, 'feature_18': False, 'feature_19': True, 'feature_20': False, 'feature_21': True, 'feature_22': True}. Best is trial 36 with value: 0.7130003672420125.\n"
     ]
    },
    {
     "name": "stdout",
     "output_type": "stream",
     "text": [
      "Model trained.\n"
     ]
    },
    {
     "name": "stderr",
     "output_type": "stream",
     "text": [
      "[I 2024-04-10 14:56:09,679] Trial 144 finished with value: 0.7130003672420125 and parameters: {'feature_0': False, 'feature_1': True, 'feature_2': False, 'feature_3': False, 'feature_4': True, 'feature_5': True, 'feature_6': True, 'feature_7': True, 'feature_8': True, 'feature_9': True, 'feature_10': False, 'feature_11': True, 'feature_12': True, 'feature_13': False, 'feature_14': False, 'feature_15': False, 'feature_16': True, 'feature_17': False, 'feature_18': False, 'feature_19': True, 'feature_20': False, 'feature_21': True, 'feature_22': True}. Best is trial 36 with value: 0.7130003672420125.\n"
     ]
    },
    {
     "name": "stdout",
     "output_type": "stream",
     "text": [
      "Model trained.\n"
     ]
    },
    {
     "name": "stderr",
     "output_type": "stream",
     "text": [
      "[I 2024-04-10 14:56:22,603] Trial 145 finished with value: 0.7130003672420125 and parameters: {'feature_0': False, 'feature_1': True, 'feature_2': False, 'feature_3': False, 'feature_4': True, 'feature_5': True, 'feature_6': True, 'feature_7': True, 'feature_8': True, 'feature_9': True, 'feature_10': False, 'feature_11': True, 'feature_12': True, 'feature_13': False, 'feature_14': False, 'feature_15': False, 'feature_16': True, 'feature_17': False, 'feature_18': False, 'feature_19': True, 'feature_20': False, 'feature_21': True, 'feature_22': True}. Best is trial 36 with value: 0.7130003672420125.\n"
     ]
    },
    {
     "name": "stdout",
     "output_type": "stream",
     "text": [
      "Model trained.\n"
     ]
    },
    {
     "name": "stderr",
     "output_type": "stream",
     "text": [
      "[I 2024-04-10 14:56:36,223] Trial 146 finished with value: 0.7071882553039119 and parameters: {'feature_0': False, 'feature_1': True, 'feature_2': True, 'feature_3': False, 'feature_4': False, 'feature_5': True, 'feature_6': True, 'feature_7': True, 'feature_8': True, 'feature_9': True, 'feature_10': False, 'feature_11': True, 'feature_12': True, 'feature_13': False, 'feature_14': False, 'feature_15': False, 'feature_16': True, 'feature_17': False, 'feature_18': False, 'feature_19': True, 'feature_20': False, 'feature_21': True, 'feature_22': True}. Best is trial 36 with value: 0.7130003672420125.\n"
     ]
    },
    {
     "name": "stdout",
     "output_type": "stream",
     "text": [
      "Model trained.\n"
     ]
    },
    {
     "name": "stderr",
     "output_type": "stream",
     "text": [
      "[I 2024-04-10 14:56:47,957] Trial 147 finished with value: 0.7083599234205489 and parameters: {'feature_0': False, 'feature_1': True, 'feature_2': False, 'feature_3': False, 'feature_4': True, 'feature_5': True, 'feature_6': True, 'feature_7': False, 'feature_8': True, 'feature_9': True, 'feature_10': False, 'feature_11': True, 'feature_12': True, 'feature_13': False, 'feature_14': False, 'feature_15': False, 'feature_16': True, 'feature_17': False, 'feature_18': False, 'feature_19': True, 'feature_20': False, 'feature_21': True, 'feature_22': True}. Best is trial 36 with value: 0.7130003672420125.\n"
     ]
    },
    {
     "name": "stdout",
     "output_type": "stream",
     "text": [
      "Model trained.\n"
     ]
    },
    {
     "name": "stderr",
     "output_type": "stream",
     "text": [
      "[I 2024-04-10 14:57:00,419] Trial 148 finished with value: 0.6968070076292738 and parameters: {'feature_0': False, 'feature_1': False, 'feature_2': False, 'feature_3': False, 'feature_4': True, 'feature_5': True, 'feature_6': True, 'feature_7': True, 'feature_8': True, 'feature_9': True, 'feature_10': False, 'feature_11': True, 'feature_12': True, 'feature_13': False, 'feature_14': False, 'feature_15': False, 'feature_16': True, 'feature_17': False, 'feature_18': False, 'feature_19': True, 'feature_20': False, 'feature_21': True, 'feature_22': True}. Best is trial 36 with value: 0.7130003672420125.\n"
     ]
    },
    {
     "name": "stdout",
     "output_type": "stream",
     "text": [
      "Model trained.\n"
     ]
    },
    {
     "name": "stderr",
     "output_type": "stream",
     "text": [
      "[I 2024-04-10 14:57:13,568] Trial 149 finished with value: 0.7130003672420125 and parameters: {'feature_0': False, 'feature_1': True, 'feature_2': False, 'feature_3': False, 'feature_4': True, 'feature_5': True, 'feature_6': True, 'feature_7': True, 'feature_8': True, 'feature_9': True, 'feature_10': False, 'feature_11': True, 'feature_12': True, 'feature_13': False, 'feature_14': False, 'feature_15': False, 'feature_16': True, 'feature_17': False, 'feature_18': False, 'feature_19': True, 'feature_20': False, 'feature_21': True, 'feature_22': True}. Best is trial 36 with value: 0.7130003672420125.\n"
     ]
    },
    {
     "name": "stdout",
     "output_type": "stream",
     "text": [
      "Model trained.\n"
     ]
    },
    {
     "name": "stderr",
     "output_type": "stream",
     "text": [
      "[I 2024-04-10 14:57:26,315] Trial 150 finished with value: 0.7130003672420125 and parameters: {'feature_0': False, 'feature_1': True, 'feature_2': False, 'feature_3': False, 'feature_4': True, 'feature_5': True, 'feature_6': True, 'feature_7': True, 'feature_8': True, 'feature_9': True, 'feature_10': False, 'feature_11': True, 'feature_12': True, 'feature_13': False, 'feature_14': False, 'feature_15': False, 'feature_16': True, 'feature_17': False, 'feature_18': False, 'feature_19': True, 'feature_20': False, 'feature_21': True, 'feature_22': True}. Best is trial 36 with value: 0.7130003672420125.\n"
     ]
    },
    {
     "name": "stdout",
     "output_type": "stream",
     "text": [
      "Model trained.\n"
     ]
    },
    {
     "name": "stderr",
     "output_type": "stream",
     "text": [
      "[I 2024-04-10 14:57:39,563] Trial 151 finished with value: 0.7130003672420125 and parameters: {'feature_0': False, 'feature_1': True, 'feature_2': False, 'feature_3': False, 'feature_4': True, 'feature_5': True, 'feature_6': True, 'feature_7': True, 'feature_8': True, 'feature_9': True, 'feature_10': False, 'feature_11': True, 'feature_12': True, 'feature_13': False, 'feature_14': False, 'feature_15': False, 'feature_16': True, 'feature_17': False, 'feature_18': False, 'feature_19': True, 'feature_20': False, 'feature_21': True, 'feature_22': True}. Best is trial 36 with value: 0.7130003672420125.\n"
     ]
    },
    {
     "name": "stdout",
     "output_type": "stream",
     "text": [
      "Model trained.\n"
     ]
    },
    {
     "name": "stderr",
     "output_type": "stream",
     "text": [
      "[I 2024-04-10 14:57:53,236] Trial 152 finished with value: 0.7130003672420125 and parameters: {'feature_0': False, 'feature_1': True, 'feature_2': False, 'feature_3': False, 'feature_4': True, 'feature_5': True, 'feature_6': True, 'feature_7': True, 'feature_8': True, 'feature_9': True, 'feature_10': False, 'feature_11': True, 'feature_12': True, 'feature_13': False, 'feature_14': False, 'feature_15': False, 'feature_16': True, 'feature_17': False, 'feature_18': False, 'feature_19': True, 'feature_20': False, 'feature_21': True, 'feature_22': True}. Best is trial 36 with value: 0.7130003672420125.\n"
     ]
    },
    {
     "name": "stdout",
     "output_type": "stream",
     "text": [
      "Model trained.\n"
     ]
    },
    {
     "name": "stderr",
     "output_type": "stream",
     "text": [
      "[I 2024-04-10 14:58:08,826] Trial 153 finished with value: 0.7130003672420125 and parameters: {'feature_0': False, 'feature_1': True, 'feature_2': False, 'feature_3': False, 'feature_4': True, 'feature_5': True, 'feature_6': True, 'feature_7': True, 'feature_8': True, 'feature_9': True, 'feature_10': False, 'feature_11': True, 'feature_12': True, 'feature_13': False, 'feature_14': False, 'feature_15': False, 'feature_16': True, 'feature_17': False, 'feature_18': False, 'feature_19': True, 'feature_20': False, 'feature_21': True, 'feature_22': True}. Best is trial 36 with value: 0.7130003672420125.\n"
     ]
    },
    {
     "name": "stdout",
     "output_type": "stream",
     "text": [
      "Model trained.\n"
     ]
    },
    {
     "name": "stderr",
     "output_type": "stream",
     "text": [
      "[I 2024-04-10 14:58:22,701] Trial 154 finished with value: 0.7130003672420125 and parameters: {'feature_0': False, 'feature_1': True, 'feature_2': False, 'feature_3': False, 'feature_4': True, 'feature_5': True, 'feature_6': True, 'feature_7': True, 'feature_8': True, 'feature_9': True, 'feature_10': False, 'feature_11': True, 'feature_12': True, 'feature_13': False, 'feature_14': False, 'feature_15': False, 'feature_16': True, 'feature_17': False, 'feature_18': False, 'feature_19': True, 'feature_20': False, 'feature_21': True, 'feature_22': True}. Best is trial 36 with value: 0.7130003672420125.\n"
     ]
    },
    {
     "name": "stdout",
     "output_type": "stream",
     "text": [
      "Model trained.\n"
     ]
    },
    {
     "name": "stderr",
     "output_type": "stream",
     "text": [
      "[I 2024-04-10 14:58:36,389] Trial 155 finished with value: 0.7130003672420125 and parameters: {'feature_0': False, 'feature_1': True, 'feature_2': False, 'feature_3': False, 'feature_4': True, 'feature_5': True, 'feature_6': True, 'feature_7': True, 'feature_8': True, 'feature_9': True, 'feature_10': False, 'feature_11': True, 'feature_12': True, 'feature_13': False, 'feature_14': False, 'feature_15': False, 'feature_16': True, 'feature_17': False, 'feature_18': False, 'feature_19': True, 'feature_20': False, 'feature_21': True, 'feature_22': True}. Best is trial 36 with value: 0.7130003672420125.\n"
     ]
    },
    {
     "name": "stdout",
     "output_type": "stream",
     "text": [
      "Model trained.\n"
     ]
    },
    {
     "name": "stderr",
     "output_type": "stream",
     "text": [
      "[I 2024-04-10 14:58:48,735] Trial 156 finished with value: 0.6987216180118297 and parameters: {'feature_0': False, 'feature_1': True, 'feature_2': False, 'feature_3': False, 'feature_4': True, 'feature_5': True, 'feature_6': False, 'feature_7': True, 'feature_8': True, 'feature_9': True, 'feature_10': True, 'feature_11': True, 'feature_12': True, 'feature_13': False, 'feature_14': False, 'feature_15': False, 'feature_16': True, 'feature_17': False, 'feature_18': False, 'feature_19': False, 'feature_20': False, 'feature_21': True, 'feature_22': True}. Best is trial 36 with value: 0.7130003672420125.\n"
     ]
    },
    {
     "name": "stdout",
     "output_type": "stream",
     "text": [
      "Model trained.\n"
     ]
    },
    {
     "name": "stderr",
     "output_type": "stream",
     "text": [
      "[I 2024-04-10 14:59:01,719] Trial 157 finished with value: 0.6672745509255038 and parameters: {'feature_0': True, 'feature_1': True, 'feature_2': False, 'feature_3': False, 'feature_4': True, 'feature_5': False, 'feature_6': True, 'feature_7': True, 'feature_8': True, 'feature_9': True, 'feature_10': False, 'feature_11': True, 'feature_12': True, 'feature_13': False, 'feature_14': False, 'feature_15': False, 'feature_16': False, 'feature_17': False, 'feature_18': False, 'feature_19': True, 'feature_20': False, 'feature_21': True, 'feature_22': True}. Best is trial 36 with value: 0.7130003672420125.\n"
     ]
    },
    {
     "name": "stdout",
     "output_type": "stream",
     "text": [
      "Model trained.\n"
     ]
    },
    {
     "name": "stderr",
     "output_type": "stream",
     "text": [
      "[I 2024-04-10 14:59:15,106] Trial 158 finished with value: 0.6957728239755804 and parameters: {'feature_0': False, 'feature_1': True, 'feature_2': False, 'feature_3': True, 'feature_4': True, 'feature_5': True, 'feature_6': True, 'feature_7': True, 'feature_8': False, 'feature_9': True, 'feature_10': False, 'feature_11': True, 'feature_12': True, 'feature_13': False, 'feature_14': False, 'feature_15': False, 'feature_16': True, 'feature_17': False, 'feature_18': False, 'feature_19': True, 'feature_20': False, 'feature_21': True, 'feature_22': True}. Best is trial 36 with value: 0.7130003672420125.\n"
     ]
    },
    {
     "name": "stdout",
     "output_type": "stream",
     "text": [
      "Model trained.\n"
     ]
    },
    {
     "name": "stderr",
     "output_type": "stream",
     "text": [
      "[I 2024-04-10 14:59:28,900] Trial 159 finished with value: 0.7004397215097105 and parameters: {'feature_0': False, 'feature_1': True, 'feature_2': False, 'feature_3': False, 'feature_4': True, 'feature_5': True, 'feature_6': True, 'feature_7': True, 'feature_8': True, 'feature_9': True, 'feature_10': False, 'feature_11': False, 'feature_12': True, 'feature_13': False, 'feature_14': False, 'feature_15': False, 'feature_16': True, 'feature_17': False, 'feature_18': False, 'feature_19': True, 'feature_20': True, 'feature_21': True, 'feature_22': True}. Best is trial 36 with value: 0.7130003672420125.\n"
     ]
    },
    {
     "name": "stdout",
     "output_type": "stream",
     "text": [
      "Model trained.\n"
     ]
    },
    {
     "name": "stderr",
     "output_type": "stream",
     "text": [
      "[I 2024-04-10 14:59:40,838] Trial 160 finished with value: 0.7130003672420125 and parameters: {'feature_0': False, 'feature_1': True, 'feature_2': False, 'feature_3': False, 'feature_4': True, 'feature_5': True, 'feature_6': True, 'feature_7': True, 'feature_8': True, 'feature_9': True, 'feature_10': False, 'feature_11': True, 'feature_12': True, 'feature_13': False, 'feature_14': False, 'feature_15': False, 'feature_16': True, 'feature_17': False, 'feature_18': False, 'feature_19': True, 'feature_20': False, 'feature_21': False, 'feature_22': True}. Best is trial 36 with value: 0.7130003672420125.\n"
     ]
    },
    {
     "name": "stdout",
     "output_type": "stream",
     "text": [
      "Model trained.\n"
     ]
    },
    {
     "name": "stderr",
     "output_type": "stream",
     "text": [
      "[I 2024-04-10 14:59:54,216] Trial 161 finished with value: 0.7130003672420125 and parameters: {'feature_0': False, 'feature_1': True, 'feature_2': False, 'feature_3': False, 'feature_4': True, 'feature_5': True, 'feature_6': True, 'feature_7': True, 'feature_8': True, 'feature_9': True, 'feature_10': False, 'feature_11': True, 'feature_12': True, 'feature_13': False, 'feature_14': False, 'feature_15': False, 'feature_16': True, 'feature_17': False, 'feature_18': False, 'feature_19': True, 'feature_20': False, 'feature_21': True, 'feature_22': True}. Best is trial 36 with value: 0.7130003672420125.\n"
     ]
    },
    {
     "name": "stdout",
     "output_type": "stream",
     "text": [
      "Model trained.\n"
     ]
    },
    {
     "name": "stderr",
     "output_type": "stream",
     "text": [
      "[I 2024-04-10 15:00:07,394] Trial 162 finished with value: 0.7130003672420125 and parameters: {'feature_0': False, 'feature_1': True, 'feature_2': False, 'feature_3': False, 'feature_4': True, 'feature_5': True, 'feature_6': True, 'feature_7': True, 'feature_8': True, 'feature_9': True, 'feature_10': False, 'feature_11': True, 'feature_12': True, 'feature_13': False, 'feature_14': False, 'feature_15': False, 'feature_16': True, 'feature_17': False, 'feature_18': False, 'feature_19': True, 'feature_20': False, 'feature_21': True, 'feature_22': True}. Best is trial 36 with value: 0.7130003672420125.\n"
     ]
    },
    {
     "name": "stdout",
     "output_type": "stream",
     "text": [
      "Model trained.\n"
     ]
    },
    {
     "name": "stderr",
     "output_type": "stream",
     "text": [
      "[I 2024-04-10 15:00:20,401] Trial 163 finished with value: 0.7130003672420125 and parameters: {'feature_0': False, 'feature_1': True, 'feature_2': False, 'feature_3': False, 'feature_4': True, 'feature_5': True, 'feature_6': True, 'feature_7': True, 'feature_8': True, 'feature_9': True, 'feature_10': False, 'feature_11': True, 'feature_12': True, 'feature_13': False, 'feature_14': False, 'feature_15': False, 'feature_16': True, 'feature_17': False, 'feature_18': False, 'feature_19': True, 'feature_20': False, 'feature_21': True, 'feature_22': True}. Best is trial 36 with value: 0.7130003672420125.\n"
     ]
    },
    {
     "name": "stdout",
     "output_type": "stream",
     "text": [
      "Model trained.\n"
     ]
    },
    {
     "name": "stderr",
     "output_type": "stream",
     "text": [
      "[I 2024-04-10 15:00:33,597] Trial 164 finished with value: 0.7130003672420125 and parameters: {'feature_0': False, 'feature_1': True, 'feature_2': False, 'feature_3': False, 'feature_4': True, 'feature_5': True, 'feature_6': True, 'feature_7': True, 'feature_8': True, 'feature_9': True, 'feature_10': False, 'feature_11': True, 'feature_12': True, 'feature_13': False, 'feature_14': False, 'feature_15': False, 'feature_16': True, 'feature_17': False, 'feature_18': False, 'feature_19': True, 'feature_20': False, 'feature_21': True, 'feature_22': True}. Best is trial 36 with value: 0.7130003672420125.\n"
     ]
    },
    {
     "name": "stdout",
     "output_type": "stream",
     "text": [
      "Model trained.\n"
     ]
    },
    {
     "name": "stderr",
     "output_type": "stream",
     "text": [
      "[I 2024-04-10 15:00:46,645] Trial 165 finished with value: 0.7130003672420125 and parameters: {'feature_0': False, 'feature_1': True, 'feature_2': False, 'feature_3': False, 'feature_4': True, 'feature_5': True, 'feature_6': True, 'feature_7': True, 'feature_8': True, 'feature_9': True, 'feature_10': False, 'feature_11': True, 'feature_12': True, 'feature_13': False, 'feature_14': False, 'feature_15': False, 'feature_16': True, 'feature_17': False, 'feature_18': False, 'feature_19': True, 'feature_20': False, 'feature_21': True, 'feature_22': True}. Best is trial 36 with value: 0.7130003672420125.\n"
     ]
    },
    {
     "name": "stdout",
     "output_type": "stream",
     "text": [
      "Model trained.\n"
     ]
    },
    {
     "name": "stderr",
     "output_type": "stream",
     "text": [
      "[I 2024-04-10 15:00:57,738] Trial 166 finished with value: 0.6962742729722198 and parameters: {'feature_0': False, 'feature_1': True, 'feature_2': False, 'feature_3': False, 'feature_4': True, 'feature_5': True, 'feature_6': True, 'feature_7': True, 'feature_8': True, 'feature_9': True, 'feature_10': False, 'feature_11': True, 'feature_12': False, 'feature_13': False, 'feature_14': False, 'feature_15': False, 'feature_16': True, 'feature_17': False, 'feature_18': False, 'feature_19': True, 'feature_20': False, 'feature_21': True, 'feature_22': False}. Best is trial 36 with value: 0.7130003672420125.\n"
     ]
    },
    {
     "name": "stdout",
     "output_type": "stream",
     "text": [
      "Model trained.\n"
     ]
    },
    {
     "name": "stderr",
     "output_type": "stream",
     "text": [
      "[I 2024-04-10 15:01:13,826] Trial 167 finished with value: 0.7020272146625937 and parameters: {'feature_0': False, 'feature_1': True, 'feature_2': False, 'feature_3': False, 'feature_4': True, 'feature_5': True, 'feature_6': True, 'feature_7': True, 'feature_8': True, 'feature_9': True, 'feature_10': False, 'feature_11': True, 'feature_12': True, 'feature_13': True, 'feature_14': True, 'feature_15': False, 'feature_16': True, 'feature_17': False, 'feature_18': True, 'feature_19': True, 'feature_20': False, 'feature_21': True, 'feature_22': True}. Best is trial 36 with value: 0.7130003672420125.\n"
     ]
    },
    {
     "name": "stdout",
     "output_type": "stream",
     "text": [
      "Model trained.\n"
     ]
    },
    {
     "name": "stderr",
     "output_type": "stream",
     "text": [
      "[I 2024-04-10 15:01:27,499] Trial 168 finished with value: 0.694973688985665 and parameters: {'feature_0': False, 'feature_1': True, 'feature_2': True, 'feature_3': False, 'feature_4': False, 'feature_5': True, 'feature_6': True, 'feature_7': True, 'feature_8': True, 'feature_9': False, 'feature_10': False, 'feature_11': True, 'feature_12': True, 'feature_13': False, 'feature_14': False, 'feature_15': True, 'feature_16': True, 'feature_17': False, 'feature_18': False, 'feature_19': True, 'feature_20': False, 'feature_21': True, 'feature_22': True}. Best is trial 36 with value: 0.7130003672420125.\n"
     ]
    },
    {
     "name": "stdout",
     "output_type": "stream",
     "text": [
      "Model trained.\n"
     ]
    },
    {
     "name": "stderr",
     "output_type": "stream",
     "text": [
      "[I 2024-04-10 15:01:40,456] Trial 169 finished with value: 0.7130003672420125 and parameters: {'feature_0': False, 'feature_1': True, 'feature_2': False, 'feature_3': False, 'feature_4': True, 'feature_5': True, 'feature_6': True, 'feature_7': True, 'feature_8': True, 'feature_9': True, 'feature_10': False, 'feature_11': True, 'feature_12': True, 'feature_13': False, 'feature_14': False, 'feature_15': False, 'feature_16': True, 'feature_17': False, 'feature_18': False, 'feature_19': True, 'feature_20': False, 'feature_21': True, 'feature_22': True}. Best is trial 36 with value: 0.7130003672420125.\n"
     ]
    },
    {
     "name": "stdout",
     "output_type": "stream",
     "text": [
      "Model trained.\n"
     ]
    },
    {
     "name": "stderr",
     "output_type": "stream",
     "text": [
      "[I 2024-04-10 15:01:51,458] Trial 170 finished with value: 0.6954639563335215 and parameters: {'feature_0': False, 'feature_1': False, 'feature_2': False, 'feature_3': False, 'feature_4': True, 'feature_5': True, 'feature_6': True, 'feature_7': False, 'feature_8': True, 'feature_9': True, 'feature_10': False, 'feature_11': True, 'feature_12': True, 'feature_13': False, 'feature_14': False, 'feature_15': False, 'feature_16': True, 'feature_17': False, 'feature_18': False, 'feature_19': True, 'feature_20': False, 'feature_21': True, 'feature_22': True}. Best is trial 36 with value: 0.7130003672420125.\n"
     ]
    },
    {
     "name": "stdout",
     "output_type": "stream",
     "text": [
      "Model trained.\n"
     ]
    },
    {
     "name": "stderr",
     "output_type": "stream",
     "text": [
      "[I 2024-04-10 15:02:05,418] Trial 171 finished with value: 0.7130003672420125 and parameters: {'feature_0': False, 'feature_1': True, 'feature_2': False, 'feature_3': False, 'feature_4': True, 'feature_5': True, 'feature_6': True, 'feature_7': True, 'feature_8': True, 'feature_9': True, 'feature_10': False, 'feature_11': True, 'feature_12': True, 'feature_13': False, 'feature_14': False, 'feature_15': False, 'feature_16': True, 'feature_17': False, 'feature_18': False, 'feature_19': True, 'feature_20': False, 'feature_21': True, 'feature_22': True}. Best is trial 36 with value: 0.7130003672420125.\n"
     ]
    },
    {
     "name": "stdout",
     "output_type": "stream",
     "text": [
      "Model trained.\n"
     ]
    },
    {
     "name": "stderr",
     "output_type": "stream",
     "text": [
      "[I 2024-04-10 15:02:18,658] Trial 172 finished with value: 0.7130003672420125 and parameters: {'feature_0': False, 'feature_1': True, 'feature_2': False, 'feature_3': False, 'feature_4': True, 'feature_5': True, 'feature_6': True, 'feature_7': True, 'feature_8': True, 'feature_9': True, 'feature_10': False, 'feature_11': True, 'feature_12': True, 'feature_13': False, 'feature_14': False, 'feature_15': False, 'feature_16': True, 'feature_17': False, 'feature_18': False, 'feature_19': True, 'feature_20': False, 'feature_21': True, 'feature_22': True}. Best is trial 36 with value: 0.7130003672420125.\n"
     ]
    },
    {
     "name": "stdout",
     "output_type": "stream",
     "text": [
      "Model trained.\n"
     ]
    },
    {
     "name": "stderr",
     "output_type": "stream",
     "text": [
      "[I 2024-04-10 15:02:32,042] Trial 173 finished with value: 0.7130003672420125 and parameters: {'feature_0': False, 'feature_1': True, 'feature_2': False, 'feature_3': False, 'feature_4': True, 'feature_5': True, 'feature_6': True, 'feature_7': True, 'feature_8': True, 'feature_9': True, 'feature_10': False, 'feature_11': True, 'feature_12': True, 'feature_13': False, 'feature_14': False, 'feature_15': False, 'feature_16': True, 'feature_17': False, 'feature_18': False, 'feature_19': True, 'feature_20': False, 'feature_21': True, 'feature_22': True}. Best is trial 36 with value: 0.7130003672420125.\n"
     ]
    },
    {
     "name": "stdout",
     "output_type": "stream",
     "text": [
      "Model trained.\n"
     ]
    },
    {
     "name": "stderr",
     "output_type": "stream",
     "text": [
      "[I 2024-04-10 15:02:45,735] Trial 174 finished with value: 0.7130003672420125 and parameters: {'feature_0': False, 'feature_1': True, 'feature_2': False, 'feature_3': False, 'feature_4': True, 'feature_5': True, 'feature_6': True, 'feature_7': True, 'feature_8': True, 'feature_9': True, 'feature_10': False, 'feature_11': True, 'feature_12': True, 'feature_13': False, 'feature_14': False, 'feature_15': False, 'feature_16': True, 'feature_17': False, 'feature_18': False, 'feature_19': True, 'feature_20': False, 'feature_21': True, 'feature_22': True}. Best is trial 36 with value: 0.7130003672420125.\n"
     ]
    },
    {
     "name": "stdout",
     "output_type": "stream",
     "text": [
      "Model trained.\n"
     ]
    },
    {
     "name": "stderr",
     "output_type": "stream",
     "text": [
      "[I 2024-04-10 15:02:59,329] Trial 175 finished with value: 0.7130003672420125 and parameters: {'feature_0': False, 'feature_1': True, 'feature_2': False, 'feature_3': False, 'feature_4': True, 'feature_5': True, 'feature_6': True, 'feature_7': True, 'feature_8': True, 'feature_9': True, 'feature_10': False, 'feature_11': True, 'feature_12': True, 'feature_13': False, 'feature_14': False, 'feature_15': False, 'feature_16': True, 'feature_17': False, 'feature_18': False, 'feature_19': True, 'feature_20': False, 'feature_21': True, 'feature_22': True}. Best is trial 36 with value: 0.7130003672420125.\n"
     ]
    },
    {
     "name": "stdout",
     "output_type": "stream",
     "text": [
      "Model trained.\n"
     ]
    },
    {
     "name": "stderr",
     "output_type": "stream",
     "text": [
      "[I 2024-04-10 15:03:14,436] Trial 176 finished with value: 0.7130003672420125 and parameters: {'feature_0': False, 'feature_1': True, 'feature_2': False, 'feature_3': False, 'feature_4': True, 'feature_5': True, 'feature_6': True, 'feature_7': True, 'feature_8': True, 'feature_9': True, 'feature_10': False, 'feature_11': True, 'feature_12': True, 'feature_13': False, 'feature_14': False, 'feature_15': False, 'feature_16': True, 'feature_17': False, 'feature_18': False, 'feature_19': True, 'feature_20': False, 'feature_21': True, 'feature_22': True}. Best is trial 36 with value: 0.7130003672420125.\n"
     ]
    },
    {
     "name": "stdout",
     "output_type": "stream",
     "text": [
      "Model trained.\n"
     ]
    },
    {
     "name": "stderr",
     "output_type": "stream",
     "text": [
      "[I 2024-04-10 15:03:28,049] Trial 177 finished with value: 0.7130003672420125 and parameters: {'feature_0': False, 'feature_1': True, 'feature_2': False, 'feature_3': False, 'feature_4': True, 'feature_5': True, 'feature_6': True, 'feature_7': True, 'feature_8': True, 'feature_9': True, 'feature_10': False, 'feature_11': True, 'feature_12': True, 'feature_13': False, 'feature_14': False, 'feature_15': False, 'feature_16': True, 'feature_17': False, 'feature_18': False, 'feature_19': True, 'feature_20': False, 'feature_21': True, 'feature_22': True}. Best is trial 36 with value: 0.7130003672420125.\n"
     ]
    },
    {
     "name": "stdout",
     "output_type": "stream",
     "text": [
      "Model trained.\n"
     ]
    },
    {
     "name": "stderr",
     "output_type": "stream",
     "text": [
      "[I 2024-04-10 15:03:40,927] Trial 178 finished with value: 0.7130003672420125 and parameters: {'feature_0': False, 'feature_1': True, 'feature_2': False, 'feature_3': False, 'feature_4': True, 'feature_5': True, 'feature_6': True, 'feature_7': True, 'feature_8': True, 'feature_9': True, 'feature_10': False, 'feature_11': True, 'feature_12': True, 'feature_13': False, 'feature_14': False, 'feature_15': False, 'feature_16': True, 'feature_17': False, 'feature_18': False, 'feature_19': True, 'feature_20': False, 'feature_21': True, 'feature_22': True}. Best is trial 36 with value: 0.7130003672420125.\n"
     ]
    },
    {
     "name": "stdout",
     "output_type": "stream",
     "text": [
      "Model trained.\n"
     ]
    },
    {
     "name": "stderr",
     "output_type": "stream",
     "text": [
      "[I 2024-04-10 15:03:52,500] Trial 179 finished with value: 0.69138040424182 and parameters: {'feature_0': True, 'feature_1': True, 'feature_2': False, 'feature_3': False, 'feature_4': True, 'feature_5': True, 'feature_6': False, 'feature_7': True, 'feature_8': True, 'feature_9': True, 'feature_10': True, 'feature_11': True, 'feature_12': True, 'feature_13': False, 'feature_14': False, 'feature_15': False, 'feature_16': False, 'feature_17': False, 'feature_18': False, 'feature_19': False, 'feature_20': False, 'feature_21': True, 'feature_22': True}. Best is trial 36 with value: 0.7130003672420125.\n"
     ]
    },
    {
     "name": "stdout",
     "output_type": "stream",
     "text": [
      "Model trained.\n"
     ]
    },
    {
     "name": "stderr",
     "output_type": "stream",
     "text": [
      "[I 2024-04-10 15:04:02,875] Trial 180 finished with value: 0.678023245497294 and parameters: {'feature_0': False, 'feature_1': True, 'feature_2': False, 'feature_3': False, 'feature_4': True, 'feature_5': False, 'feature_6': True, 'feature_7': True, 'feature_8': True, 'feature_9': True, 'feature_10': False, 'feature_11': True, 'feature_12': True, 'feature_13': False, 'feature_14': False, 'feature_15': False, 'feature_16': True, 'feature_17': False, 'feature_18': False, 'feature_19': True, 'feature_20': False, 'feature_21': True, 'feature_22': True}. Best is trial 36 with value: 0.7130003672420125.\n"
     ]
    },
    {
     "name": "stdout",
     "output_type": "stream",
     "text": [
      "Model trained.\n"
     ]
    },
    {
     "name": "stderr",
     "output_type": "stream",
     "text": [
      "[I 2024-04-10 15:04:15,139] Trial 181 finished with value: 0.7130003672420125 and parameters: {'feature_0': False, 'feature_1': True, 'feature_2': False, 'feature_3': False, 'feature_4': True, 'feature_5': True, 'feature_6': True, 'feature_7': True, 'feature_8': True, 'feature_9': True, 'feature_10': False, 'feature_11': True, 'feature_12': True, 'feature_13': False, 'feature_14': False, 'feature_15': False, 'feature_16': True, 'feature_17': False, 'feature_18': False, 'feature_19': True, 'feature_20': False, 'feature_21': True, 'feature_22': True}. Best is trial 36 with value: 0.7130003672420125.\n"
     ]
    },
    {
     "name": "stdout",
     "output_type": "stream",
     "text": [
      "Model trained.\n"
     ]
    },
    {
     "name": "stderr",
     "output_type": "stream",
     "text": [
      "[I 2024-04-10 15:04:27,181] Trial 182 finished with value: 0.7130003672420125 and parameters: {'feature_0': False, 'feature_1': True, 'feature_2': False, 'feature_3': False, 'feature_4': True, 'feature_5': True, 'feature_6': True, 'feature_7': True, 'feature_8': True, 'feature_9': True, 'feature_10': False, 'feature_11': True, 'feature_12': True, 'feature_13': False, 'feature_14': False, 'feature_15': False, 'feature_16': True, 'feature_17': False, 'feature_18': False, 'feature_19': True, 'feature_20': False, 'feature_21': True, 'feature_22': True}. Best is trial 36 with value: 0.7130003672420125.\n"
     ]
    },
    {
     "name": "stdout",
     "output_type": "stream",
     "text": [
      "Model trained.\n"
     ]
    },
    {
     "name": "stderr",
     "output_type": "stream",
     "text": [
      "[I 2024-04-10 15:04:39,027] Trial 183 finished with value: 0.7130003672420125 and parameters: {'feature_0': False, 'feature_1': True, 'feature_2': False, 'feature_3': False, 'feature_4': True, 'feature_5': True, 'feature_6': True, 'feature_7': True, 'feature_8': True, 'feature_9': True, 'feature_10': False, 'feature_11': True, 'feature_12': True, 'feature_13': False, 'feature_14': False, 'feature_15': False, 'feature_16': True, 'feature_17': False, 'feature_18': False, 'feature_19': True, 'feature_20': False, 'feature_21': True, 'feature_22': True}. Best is trial 36 with value: 0.7130003672420125.\n"
     ]
    },
    {
     "name": "stdout",
     "output_type": "stream",
     "text": [
      "Model trained.\n"
     ]
    },
    {
     "name": "stderr",
     "output_type": "stream",
     "text": [
      "[I 2024-04-10 15:04:51,819] Trial 184 finished with value: 0.7130003672420125 and parameters: {'feature_0': False, 'feature_1': True, 'feature_2': False, 'feature_3': False, 'feature_4': True, 'feature_5': True, 'feature_6': True, 'feature_7': True, 'feature_8': True, 'feature_9': True, 'feature_10': False, 'feature_11': True, 'feature_12': True, 'feature_13': False, 'feature_14': False, 'feature_15': False, 'feature_16': True, 'feature_17': False, 'feature_18': False, 'feature_19': True, 'feature_20': False, 'feature_21': True, 'feature_22': True}. Best is trial 36 with value: 0.7130003672420125.\n"
     ]
    },
    {
     "name": "stdout",
     "output_type": "stream",
     "text": [
      "Model trained.\n"
     ]
    },
    {
     "name": "stderr",
     "output_type": "stream",
     "text": [
      "[I 2024-04-10 15:05:05,508] Trial 185 finished with value: 0.7130003672420125 and parameters: {'feature_0': False, 'feature_1': True, 'feature_2': False, 'feature_3': False, 'feature_4': True, 'feature_5': True, 'feature_6': True, 'feature_7': True, 'feature_8': True, 'feature_9': True, 'feature_10': False, 'feature_11': True, 'feature_12': True, 'feature_13': False, 'feature_14': False, 'feature_15': False, 'feature_16': True, 'feature_17': False, 'feature_18': False, 'feature_19': True, 'feature_20': False, 'feature_21': True, 'feature_22': True}. Best is trial 36 with value: 0.7130003672420125.\n"
     ]
    },
    {
     "name": "stdout",
     "output_type": "stream",
     "text": [
      "Model trained.\n"
     ]
    },
    {
     "name": "stderr",
     "output_type": "stream",
     "text": [
      "[I 2024-04-10 15:05:17,817] Trial 186 finished with value: 0.7130003672420125 and parameters: {'feature_0': False, 'feature_1': True, 'feature_2': False, 'feature_3': False, 'feature_4': True, 'feature_5': True, 'feature_6': True, 'feature_7': True, 'feature_8': True, 'feature_9': True, 'feature_10': False, 'feature_11': True, 'feature_12': True, 'feature_13': False, 'feature_14': False, 'feature_15': False, 'feature_16': True, 'feature_17': False, 'feature_18': False, 'feature_19': True, 'feature_20': False, 'feature_21': True, 'feature_22': True}. Best is trial 36 with value: 0.7130003672420125.\n"
     ]
    },
    {
     "name": "stdout",
     "output_type": "stream",
     "text": [
      "Model trained.\n"
     ]
    },
    {
     "name": "stderr",
     "output_type": "stream",
     "text": [
      "[I 2024-04-10 15:05:30,146] Trial 187 finished with value: 0.6957728239755804 and parameters: {'feature_0': False, 'feature_1': True, 'feature_2': False, 'feature_3': True, 'feature_4': True, 'feature_5': True, 'feature_6': True, 'feature_7': True, 'feature_8': False, 'feature_9': True, 'feature_10': False, 'feature_11': True, 'feature_12': True, 'feature_13': False, 'feature_14': False, 'feature_15': False, 'feature_16': True, 'feature_17': False, 'feature_18': False, 'feature_19': True, 'feature_20': False, 'feature_21': True, 'feature_22': True}. Best is trial 36 with value: 0.7130003672420125.\n"
     ]
    },
    {
     "name": "stdout",
     "output_type": "stream",
     "text": [
      "Model trained.\n"
     ]
    },
    {
     "name": "stderr",
     "output_type": "stream",
     "text": [
      "[I 2024-04-10 15:05:41,547] Trial 188 finished with value: 0.7037688674877304 and parameters: {'feature_0': False, 'feature_1': True, 'feature_2': False, 'feature_3': False, 'feature_4': True, 'feature_5': True, 'feature_6': True, 'feature_7': True, 'feature_8': True, 'feature_9': True, 'feature_10': False, 'feature_11': False, 'feature_12': True, 'feature_13': False, 'feature_14': False, 'feature_15': False, 'feature_16': True, 'feature_17': False, 'feature_18': False, 'feature_19': True, 'feature_20': False, 'feature_21': True, 'feature_22': True}. Best is trial 36 with value: 0.7130003672420125.\n"
     ]
    },
    {
     "name": "stdout",
     "output_type": "stream",
     "text": [
      "Model trained.\n"
     ]
    },
    {
     "name": "stderr",
     "output_type": "stream",
     "text": [
      "[I 2024-04-10 15:05:54,664] Trial 189 finished with value: 0.7037240873234268 and parameters: {'feature_0': False, 'feature_1': True, 'feature_2': False, 'feature_3': False, 'feature_4': True, 'feature_5': True, 'feature_6': True, 'feature_7': True, 'feature_8': True, 'feature_9': True, 'feature_10': False, 'feature_11': True, 'feature_12': True, 'feature_13': False, 'feature_14': False, 'feature_15': False, 'feature_16': True, 'feature_17': False, 'feature_18': False, 'feature_19': True, 'feature_20': True, 'feature_21': True, 'feature_22': True}. Best is trial 36 with value: 0.7130003672420125.\n"
     ]
    },
    {
     "name": "stdout",
     "output_type": "stream",
     "text": [
      "Model trained.\n"
     ]
    },
    {
     "name": "stderr",
     "output_type": "stream",
     "text": [
      "[I 2024-04-10 15:06:04,613] Trial 190 finished with value: 0.6947133283693224 and parameters: {'feature_0': False, 'feature_1': True, 'feature_2': False, 'feature_3': False, 'feature_4': True, 'feature_5': True, 'feature_6': True, 'feature_7': True, 'feature_8': True, 'feature_9': True, 'feature_10': False, 'feature_11': True, 'feature_12': False, 'feature_13': False, 'feature_14': False, 'feature_15': False, 'feature_16': True, 'feature_17': False, 'feature_18': False, 'feature_19': True, 'feature_20': False, 'feature_21': False, 'feature_22': True}. Best is trial 36 with value: 0.7130003672420125.\n"
     ]
    },
    {
     "name": "stdout",
     "output_type": "stream",
     "text": [
      "Model trained.\n"
     ]
    },
    {
     "name": "stderr",
     "output_type": "stream",
     "text": [
      "[I 2024-04-10 15:06:16,125] Trial 191 finished with value: 0.7130003672420125 and parameters: {'feature_0': False, 'feature_1': True, 'feature_2': False, 'feature_3': False, 'feature_4': True, 'feature_5': True, 'feature_6': True, 'feature_7': True, 'feature_8': True, 'feature_9': True, 'feature_10': False, 'feature_11': True, 'feature_12': True, 'feature_13': False, 'feature_14': False, 'feature_15': False, 'feature_16': True, 'feature_17': False, 'feature_18': False, 'feature_19': True, 'feature_20': False, 'feature_21': True, 'feature_22': True}. Best is trial 36 with value: 0.7130003672420125.\n"
     ]
    },
    {
     "name": "stdout",
     "output_type": "stream",
     "text": [
      "Model trained.\n"
     ]
    },
    {
     "name": "stderr",
     "output_type": "stream",
     "text": [
      "[I 2024-04-10 15:06:28,415] Trial 192 finished with value: 0.7130003672420125 and parameters: {'feature_0': False, 'feature_1': True, 'feature_2': False, 'feature_3': False, 'feature_4': True, 'feature_5': True, 'feature_6': True, 'feature_7': True, 'feature_8': True, 'feature_9': True, 'feature_10': False, 'feature_11': True, 'feature_12': True, 'feature_13': False, 'feature_14': False, 'feature_15': False, 'feature_16': True, 'feature_17': False, 'feature_18': False, 'feature_19': True, 'feature_20': False, 'feature_21': True, 'feature_22': True}. Best is trial 36 with value: 0.7130003672420125.\n"
     ]
    },
    {
     "name": "stdout",
     "output_type": "stream",
     "text": [
      "Model trained.\n"
     ]
    },
    {
     "name": "stderr",
     "output_type": "stream",
     "text": [
      "[I 2024-04-10 15:06:40,365] Trial 193 finished with value: 0.7130003672420125 and parameters: {'feature_0': False, 'feature_1': True, 'feature_2': False, 'feature_3': False, 'feature_4': True, 'feature_5': True, 'feature_6': True, 'feature_7': True, 'feature_8': True, 'feature_9': True, 'feature_10': False, 'feature_11': True, 'feature_12': True, 'feature_13': False, 'feature_14': False, 'feature_15': False, 'feature_16': True, 'feature_17': False, 'feature_18': False, 'feature_19': True, 'feature_20': False, 'feature_21': True, 'feature_22': True}. Best is trial 36 with value: 0.7130003672420125.\n"
     ]
    },
    {
     "name": "stdout",
     "output_type": "stream",
     "text": [
      "Model trained.\n"
     ]
    },
    {
     "name": "stderr",
     "output_type": "stream",
     "text": [
      "[I 2024-04-10 15:06:51,969] Trial 194 finished with value: 0.7130003672420125 and parameters: {'feature_0': False, 'feature_1': True, 'feature_2': False, 'feature_3': False, 'feature_4': True, 'feature_5': True, 'feature_6': True, 'feature_7': True, 'feature_8': True, 'feature_9': True, 'feature_10': False, 'feature_11': True, 'feature_12': True, 'feature_13': False, 'feature_14': False, 'feature_15': False, 'feature_16': True, 'feature_17': False, 'feature_18': False, 'feature_19': True, 'feature_20': False, 'feature_21': True, 'feature_22': True}. Best is trial 36 with value: 0.7130003672420125.\n"
     ]
    },
    {
     "name": "stdout",
     "output_type": "stream",
     "text": [
      "Model trained.\n"
     ]
    },
    {
     "name": "stderr",
     "output_type": "stream",
     "text": [
      "[I 2024-04-10 15:07:03,171] Trial 195 finished with value: 0.6993006993006993 and parameters: {'feature_0': False, 'feature_1': True, 'feature_2': False, 'feature_3': False, 'feature_4': True, 'feature_5': True, 'feature_6': True, 'feature_7': True, 'feature_8': True, 'feature_9': True, 'feature_10': False, 'feature_11': True, 'feature_12': True, 'feature_13': False, 'feature_14': False, 'feature_15': False, 'feature_16': True, 'feature_17': False, 'feature_18': False, 'feature_19': True, 'feature_20': False, 'feature_21': True, 'feature_22': False}. Best is trial 36 with value: 0.7130003672420125.\n"
     ]
    },
    {
     "name": "stdout",
     "output_type": "stream",
     "text": [
      "Model trained.\n"
     ]
    },
    {
     "name": "stderr",
     "output_type": "stream",
     "text": [
      "[I 2024-04-10 15:07:19,670] Trial 196 finished with value: 0.7027433295753477 and parameters: {'feature_0': False, 'feature_1': True, 'feature_2': False, 'feature_3': False, 'feature_4': True, 'feature_5': True, 'feature_6': True, 'feature_7': True, 'feature_8': True, 'feature_9': False, 'feature_10': False, 'feature_11': True, 'feature_12': True, 'feature_13': True, 'feature_14': True, 'feature_15': True, 'feature_16': True, 'feature_17': False, 'feature_18': True, 'feature_19': True, 'feature_20': False, 'feature_21': True, 'feature_22': True}. Best is trial 36 with value: 0.7130003672420125.\n"
     ]
    },
    {
     "name": "stdout",
     "output_type": "stream",
     "text": [
      "Model trained.\n"
     ]
    },
    {
     "name": "stderr",
     "output_type": "stream",
     "text": [
      "[I 2024-04-10 15:07:33,096] Trial 197 finished with value: 0.705956338154703 and parameters: {'feature_0': False, 'feature_1': True, 'feature_2': True, 'feature_3': False, 'feature_4': True, 'feature_5': True, 'feature_6': True, 'feature_7': True, 'feature_8': True, 'feature_9': True, 'feature_10': False, 'feature_11': True, 'feature_12': True, 'feature_13': False, 'feature_14': False, 'feature_15': False, 'feature_16': True, 'feature_17': False, 'feature_18': False, 'feature_19': True, 'feature_20': False, 'feature_21': True, 'feature_22': True}. Best is trial 36 with value: 0.7130003672420125.\n"
     ]
    },
    {
     "name": "stdout",
     "output_type": "stream",
     "text": [
      "Model trained.\n"
     ]
    },
    {
     "name": "stderr",
     "output_type": "stream",
     "text": [
      "[I 2024-04-10 15:07:44,853] Trial 198 finished with value: 0.6985864113087096 and parameters: {'feature_0': False, 'feature_1': True, 'feature_2': False, 'feature_3': False, 'feature_4': False, 'feature_5': True, 'feature_6': True, 'feature_7': True, 'feature_8': True, 'feature_9': True, 'feature_10': False, 'feature_11': True, 'feature_12': True, 'feature_13': False, 'feature_14': False, 'feature_15': False, 'feature_16': True, 'feature_17': False, 'feature_18': False, 'feature_19': True, 'feature_20': False, 'feature_21': True, 'feature_22': True}. Best is trial 36 with value: 0.7130003672420125.\n"
     ]
    },
    {
     "name": "stdout",
     "output_type": "stream",
     "text": [
      "Model trained.\n"
     ]
    },
    {
     "name": "stderr",
     "output_type": "stream",
     "text": [
      "[I 2024-04-10 15:07:56,341] Trial 199 finished with value: 0.7083599234205489 and parameters: {'feature_0': False, 'feature_1': True, 'feature_2': False, 'feature_3': False, 'feature_4': True, 'feature_5': True, 'feature_6': True, 'feature_7': False, 'feature_8': True, 'feature_9': True, 'feature_10': False, 'feature_11': True, 'feature_12': True, 'feature_13': False, 'feature_14': False, 'feature_15': False, 'feature_16': True, 'feature_17': False, 'feature_18': False, 'feature_19': True, 'feature_20': False, 'feature_21': True, 'feature_22': True}. Best is trial 36 with value: 0.7130003672420125.\n"
     ]
    },
    {
     "name": "stdout",
     "output_type": "stream",
     "text": [
      "Model trained.\n"
     ]
    },
    {
     "name": "stderr",
     "output_type": "stream",
     "text": [
      "[I 2024-04-10 15:08:08,387] Trial 200 finished with value: 0.6968070076292738 and parameters: {'feature_0': False, 'feature_1': False, 'feature_2': False, 'feature_3': False, 'feature_4': True, 'feature_5': True, 'feature_6': True, 'feature_7': True, 'feature_8': True, 'feature_9': True, 'feature_10': False, 'feature_11': True, 'feature_12': True, 'feature_13': False, 'feature_14': False, 'feature_15': False, 'feature_16': True, 'feature_17': False, 'feature_18': False, 'feature_19': True, 'feature_20': False, 'feature_21': True, 'feature_22': True}. Best is trial 36 with value: 0.7130003672420125.\n"
     ]
    },
    {
     "name": "stdout",
     "output_type": "stream",
     "text": [
      "Model trained.\n"
     ]
    },
    {
     "name": "stderr",
     "output_type": "stream",
     "text": [
      "[I 2024-04-10 15:08:20,951] Trial 201 finished with value: 0.7130003672420125 and parameters: {'feature_0': False, 'feature_1': True, 'feature_2': False, 'feature_3': False, 'feature_4': True, 'feature_5': True, 'feature_6': True, 'feature_7': True, 'feature_8': True, 'feature_9': True, 'feature_10': False, 'feature_11': True, 'feature_12': True, 'feature_13': False, 'feature_14': False, 'feature_15': False, 'feature_16': True, 'feature_17': False, 'feature_18': False, 'feature_19': True, 'feature_20': False, 'feature_21': True, 'feature_22': True}. Best is trial 36 with value: 0.7130003672420125.\n"
     ]
    },
    {
     "name": "stdout",
     "output_type": "stream",
     "text": [
      "Model trained.\n"
     ]
    },
    {
     "name": "stderr",
     "output_type": "stream",
     "text": [
      "[I 2024-04-10 15:08:33,847] Trial 202 finished with value: 0.7130003672420125 and parameters: {'feature_0': False, 'feature_1': True, 'feature_2': False, 'feature_3': False, 'feature_4': True, 'feature_5': True, 'feature_6': True, 'feature_7': True, 'feature_8': True, 'feature_9': True, 'feature_10': False, 'feature_11': True, 'feature_12': True, 'feature_13': False, 'feature_14': False, 'feature_15': False, 'feature_16': True, 'feature_17': False, 'feature_18': False, 'feature_19': True, 'feature_20': False, 'feature_21': True, 'feature_22': True}. Best is trial 36 with value: 0.7130003672420125.\n"
     ]
    },
    {
     "name": "stdout",
     "output_type": "stream",
     "text": [
      "Model trained.\n"
     ]
    },
    {
     "name": "stderr",
     "output_type": "stream",
     "text": [
      "[I 2024-04-10 15:08:46,671] Trial 203 finished with value: 0.7130003672420125 and parameters: {'feature_0': False, 'feature_1': True, 'feature_2': False, 'feature_3': False, 'feature_4': True, 'feature_5': True, 'feature_6': True, 'feature_7': True, 'feature_8': True, 'feature_9': True, 'feature_10': False, 'feature_11': True, 'feature_12': True, 'feature_13': False, 'feature_14': False, 'feature_15': False, 'feature_16': True, 'feature_17': False, 'feature_18': False, 'feature_19': True, 'feature_20': False, 'feature_21': True, 'feature_22': True}. Best is trial 36 with value: 0.7130003672420125.\n"
     ]
    },
    {
     "name": "stdout",
     "output_type": "stream",
     "text": [
      "Model trained.\n"
     ]
    },
    {
     "name": "stderr",
     "output_type": "stream",
     "text": [
      "[I 2024-04-10 15:08:58,833] Trial 204 finished with value: 0.7130003672420125 and parameters: {'feature_0': False, 'feature_1': True, 'feature_2': False, 'feature_3': False, 'feature_4': True, 'feature_5': True, 'feature_6': True, 'feature_7': True, 'feature_8': True, 'feature_9': True, 'feature_10': False, 'feature_11': True, 'feature_12': True, 'feature_13': False, 'feature_14': False, 'feature_15': False, 'feature_16': True, 'feature_17': False, 'feature_18': False, 'feature_19': True, 'feature_20': False, 'feature_21': True, 'feature_22': True}. Best is trial 36 with value: 0.7130003672420125.\n"
     ]
    },
    {
     "name": "stdout",
     "output_type": "stream",
     "text": [
      "Model trained.\n"
     ]
    },
    {
     "name": "stderr",
     "output_type": "stream",
     "text": [
      "[I 2024-04-10 15:09:11,220] Trial 205 finished with value: 0.7130003672420125 and parameters: {'feature_0': False, 'feature_1': True, 'feature_2': False, 'feature_3': False, 'feature_4': True, 'feature_5': True, 'feature_6': True, 'feature_7': True, 'feature_8': True, 'feature_9': True, 'feature_10': False, 'feature_11': True, 'feature_12': True, 'feature_13': False, 'feature_14': False, 'feature_15': False, 'feature_16': True, 'feature_17': False, 'feature_18': False, 'feature_19': True, 'feature_20': False, 'feature_21': True, 'feature_22': True}. Best is trial 36 with value: 0.7130003672420125.\n"
     ]
    },
    {
     "name": "stdout",
     "output_type": "stream",
     "text": [
      "Model trained.\n"
     ]
    },
    {
     "name": "stderr",
     "output_type": "stream",
     "text": [
      "[I 2024-04-10 15:09:23,538] Trial 206 finished with value: 0.7130003672420125 and parameters: {'feature_0': False, 'feature_1': True, 'feature_2': False, 'feature_3': False, 'feature_4': True, 'feature_5': True, 'feature_6': True, 'feature_7': True, 'feature_8': True, 'feature_9': True, 'feature_10': False, 'feature_11': True, 'feature_12': True, 'feature_13': False, 'feature_14': False, 'feature_15': False, 'feature_16': True, 'feature_17': False, 'feature_18': False, 'feature_19': True, 'feature_20': False, 'feature_21': True, 'feature_22': True}. Best is trial 36 with value: 0.7130003672420125.\n"
     ]
    },
    {
     "name": "stdout",
     "output_type": "stream",
     "text": [
      "Model trained.\n"
     ]
    },
    {
     "name": "stderr",
     "output_type": "stream",
     "text": [
      "[I 2024-04-10 15:09:35,991] Trial 207 finished with value: 0.7130003672420125 and parameters: {'feature_0': False, 'feature_1': True, 'feature_2': False, 'feature_3': False, 'feature_4': True, 'feature_5': True, 'feature_6': True, 'feature_7': True, 'feature_8': True, 'feature_9': True, 'feature_10': False, 'feature_11': True, 'feature_12': True, 'feature_13': False, 'feature_14': False, 'feature_15': False, 'feature_16': True, 'feature_17': False, 'feature_18': False, 'feature_19': True, 'feature_20': False, 'feature_21': True, 'feature_22': True}. Best is trial 36 with value: 0.7130003672420125.\n"
     ]
    },
    {
     "name": "stdout",
     "output_type": "stream",
     "text": [
      "Model trained.\n"
     ]
    },
    {
     "name": "stderr",
     "output_type": "stream",
     "text": [
      "[I 2024-04-10 15:09:48,814] Trial 208 finished with value: 0.7130003672420125 and parameters: {'feature_0': False, 'feature_1': True, 'feature_2': False, 'feature_3': False, 'feature_4': True, 'feature_5': True, 'feature_6': True, 'feature_7': True, 'feature_8': True, 'feature_9': True, 'feature_10': False, 'feature_11': True, 'feature_12': True, 'feature_13': False, 'feature_14': False, 'feature_15': False, 'feature_16': True, 'feature_17': False, 'feature_18': False, 'feature_19': True, 'feature_20': False, 'feature_21': True, 'feature_22': True}. Best is trial 36 with value: 0.7130003672420125.\n"
     ]
    },
    {
     "name": "stdout",
     "output_type": "stream",
     "text": [
      "Model trained.\n"
     ]
    },
    {
     "name": "stderr",
     "output_type": "stream",
     "text": [
      "[I 2024-04-10 15:10:01,484] Trial 209 finished with value: 0.7005808506651676 and parameters: {'feature_0': False, 'feature_1': True, 'feature_2': False, 'feature_3': False, 'feature_4': True, 'feature_5': True, 'feature_6': False, 'feature_7': True, 'feature_8': True, 'feature_9': True, 'feature_10': False, 'feature_11': True, 'feature_12': True, 'feature_13': False, 'feature_14': False, 'feature_15': False, 'feature_16': False, 'feature_17': False, 'feature_18': False, 'feature_19': True, 'feature_20': False, 'feature_21': True, 'feature_22': True}. Best is trial 36 with value: 0.7130003672420125.\n"
     ]
    },
    {
     "name": "stdout",
     "output_type": "stream",
     "text": [
      "Model trained.\n"
     ]
    },
    {
     "name": "stderr",
     "output_type": "stream",
     "text": [
      "[I 2024-04-10 15:10:13,404] Trial 210 finished with value: 0.6410902641650331 and parameters: {'feature_0': True, 'feature_1': True, 'feature_2': False, 'feature_3': False, 'feature_4': True, 'feature_5': False, 'feature_6': True, 'feature_7': True, 'feature_8': True, 'feature_9': True, 'feature_10': True, 'feature_11': True, 'feature_12': True, 'feature_13': False, 'feature_14': False, 'feature_15': False, 'feature_16': True, 'feature_17': False, 'feature_18': False, 'feature_19': False, 'feature_20': False, 'feature_21': True, 'feature_22': True}. Best is trial 36 with value: 0.7130003672420125.\n"
     ]
    },
    {
     "name": "stdout",
     "output_type": "stream",
     "text": [
      "Model trained.\n"
     ]
    },
    {
     "name": "stderr",
     "output_type": "stream",
     "text": [
      "[I 2024-04-10 15:10:25,836] Trial 211 finished with value: 0.7130003672420125 and parameters: {'feature_0': False, 'feature_1': True, 'feature_2': False, 'feature_3': False, 'feature_4': True, 'feature_5': True, 'feature_6': True, 'feature_7': True, 'feature_8': True, 'feature_9': True, 'feature_10': False, 'feature_11': True, 'feature_12': True, 'feature_13': False, 'feature_14': False, 'feature_15': False, 'feature_16': True, 'feature_17': False, 'feature_18': False, 'feature_19': True, 'feature_20': False, 'feature_21': True, 'feature_22': True}. Best is trial 36 with value: 0.7130003672420125.\n"
     ]
    },
    {
     "name": "stdout",
     "output_type": "stream",
     "text": [
      "Model trained.\n"
     ]
    },
    {
     "name": "stderr",
     "output_type": "stream",
     "text": [
      "[I 2024-04-10 15:10:37,779] Trial 212 finished with value: 0.7130003672420125 and parameters: {'feature_0': False, 'feature_1': True, 'feature_2': False, 'feature_3': False, 'feature_4': True, 'feature_5': True, 'feature_6': True, 'feature_7': True, 'feature_8': True, 'feature_9': True, 'feature_10': False, 'feature_11': True, 'feature_12': True, 'feature_13': False, 'feature_14': False, 'feature_15': False, 'feature_16': True, 'feature_17': False, 'feature_18': False, 'feature_19': True, 'feature_20': False, 'feature_21': True, 'feature_22': True}. Best is trial 36 with value: 0.7130003672420125.\n"
     ]
    },
    {
     "name": "stdout",
     "output_type": "stream",
     "text": [
      "Model trained.\n"
     ]
    },
    {
     "name": "stderr",
     "output_type": "stream",
     "text": [
      "[I 2024-04-10 15:10:49,565] Trial 213 finished with value: 0.7130003672420125 and parameters: {'feature_0': False, 'feature_1': True, 'feature_2': False, 'feature_3': False, 'feature_4': True, 'feature_5': True, 'feature_6': True, 'feature_7': True, 'feature_8': True, 'feature_9': True, 'feature_10': False, 'feature_11': True, 'feature_12': True, 'feature_13': False, 'feature_14': False, 'feature_15': False, 'feature_16': True, 'feature_17': False, 'feature_18': False, 'feature_19': True, 'feature_20': False, 'feature_21': True, 'feature_22': True}. Best is trial 36 with value: 0.7130003672420125.\n"
     ]
    },
    {
     "name": "stdout",
     "output_type": "stream",
     "text": [
      "Model trained.\n"
     ]
    },
    {
     "name": "stderr",
     "output_type": "stream",
     "text": [
      "[I 2024-04-10 15:11:01,563] Trial 214 finished with value: 0.7130003672420125 and parameters: {'feature_0': False, 'feature_1': True, 'feature_2': False, 'feature_3': False, 'feature_4': True, 'feature_5': True, 'feature_6': True, 'feature_7': True, 'feature_8': True, 'feature_9': True, 'feature_10': False, 'feature_11': True, 'feature_12': True, 'feature_13': False, 'feature_14': False, 'feature_15': False, 'feature_16': True, 'feature_17': False, 'feature_18': False, 'feature_19': True, 'feature_20': False, 'feature_21': True, 'feature_22': True}. Best is trial 36 with value: 0.7130003672420125.\n"
     ]
    },
    {
     "name": "stdout",
     "output_type": "stream",
     "text": [
      "Model trained.\n"
     ]
    },
    {
     "name": "stderr",
     "output_type": "stream",
     "text": [
      "[I 2024-04-10 15:11:13,290] Trial 215 finished with value: 0.7130003672420125 and parameters: {'feature_0': False, 'feature_1': True, 'feature_2': False, 'feature_3': False, 'feature_4': True, 'feature_5': True, 'feature_6': True, 'feature_7': True, 'feature_8': True, 'feature_9': True, 'feature_10': False, 'feature_11': True, 'feature_12': True, 'feature_13': False, 'feature_14': False, 'feature_15': False, 'feature_16': True, 'feature_17': False, 'feature_18': False, 'feature_19': True, 'feature_20': False, 'feature_21': True, 'feature_22': True}. Best is trial 36 with value: 0.7130003672420125.\n"
     ]
    },
    {
     "name": "stdout",
     "output_type": "stream",
     "text": [
      "Model trained.\n"
     ]
    },
    {
     "name": "stderr",
     "output_type": "stream",
     "text": [
      "[I 2024-04-10 15:11:26,253] Trial 216 finished with value: 0.7130003672420125 and parameters: {'feature_0': False, 'feature_1': True, 'feature_2': False, 'feature_3': False, 'feature_4': True, 'feature_5': True, 'feature_6': True, 'feature_7': True, 'feature_8': True, 'feature_9': True, 'feature_10': False, 'feature_11': True, 'feature_12': True, 'feature_13': False, 'feature_14': False, 'feature_15': False, 'feature_16': True, 'feature_17': False, 'feature_18': False, 'feature_19': True, 'feature_20': False, 'feature_21': True, 'feature_22': True}. Best is trial 36 with value: 0.7130003672420125.\n"
     ]
    },
    {
     "name": "stdout",
     "output_type": "stream",
     "text": [
      "Model trained.\n"
     ]
    },
    {
     "name": "stderr",
     "output_type": "stream",
     "text": [
      "[I 2024-04-10 15:11:38,221] Trial 217 finished with value: 0.6873287347632997 and parameters: {'feature_0': False, 'feature_1': True, 'feature_2': False, 'feature_3': False, 'feature_4': True, 'feature_5': True, 'feature_6': True, 'feature_7': True, 'feature_8': False, 'feature_9': True, 'feature_10': False, 'feature_11': True, 'feature_12': True, 'feature_13': False, 'feature_14': False, 'feature_15': False, 'feature_16': True, 'feature_17': False, 'feature_18': False, 'feature_19': True, 'feature_20': False, 'feature_21': True, 'feature_22': True}. Best is trial 36 with value: 0.7130003672420125.\n"
     ]
    },
    {
     "name": "stdout",
     "output_type": "stream",
     "text": [
      "Model trained.\n"
     ]
    },
    {
     "name": "stderr",
     "output_type": "stream",
     "text": [
      "[I 2024-04-10 15:11:51,441] Trial 218 finished with value: 0.7037240873234268 and parameters: {'feature_0': False, 'feature_1': True, 'feature_2': False, 'feature_3': False, 'feature_4': True, 'feature_5': True, 'feature_6': True, 'feature_7': True, 'feature_8': True, 'feature_9': True, 'feature_10': False, 'feature_11': True, 'feature_12': True, 'feature_13': False, 'feature_14': False, 'feature_15': False, 'feature_16': True, 'feature_17': False, 'feature_18': False, 'feature_19': True, 'feature_20': True, 'feature_21': True, 'feature_22': True}. Best is trial 36 with value: 0.7130003672420125.\n"
     ]
    },
    {
     "name": "stdout",
     "output_type": "stream",
     "text": [
      "Model trained.\n"
     ]
    },
    {
     "name": "stderr",
     "output_type": "stream",
     "text": [
      "[I 2024-04-10 15:12:04,041] Trial 219 finished with value: 0.7044376221043819 and parameters: {'feature_0': False, 'feature_1': True, 'feature_2': False, 'feature_3': True, 'feature_4': True, 'feature_5': True, 'feature_6': True, 'feature_7': True, 'feature_8': True, 'feature_9': True, 'feature_10': False, 'feature_11': False, 'feature_12': True, 'feature_13': False, 'feature_14': False, 'feature_15': False, 'feature_16': True, 'feature_17': False, 'feature_18': False, 'feature_19': True, 'feature_20': False, 'feature_21': True, 'feature_22': True}. Best is trial 36 with value: 0.7130003672420125.\n"
     ]
    },
    {
     "name": "stdout",
     "output_type": "stream",
     "text": [
      "Model trained.\n"
     ]
    },
    {
     "name": "stderr",
     "output_type": "stream",
     "text": [
      "[I 2024-04-10 15:12:14,815] Trial 220 finished with value: 0.7130003672420125 and parameters: {'feature_0': False, 'feature_1': True, 'feature_2': False, 'feature_3': False, 'feature_4': True, 'feature_5': True, 'feature_6': True, 'feature_7': True, 'feature_8': True, 'feature_9': True, 'feature_10': False, 'feature_11': True, 'feature_12': True, 'feature_13': False, 'feature_14': False, 'feature_15': False, 'feature_16': True, 'feature_17': False, 'feature_18': False, 'feature_19': True, 'feature_20': False, 'feature_21': False, 'feature_22': True}. Best is trial 36 with value: 0.7130003672420125.\n"
     ]
    },
    {
     "name": "stdout",
     "output_type": "stream",
     "text": [
      "Model trained.\n"
     ]
    },
    {
     "name": "stderr",
     "output_type": "stream",
     "text": [
      "[I 2024-04-10 15:12:26,973] Trial 221 finished with value: 0.7130003672420125 and parameters: {'feature_0': False, 'feature_1': True, 'feature_2': False, 'feature_3': False, 'feature_4': True, 'feature_5': True, 'feature_6': True, 'feature_7': True, 'feature_8': True, 'feature_9': True, 'feature_10': False, 'feature_11': True, 'feature_12': True, 'feature_13': False, 'feature_14': False, 'feature_15': False, 'feature_16': True, 'feature_17': False, 'feature_18': False, 'feature_19': True, 'feature_20': False, 'feature_21': True, 'feature_22': True}. Best is trial 36 with value: 0.7130003672420125.\n"
     ]
    },
    {
     "name": "stdout",
     "output_type": "stream",
     "text": [
      "Model trained.\n"
     ]
    },
    {
     "name": "stderr",
     "output_type": "stream",
     "text": [
      "[I 2024-04-10 15:12:39,571] Trial 222 finished with value: 0.7130003672420125 and parameters: {'feature_0': False, 'feature_1': True, 'feature_2': False, 'feature_3': False, 'feature_4': True, 'feature_5': True, 'feature_6': True, 'feature_7': True, 'feature_8': True, 'feature_9': True, 'feature_10': False, 'feature_11': True, 'feature_12': True, 'feature_13': False, 'feature_14': False, 'feature_15': False, 'feature_16': True, 'feature_17': False, 'feature_18': False, 'feature_19': True, 'feature_20': False, 'feature_21': True, 'feature_22': True}. Best is trial 36 with value: 0.7130003672420125.\n"
     ]
    },
    {
     "name": "stdout",
     "output_type": "stream",
     "text": [
      "Model trained.\n"
     ]
    },
    {
     "name": "stderr",
     "output_type": "stream",
     "text": [
      "[I 2024-04-10 15:12:51,655] Trial 223 finished with value: 0.7130003672420125 and parameters: {'feature_0': False, 'feature_1': True, 'feature_2': False, 'feature_3': False, 'feature_4': True, 'feature_5': True, 'feature_6': True, 'feature_7': True, 'feature_8': True, 'feature_9': True, 'feature_10': False, 'feature_11': True, 'feature_12': True, 'feature_13': False, 'feature_14': False, 'feature_15': False, 'feature_16': True, 'feature_17': False, 'feature_18': False, 'feature_19': True, 'feature_20': False, 'feature_21': True, 'feature_22': True}. Best is trial 36 with value: 0.7130003672420125.\n"
     ]
    },
    {
     "name": "stdout",
     "output_type": "stream",
     "text": [
      "Model trained.\n"
     ]
    },
    {
     "name": "stderr",
     "output_type": "stream",
     "text": [
      "[I 2024-04-10 15:13:04,056] Trial 224 finished with value: 0.7130003672420125 and parameters: {'feature_0': False, 'feature_1': True, 'feature_2': False, 'feature_3': False, 'feature_4': True, 'feature_5': True, 'feature_6': True, 'feature_7': True, 'feature_8': True, 'feature_9': True, 'feature_10': False, 'feature_11': True, 'feature_12': True, 'feature_13': False, 'feature_14': False, 'feature_15': False, 'feature_16': True, 'feature_17': False, 'feature_18': False, 'feature_19': True, 'feature_20': False, 'feature_21': True, 'feature_22': True}. Best is trial 36 with value: 0.7130003672420125.\n"
     ]
    },
    {
     "name": "stdout",
     "output_type": "stream",
     "text": [
      "Model trained.\n"
     ]
    },
    {
     "name": "stderr",
     "output_type": "stream",
     "text": [
      "[I 2024-04-10 15:13:16,590] Trial 225 finished with value: 0.7130003672420125 and parameters: {'feature_0': False, 'feature_1': True, 'feature_2': False, 'feature_3': False, 'feature_4': True, 'feature_5': True, 'feature_6': True, 'feature_7': True, 'feature_8': True, 'feature_9': True, 'feature_10': False, 'feature_11': True, 'feature_12': True, 'feature_13': False, 'feature_14': False, 'feature_15': False, 'feature_16': True, 'feature_17': False, 'feature_18': False, 'feature_19': True, 'feature_20': False, 'feature_21': True, 'feature_22': True}. Best is trial 36 with value: 0.7130003672420125.\n"
     ]
    },
    {
     "name": "stdout",
     "output_type": "stream",
     "text": [
      "Model trained.\n"
     ]
    },
    {
     "name": "stderr",
     "output_type": "stream",
     "text": [
      "[I 2024-04-10 15:13:29,260] Trial 226 finished with value: 0.7130003672420125 and parameters: {'feature_0': False, 'feature_1': True, 'feature_2': False, 'feature_3': False, 'feature_4': True, 'feature_5': True, 'feature_6': True, 'feature_7': True, 'feature_8': True, 'feature_9': True, 'feature_10': False, 'feature_11': True, 'feature_12': True, 'feature_13': False, 'feature_14': False, 'feature_15': False, 'feature_16': True, 'feature_17': False, 'feature_18': False, 'feature_19': True, 'feature_20': False, 'feature_21': True, 'feature_22': True}. Best is trial 36 with value: 0.7130003672420125.\n"
     ]
    },
    {
     "name": "stdout",
     "output_type": "stream",
     "text": [
      "Model trained.\n"
     ]
    },
    {
     "name": "stderr",
     "output_type": "stream",
     "text": [
      "[I 2024-04-10 15:13:42,529] Trial 227 finished with value: 0.6927122464312547 and parameters: {'feature_0': False, 'feature_1': True, 'feature_2': False, 'feature_3': False, 'feature_4': True, 'feature_5': True, 'feature_6': True, 'feature_7': True, 'feature_8': True, 'feature_9': False, 'feature_10': False, 'feature_11': True, 'feature_12': False, 'feature_13': True, 'feature_14': True, 'feature_15': False, 'feature_16': True, 'feature_17': False, 'feature_18': True, 'feature_19': True, 'feature_20': False, 'feature_21': True, 'feature_22': False}. Best is trial 36 with value: 0.7130003672420125.\n"
     ]
    },
    {
     "name": "stdout",
     "output_type": "stream",
     "text": [
      "Model trained.\n"
     ]
    },
    {
     "name": "stderr",
     "output_type": "stream",
     "text": [
      "[I 2024-04-10 15:13:58,172] Trial 228 finished with value: 0.705956338154703 and parameters: {'feature_0': False, 'feature_1': True, 'feature_2': True, 'feature_3': False, 'feature_4': True, 'feature_5': True, 'feature_6': True, 'feature_7': True, 'feature_8': True, 'feature_9': True, 'feature_10': False, 'feature_11': True, 'feature_12': True, 'feature_13': False, 'feature_14': False, 'feature_15': True, 'feature_16': True, 'feature_17': False, 'feature_18': False, 'feature_19': True, 'feature_20': False, 'feature_21': True, 'feature_22': True}. Best is trial 36 with value: 0.7130003672420125.\n"
     ]
    },
    {
     "name": "stdout",
     "output_type": "stream",
     "text": [
      "Model trained.\n"
     ]
    },
    {
     "name": "stderr",
     "output_type": "stream",
     "text": [
      "[I 2024-04-10 15:14:10,572] Trial 229 finished with value: 0.6985864113087096 and parameters: {'feature_0': False, 'feature_1': True, 'feature_2': False, 'feature_3': False, 'feature_4': False, 'feature_5': True, 'feature_6': True, 'feature_7': True, 'feature_8': True, 'feature_9': True, 'feature_10': False, 'feature_11': True, 'feature_12': True, 'feature_13': False, 'feature_14': False, 'feature_15': False, 'feature_16': True, 'feature_17': False, 'feature_18': False, 'feature_19': True, 'feature_20': False, 'feature_21': True, 'feature_22': True}. Best is trial 36 with value: 0.7130003672420125.\n"
     ]
    },
    {
     "name": "stdout",
     "output_type": "stream",
     "text": [
      "Model trained.\n"
     ]
    },
    {
     "name": "stderr",
     "output_type": "stream",
     "text": [
      "[I 2024-04-10 15:14:22,450] Trial 230 finished with value: 0.7083599234205489 and parameters: {'feature_0': False, 'feature_1': True, 'feature_2': False, 'feature_3': False, 'feature_4': True, 'feature_5': True, 'feature_6': True, 'feature_7': False, 'feature_8': True, 'feature_9': True, 'feature_10': False, 'feature_11': True, 'feature_12': True, 'feature_13': False, 'feature_14': False, 'feature_15': False, 'feature_16': True, 'feature_17': False, 'feature_18': False, 'feature_19': True, 'feature_20': False, 'feature_21': True, 'feature_22': True}. Best is trial 36 with value: 0.7130003672420125.\n"
     ]
    },
    {
     "name": "stdout",
     "output_type": "stream",
     "text": [
      "Model trained.\n"
     ]
    },
    {
     "name": "stderr",
     "output_type": "stream",
     "text": [
      "[I 2024-04-10 15:14:36,032] Trial 231 finished with value: 0.7130003672420125 and parameters: {'feature_0': False, 'feature_1': True, 'feature_2': False, 'feature_3': False, 'feature_4': True, 'feature_5': True, 'feature_6': True, 'feature_7': True, 'feature_8': True, 'feature_9': True, 'feature_10': False, 'feature_11': True, 'feature_12': True, 'feature_13': False, 'feature_14': False, 'feature_15': False, 'feature_16': True, 'feature_17': False, 'feature_18': False, 'feature_19': True, 'feature_20': False, 'feature_21': True, 'feature_22': True}. Best is trial 36 with value: 0.7130003672420125.\n"
     ]
    },
    {
     "name": "stdout",
     "output_type": "stream",
     "text": [
      "Model trained.\n"
     ]
    },
    {
     "name": "stderr",
     "output_type": "stream",
     "text": [
      "[I 2024-04-10 15:14:49,545] Trial 232 finished with value: 0.7130003672420125 and parameters: {'feature_0': False, 'feature_1': True, 'feature_2': False, 'feature_3': False, 'feature_4': True, 'feature_5': True, 'feature_6': True, 'feature_7': True, 'feature_8': True, 'feature_9': True, 'feature_10': False, 'feature_11': True, 'feature_12': True, 'feature_13': False, 'feature_14': False, 'feature_15': False, 'feature_16': True, 'feature_17': False, 'feature_18': False, 'feature_19': True, 'feature_20': False, 'feature_21': True, 'feature_22': True}. Best is trial 36 with value: 0.7130003672420125.\n"
     ]
    },
    {
     "name": "stdout",
     "output_type": "stream",
     "text": [
      "Model trained.\n"
     ]
    },
    {
     "name": "stderr",
     "output_type": "stream",
     "text": [
      "[I 2024-04-10 15:15:03,867] Trial 233 finished with value: 0.7130003672420125 and parameters: {'feature_0': False, 'feature_1': True, 'feature_2': False, 'feature_3': False, 'feature_4': True, 'feature_5': True, 'feature_6': True, 'feature_7': True, 'feature_8': True, 'feature_9': True, 'feature_10': False, 'feature_11': True, 'feature_12': True, 'feature_13': False, 'feature_14': False, 'feature_15': False, 'feature_16': True, 'feature_17': False, 'feature_18': False, 'feature_19': True, 'feature_20': False, 'feature_21': True, 'feature_22': True}. Best is trial 36 with value: 0.7130003672420125.\n"
     ]
    },
    {
     "name": "stdout",
     "output_type": "stream",
     "text": [
      "Model trained.\n"
     ]
    },
    {
     "name": "stderr",
     "output_type": "stream",
     "text": [
      "[I 2024-04-10 15:15:21,581] Trial 234 finished with value: 0.7130003672420125 and parameters: {'feature_0': False, 'feature_1': True, 'feature_2': False, 'feature_3': False, 'feature_4': True, 'feature_5': True, 'feature_6': True, 'feature_7': True, 'feature_8': True, 'feature_9': True, 'feature_10': False, 'feature_11': True, 'feature_12': True, 'feature_13': False, 'feature_14': False, 'feature_15': False, 'feature_16': True, 'feature_17': False, 'feature_18': False, 'feature_19': True, 'feature_20': False, 'feature_21': True, 'feature_22': True}. Best is trial 36 with value: 0.7130003672420125.\n"
     ]
    },
    {
     "name": "stdout",
     "output_type": "stream",
     "text": [
      "Model trained.\n"
     ]
    },
    {
     "name": "stderr",
     "output_type": "stream",
     "text": [
      "[I 2024-04-10 15:15:39,307] Trial 235 finished with value: 0.7130003672420125 and parameters: {'feature_0': False, 'feature_1': True, 'feature_2': False, 'feature_3': False, 'feature_4': True, 'feature_5': True, 'feature_6': True, 'feature_7': True, 'feature_8': True, 'feature_9': True, 'feature_10': False, 'feature_11': True, 'feature_12': True, 'feature_13': False, 'feature_14': False, 'feature_15': False, 'feature_16': True, 'feature_17': False, 'feature_18': False, 'feature_19': True, 'feature_20': False, 'feature_21': True, 'feature_22': True}. Best is trial 36 with value: 0.7130003672420125.\n"
     ]
    },
    {
     "name": "stdout",
     "output_type": "stream",
     "text": [
      "Model trained.\n"
     ]
    },
    {
     "name": "stderr",
     "output_type": "stream",
     "text": [
      "[I 2024-04-10 15:15:53,016] Trial 236 finished with value: 0.7130003672420125 and parameters: {'feature_0': False, 'feature_1': True, 'feature_2': False, 'feature_3': False, 'feature_4': True, 'feature_5': True, 'feature_6': True, 'feature_7': True, 'feature_8': True, 'feature_9': True, 'feature_10': False, 'feature_11': True, 'feature_12': True, 'feature_13': False, 'feature_14': False, 'feature_15': False, 'feature_16': True, 'feature_17': False, 'feature_18': False, 'feature_19': True, 'feature_20': False, 'feature_21': True, 'feature_22': True}. Best is trial 36 with value: 0.7130003672420125.\n"
     ]
    },
    {
     "name": "stdout",
     "output_type": "stream",
     "text": [
      "Model trained.\n"
     ]
    },
    {
     "name": "stderr",
     "output_type": "stream",
     "text": [
      "[I 2024-04-10 15:16:05,588] Trial 237 finished with value: 0.7130003672420125 and parameters: {'feature_0': False, 'feature_1': True, 'feature_2': False, 'feature_3': False, 'feature_4': True, 'feature_5': True, 'feature_6': True, 'feature_7': True, 'feature_8': True, 'feature_9': True, 'feature_10': False, 'feature_11': True, 'feature_12': True, 'feature_13': False, 'feature_14': False, 'feature_15': False, 'feature_16': True, 'feature_17': False, 'feature_18': False, 'feature_19': True, 'feature_20': False, 'feature_21': True, 'feature_22': True}. Best is trial 36 with value: 0.7130003672420125.\n"
     ]
    },
    {
     "name": "stdout",
     "output_type": "stream",
     "text": [
      "Model trained.\n"
     ]
    },
    {
     "name": "stderr",
     "output_type": "stream",
     "text": [
      "[I 2024-04-10 15:16:17,726] Trial 238 finished with value: 0.6968070076292738 and parameters: {'feature_0': False, 'feature_1': False, 'feature_2': False, 'feature_3': False, 'feature_4': True, 'feature_5': True, 'feature_6': True, 'feature_7': True, 'feature_8': True, 'feature_9': True, 'feature_10': False, 'feature_11': True, 'feature_12': True, 'feature_13': False, 'feature_14': False, 'feature_15': False, 'feature_16': True, 'feature_17': False, 'feature_18': False, 'feature_19': True, 'feature_20': False, 'feature_21': True, 'feature_22': True}. Best is trial 36 with value: 0.7130003672420125.\n"
     ]
    },
    {
     "name": "stdout",
     "output_type": "stream",
     "text": [
      "Model trained.\n"
     ]
    },
    {
     "name": "stderr",
     "output_type": "stream",
     "text": [
      "[I 2024-04-10 15:16:30,404] Trial 239 finished with value: 0.7130003672420125 and parameters: {'feature_0': False, 'feature_1': True, 'feature_2': False, 'feature_3': False, 'feature_4': True, 'feature_5': True, 'feature_6': True, 'feature_7': True, 'feature_8': True, 'feature_9': True, 'feature_10': False, 'feature_11': True, 'feature_12': True, 'feature_13': False, 'feature_14': False, 'feature_15': False, 'feature_16': True, 'feature_17': False, 'feature_18': False, 'feature_19': True, 'feature_20': False, 'feature_21': True, 'feature_22': True}. Best is trial 36 with value: 0.7130003672420125.\n"
     ]
    },
    {
     "name": "stdout",
     "output_type": "stream",
     "text": [
      "Model trained.\n"
     ]
    },
    {
     "name": "stderr",
     "output_type": "stream",
     "text": [
      "[I 2024-04-10 15:16:42,447] Trial 240 finished with value: 0.7130003672420125 and parameters: {'feature_0': False, 'feature_1': True, 'feature_2': False, 'feature_3': False, 'feature_4': True, 'feature_5': True, 'feature_6': True, 'feature_7': True, 'feature_8': True, 'feature_9': True, 'feature_10': False, 'feature_11': True, 'feature_12': True, 'feature_13': False, 'feature_14': False, 'feature_15': False, 'feature_16': True, 'feature_17': False, 'feature_18': False, 'feature_19': True, 'feature_20': False, 'feature_21': True, 'feature_22': True}. Best is trial 36 with value: 0.7130003672420125.\n"
     ]
    },
    {
     "name": "stdout",
     "output_type": "stream",
     "text": [
      "Model trained.\n"
     ]
    },
    {
     "name": "stderr",
     "output_type": "stream",
     "text": [
      "[I 2024-04-10 15:16:54,621] Trial 241 finished with value: 0.7130003672420125 and parameters: {'feature_0': False, 'feature_1': True, 'feature_2': False, 'feature_3': False, 'feature_4': True, 'feature_5': True, 'feature_6': True, 'feature_7': True, 'feature_8': True, 'feature_9': True, 'feature_10': False, 'feature_11': True, 'feature_12': True, 'feature_13': False, 'feature_14': False, 'feature_15': False, 'feature_16': True, 'feature_17': False, 'feature_18': False, 'feature_19': True, 'feature_20': False, 'feature_21': True, 'feature_22': True}. Best is trial 36 with value: 0.7130003672420125.\n"
     ]
    },
    {
     "name": "stdout",
     "output_type": "stream",
     "text": [
      "Model trained.\n"
     ]
    },
    {
     "name": "stderr",
     "output_type": "stream",
     "text": [
      "[I 2024-04-10 15:17:07,444] Trial 242 finished with value: 0.7130003672420125 and parameters: {'feature_0': False, 'feature_1': True, 'feature_2': False, 'feature_3': False, 'feature_4': True, 'feature_5': True, 'feature_6': True, 'feature_7': True, 'feature_8': True, 'feature_9': True, 'feature_10': False, 'feature_11': True, 'feature_12': True, 'feature_13': False, 'feature_14': False, 'feature_15': False, 'feature_16': True, 'feature_17': False, 'feature_18': False, 'feature_19': True, 'feature_20': False, 'feature_21': True, 'feature_22': True}. Best is trial 36 with value: 0.7130003672420125.\n"
     ]
    },
    {
     "name": "stdout",
     "output_type": "stream",
     "text": [
      "Model trained.\n"
     ]
    },
    {
     "name": "stderr",
     "output_type": "stream",
     "text": [
      "[I 2024-04-10 15:17:19,952] Trial 243 finished with value: 0.7130003672420125 and parameters: {'feature_0': False, 'feature_1': True, 'feature_2': False, 'feature_3': False, 'feature_4': True, 'feature_5': True, 'feature_6': True, 'feature_7': True, 'feature_8': True, 'feature_9': True, 'feature_10': False, 'feature_11': True, 'feature_12': True, 'feature_13': False, 'feature_14': False, 'feature_15': False, 'feature_16': True, 'feature_17': False, 'feature_18': False, 'feature_19': True, 'feature_20': False, 'feature_21': True, 'feature_22': True}. Best is trial 36 with value: 0.7130003672420125.\n"
     ]
    },
    {
     "name": "stdout",
     "output_type": "stream",
     "text": [
      "Model trained.\n"
     ]
    },
    {
     "name": "stderr",
     "output_type": "stream",
     "text": [
      "[I 2024-04-10 15:17:33,546] Trial 244 finished with value: 0.7130003672420125 and parameters: {'feature_0': False, 'feature_1': True, 'feature_2': False, 'feature_3': False, 'feature_4': True, 'feature_5': True, 'feature_6': True, 'feature_7': True, 'feature_8': True, 'feature_9': True, 'feature_10': False, 'feature_11': True, 'feature_12': True, 'feature_13': False, 'feature_14': False, 'feature_15': False, 'feature_16': True, 'feature_17': False, 'feature_18': False, 'feature_19': True, 'feature_20': False, 'feature_21': True, 'feature_22': True}. Best is trial 36 with value: 0.7130003672420125.\n"
     ]
    },
    {
     "name": "stdout",
     "output_type": "stream",
     "text": [
      "Model trained.\n"
     ]
    },
    {
     "name": "stderr",
     "output_type": "stream",
     "text": [
      "[I 2024-04-10 15:17:48,404] Trial 245 finished with value: 0.7130003672420125 and parameters: {'feature_0': False, 'feature_1': True, 'feature_2': False, 'feature_3': False, 'feature_4': True, 'feature_5': True, 'feature_6': True, 'feature_7': True, 'feature_8': True, 'feature_9': True, 'feature_10': False, 'feature_11': True, 'feature_12': True, 'feature_13': False, 'feature_14': False, 'feature_15': False, 'feature_16': True, 'feature_17': False, 'feature_18': False, 'feature_19': True, 'feature_20': False, 'feature_21': True, 'feature_22': True}. Best is trial 36 with value: 0.7130003672420125.\n"
     ]
    },
    {
     "name": "stdout",
     "output_type": "stream",
     "text": [
      "Model trained.\n"
     ]
    },
    {
     "name": "stderr",
     "output_type": "stream",
     "text": [
      "[I 2024-04-10 15:18:04,264] Trial 246 finished with value: 0.7002015935490065 and parameters: {'feature_0': False, 'feature_1': True, 'feature_2': False, 'feature_3': False, 'feature_4': True, 'feature_5': True, 'feature_6': True, 'feature_7': True, 'feature_8': True, 'feature_9': True, 'feature_10': False, 'feature_11': True, 'feature_12': True, 'feature_13': False, 'feature_14': False, 'feature_15': False, 'feature_16': True, 'feature_17': False, 'feature_18': False, 'feature_19': False, 'feature_20': False, 'feature_21': True, 'feature_22': True}. Best is trial 36 with value: 0.7130003672420125.\n"
     ]
    },
    {
     "name": "stdout",
     "output_type": "stream",
     "text": [
      "Model trained.\n"
     ]
    },
    {
     "name": "stderr",
     "output_type": "stream",
     "text": [
      "[I 2024-04-10 15:18:19,725] Trial 247 finished with value: 0.664841182913472 and parameters: {'feature_0': True, 'feature_1': True, 'feature_2': False, 'feature_3': False, 'feature_4': True, 'feature_5': False, 'feature_6': True, 'feature_7': True, 'feature_8': True, 'feature_9': True, 'feature_10': True, 'feature_11': True, 'feature_12': True, 'feature_13': False, 'feature_14': False, 'feature_15': False, 'feature_16': False, 'feature_17': False, 'feature_18': False, 'feature_19': True, 'feature_20': False, 'feature_21': True, 'feature_22': True}. Best is trial 36 with value: 0.7130003672420125.\n"
     ]
    },
    {
     "name": "stdout",
     "output_type": "stream",
     "text": [
      "Model trained.\n"
     ]
    },
    {
     "name": "stderr",
     "output_type": "stream",
     "text": [
      "[I 2024-04-10 15:18:34,873] Trial 248 finished with value: 0.7130003672420125 and parameters: {'feature_0': False, 'feature_1': True, 'feature_2': False, 'feature_3': False, 'feature_4': True, 'feature_5': True, 'feature_6': True, 'feature_7': True, 'feature_8': True, 'feature_9': True, 'feature_10': False, 'feature_11': True, 'feature_12': True, 'feature_13': False, 'feature_14': False, 'feature_15': False, 'feature_16': True, 'feature_17': False, 'feature_18': False, 'feature_19': True, 'feature_20': False, 'feature_21': True, 'feature_22': True}. Best is trial 36 with value: 0.7130003672420125.\n"
     ]
    },
    {
     "name": "stdout",
     "output_type": "stream",
     "text": [
      "Model trained.\n"
     ]
    },
    {
     "name": "stderr",
     "output_type": "stream",
     "text": [
      "[I 2024-04-10 15:18:49,124] Trial 249 finished with value: 0.7040702016430173 and parameters: {'feature_0': False, 'feature_1': True, 'feature_2': False, 'feature_3': False, 'feature_4': True, 'feature_5': True, 'feature_6': False, 'feature_7': True, 'feature_8': True, 'feature_9': True, 'feature_10': False, 'feature_11': True, 'feature_12': True, 'feature_13': False, 'feature_14': False, 'feature_15': False, 'feature_16': True, 'feature_17': False, 'feature_18': False, 'feature_19': True, 'feature_20': False, 'feature_21': True, 'feature_22': True}. Best is trial 36 with value: 0.7130003672420125.\n"
     ]
    },
    {
     "name": "stdout",
     "output_type": "stream",
     "text": [
      "Model trained.\n",
      "Best F1 Score: 0.7130003672420125\n",
      "Best features: ['TotalOfferAmtRedeemed', 'TotalCouponRedeem', 'OfferAmt', 'AverageOfferAmtPerVisit', 'AverageSpendPerVisit', 'TotalOfferAmtReceived', 'n-1_spend', 'n-3_spend', 'n-4_spend', 'MinOfferAmt', 'Year', 'Month', 'weekNum']\n"
     ]
    }
   ],
   "source": [
    "study = optuna.create_study(direction='maximize')\n",
    "study.optimize(objective, n_trials=250)\n",
    "\n",
    "# Output the best trial results\n",
    "print(f'Best F1 Score: {study.best_value}')\n",
    "best_features = [feature for feature, use in zip(features, study.best_params.values()) if use]\n",
    "print(f'Best features: {best_features}')\n"
   ]
  },
  {
   "cell_type": "code",
   "execution_count": null,
   "id": "ce1fe1bb-1999-4698-ac85-83aebc9bc3ec",
   "metadata": {},
   "outputs": [],
   "source": []
  }
 ],
 "metadata": {
  "kernelspec": {
   "display_name": "Python (bayes-optimisation)",
   "language": "python",
   "name": "bayes-optimisation"
  },
  "language_info": {
   "codemirror_mode": {
    "name": "ipython",
    "version": 3
   },
   "file_extension": ".py",
   "mimetype": "text/x-python",
   "name": "python",
   "nbconvert_exporter": "python",
   "pygments_lexer": "ipython3",
   "version": "3.9.19"
  }
 },
 "nbformat": 4,
 "nbformat_minor": 5
}
